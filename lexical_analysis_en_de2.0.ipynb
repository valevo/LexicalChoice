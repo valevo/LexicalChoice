{
 "cells": [
  {
   "cell_type": "code",
   "execution_count": 1,
   "metadata": {
    "collapsed": false,
    "scrolled": true
   },
   "outputs": [],
   "source": [
    "import refexps\n",
    "from os import listdir, path\n",
    "from itertools import combinations\n",
    "from collections import defaultdict\n",
    "import numpy as np\n",
    "import nltk\n",
    "from scipy import stats\n",
    "import compound_splitter"
   ]
  },
  {
   "cell_type": "code",
   "execution_count": 3,
   "metadata": {
    "collapsed": false,
    "scrolled": true
   },
   "outputs": [],
   "source": [
    "def compute_values_move(refexps_dir, success_dir, compound = True):\n",
    "    splits = compound_splitter.load_dict('de_lower.dict')\n",
    "    move_alignment = defaultdict(list)\n",
    "    for dialogue in listdir(refexps_dir):\n",
    "        #extract dialogue type\n",
    "        if dialogue.startswith('FTT'):\n",
    "            language = 'german'\n",
    "        else:\n",
    "            language = 'english'\n",
    "        dialogue = path.join(refexps_dir, dialogue)\n",
    "        #load referring expressions data\n",
    "        dialogue = refexps.load_data(dialogue)\n",
    "        #move level\n",
    "        dialogue_move = refexps.move_level(dialogue)\n",
    "        #iterate over moves\n",
    "        for move in dialogue_move:\n",
    "            refs = move[1]\n",
    "            #iterate over objects\n",
    "            for obj in refs:\n",
    "                #iterate over objects\n",
    "                refobj = refs[obj]\n",
    "                #SIMILARITY OF LEXICAL CONTENT INTO\n",
    "                total_words = 0\n",
    "                total_words_speaker = defaultdict(int)\n",
    "                sameword_n = 0\n",
    "                sameword_n_speaker = defaultdict(int)\n",
    "                speakers = set()\n",
    "                prev_words = set()\n",
    "                for ref in refobj:\n",
    "                    speaker = ref[1]\n",
    "                    words = refexps.lex_material(ref, language, splits, compound)\n",
    "                    if prev_words != set():\n",
    "                        for w in words:\n",
    "                            if w in prev_words:\n",
    "                                sameword_n += 1\n",
    "                                sameword_n_speaker[speaker] += 1\n",
    "                    else:\n",
    "                        starter = speaker\n",
    "                        first_words = len(words)\n",
    "                    speakers.add(speaker)\n",
    "                    total_words_speaker[speaker] += len(words)\n",
    "                    total_words += len(words)\n",
    "                    for w in words:\n",
    "                        prev_words.add(w)\n",
    "                if (total_words - first_words) != 0:\n",
    "                    alignment = float(sameword_n)/float(total_words - first_words)\n",
    "                    move_alignment['Alignment'].append(alignment)\n",
    "                for s in speakers:\n",
    "                        if starter == s:\n",
    "                            if (total_words_speaker[s] - first_words) != 0:\n",
    "                                alignment = float(sameword_n_speaker[s])/float(total_words_speaker[s] - first_words)\n",
    "                                move_alignment['Alignment '+s].append(alignment)\n",
    "                        else:\n",
    "                            if(total_words_speaker[s]) != 0:\n",
    "                                alignment = float(sameword_n_speaker[s])/float(total_words_speaker[s])\n",
    "                                move_alignment['Alignment '+s].append(alignment)\n",
    "    for value in move_alignment:\n",
    "        dataset = move_alignment[value]\n",
    "        print '\\t'+ value + ': '\n",
    "        print '\\tMean: '+ str(np.mean(dataset)) +'\\tStandard deviation: '+ str(np.std(dataset))\n",
    "        print '\\tMax value: ' + str(max(dataset)) + '\\tMin value: '+ str(min(dataset))\n",
    "    return move_alignment"
   ]
  },
  {
   "cell_type": "code",
   "execution_count": 4,
   "metadata": {
    "collapsed": false,
    "scrolled": true
   },
   "outputs": [
    {
     "name": "stdout",
     "output_type": "stream",
     "text": [
      "\tAlignment p-utts: \n",
      "\tMean: 0.414674074211\tStandard deviation: 0.357164221722\n",
      "\tMax value: 1.0\tMin value: 0.0\n",
      "\tAlignment: \n",
      "\tMean: 0.41830445152\tStandard deviation: 0.333837777053\n",
      "\tMax value: 1.0\tMin value: 0.0\n",
      "\tAlignment e-utts: \n",
      "\tMean: 0.445911104565\tStandard deviation: 0.393730910318\n",
      "\tMax value: 1.0\tMin value: 0.0\n",
      "\n",
      "\n",
      "\n",
      "\tAlignment p-utts: \n",
      "\tMean: 0.463352753783\tStandard deviation: 0.32780561905\n",
      "\tMax value: 1.0\tMin value: 0.0\n",
      "\tAlignment: \n",
      "\tMean: 0.467999489262\tStandard deviation: 0.325626997383\n",
      "\tMax value: 1.0\tMin value: 0.0\n",
      "\tAlignment e-utts: \n",
      "\tMean: 0.513328748216\tStandard deviation: 0.374278394634\n",
      "\tMax value: 1.0\tMin value: 0.0\n",
      "\n",
      "\n",
      "\n",
      "\tAlignment p-utts: \n",
      "\tMean: 0.430436694263\tStandard deviation: 0.348673763927\n",
      "\tMax value: 1.0\tMin value: 0.0\n",
      "\tAlignment: \n",
      "\tMean: 0.43469762787\tStandard deviation: 0.331975000742\n",
      "\tMax value: 1.0\tMin value: 0.0\n",
      "\tAlignment e-utts: \n",
      "\tMean: 0.46740231848\tStandard deviation: 0.388906933838\n",
      "\tMax value: 1.0\tMin value: 0.0\n"
     ]
    }
   ],
   "source": [
    "de_dataset_dir = 'En_De_Dataset/De/RefExp'\n",
    "de_success_dir = 'En_De_Dataset/De/Success'\n",
    "\n",
    "en_dataset_dir = 'En_De_Dataset/En/RefExp'\n",
    "en_success_dir = 'En_De_Dataset/En/Success'\n",
    "\n",
    "all_dataset_dir = 'En_De_Dataset/All/RefExp'\n",
    "all_success_dir = 'En_De_Dataset/All/Success'\n",
    "\n",
    "results_de = compute_values_move(de_dataset_dir, de_success_dir)\n",
    "print '\\n\\n'\n",
    "results_en = compute_values_move(en_dataset_dir, en_success_dir)\n",
    "print '\\n\\n'\n",
    "results_all = compute_values_move(all_dataset_dir, all_success_dir)"
   ]
  },
  {
   "cell_type": "code",
   "execution_count": 5,
   "metadata": {
    "collapsed": false
   },
   "outputs": [
    {
     "name": "stdout",
     "output_type": "stream",
     "text": [
      "\tAlignment p-utts: \n",
      "\tMean: 0.401525555651\tStandard deviation: 0.353283224575\n",
      "\tMax value: 1.0\tMin value: 0.0\n",
      "\tAlignment: \n",
      "\tMean: 0.409648027501\tStandard deviation: 0.33252809117\n",
      "\tMax value: 1.0\tMin value: 0.0\n",
      "\tAlignment e-utts: \n",
      "\tMean: 0.446232791425\tStandard deviation: 0.397685455074\n",
      "\tMax value: 1.0\tMin value: 0.0\n",
      "\n",
      "\n",
      "\n"
     ]
    }
   ],
   "source": [
    "results_de_nocs = compute_values_move(de_dataset_dir, de_success_dir, compound = False)\n",
    "print '\\n\\n'\n",
    "\n",
    "for var in results_de:\n",
    "    mannwhitneyu =  stats.mannwhitneyu(results_de[var],results_de_nocs[var], alternative='two-sided')\n",
    "    if mannwhitneyu[1] < 0.05:\n",
    "        print var\n",
    "        print str(mannwhitneyu)+'\\tSignificantly different'\n",
    "        print np.mean(results_de[var]), np.mean(results_de_nocs[var])"
   ]
  },
  {
   "cell_type": "code",
   "execution_count": 7,
   "metadata": {
    "collapsed": false
   },
   "outputs": [
    {
     "name": "stdout",
     "output_type": "stream",
     "text": [
      "Differences between languages\n",
      "Alignment\n",
      "MannwhitneyuResult(statistic=22717.5, pvalue=0.037662977390869275)\tSignificantly different\n",
      "\n",
      "\n",
      "Differences between languages without compound splitter\n",
      "Alignment p-utts\n",
      "MannwhitneyuResult(statistic=16974.5, pvalue=0.041222634030500603)\tSignificantly different\n",
      "Alignment\n",
      "MannwhitneyuResult(statistic=22321.0, pvalue=0.018355923827195027)\tSignificantly different\n",
      "\n",
      "\n",
      "Differences between players\n"
     ]
    }
   ],
   "source": [
    "print 'Differences between languages'\n",
    "for var in results_all:\n",
    "    ttest =  stats.mannwhitneyu(results_de[var],results_en[var], alternative='two-sided')\n",
    "    if ttest[1] < 0.05:\n",
    "        print var\n",
    "        print str(ttest)+'\\tSignificantly different'\n",
    "print '\\n'\n",
    "\n",
    "print 'Differences between languages without compound splitter'\n",
    "for var in results_all:\n",
    "    ttest =  stats.mannwhitneyu(results_de_nocs[var],results_en[var], alternative='two-sided')\n",
    "    if ttest[1] < 0.05:\n",
    "        print var\n",
    "        print str(ttest)+'\\tSignificantly different'\n",
    "print '\\n'\n",
    "\n",
    "print 'Differences between players'\n",
    "ttest =  stats.mannwhitneyu(results_de['Alignment e-utts'],results_de['Alignment p-utts'], alternative='two-sided')\n",
    "if ttest[1] < 0.05:\n",
    "    print 'Players move alignment de'\n",
    "    print str(ttest)+'\\tSignificantly different'\n",
    "\n",
    "ttest =  stats.mannwhitneyu(results_en['Alignment e-utts'],results_en['Alignment p-utts'], alternative='two-sided')\n",
    "if ttest[1] < 0.05:\n",
    "    print 'Players move alignment en'\n",
    "    print str(ttest)+'\\tSignificantly different'\n",
    "                                                                        \n",
    "ttest =  stats.mannwhitneyu(results_all['Alignment e-utts'],results_all['Alignment p-utts'], alternative='two-sided')\n",
    "if ttest[1] < 0.05:\n",
    "    print 'Players move alignment all'\n",
    "    print str(ttest)+'\\tSignificantly different'                                                             "
   ]
  },
  {
   "cell_type": "code",
   "execution_count": 25,
   "metadata": {
    "collapsed": false
   },
   "outputs": [],
   "source": [
    "def compute_values_game(refexps_dir, success_dir, compound = True):\n",
    "    splits = compound_splitter.load_dict('de_lower.dict')\n",
    "    game_alignment = defaultdict(list)\n",
    "    for dialogue in listdir(refexps_dir):\n",
    "        if dialogue.startswith('FTT'):\n",
    "            language = 'german'\n",
    "        else:\n",
    "            language = 'english'\n",
    "        dialogue = refexps.load_data(path.join(refexps_dir, dialogue))\n",
    "        dialogue_game = refexps.gamerun_level(dialogue)\n",
    "        for obj in dialogue_game:\n",
    "            refobj = dialogue_game[obj]\n",
    "            total_words = 0\n",
    "            total_words_speaker = defaultdict(int)\n",
    "            sameword_n = 0\n",
    "            sameword_n_speaker = defaultdict(int)\n",
    "            speakers = set()\n",
    "            prev_words = set()\n",
    "            for ref in refobj:\n",
    "                speaker = ref[1]\n",
    "                words = refexps.lex_material(ref, language, splits, compound)\n",
    "                if prev_words != set():\n",
    "                    for w in words:\n",
    "                        if w in prev_words:\n",
    "                            sameword_n += 1\n",
    "                            sameword_n_speaker[speaker] += 1\n",
    "                else:\n",
    "                    starter = speaker\n",
    "                    first_words = len(words)\n",
    "                speakers.add(speaker)\n",
    "                total_words_speaker[speaker] += len(words)\n",
    "                total_words += len(words)\n",
    "                for w in words:\n",
    "                    prev_words.add(w)\n",
    "            if (total_words - first_words) != 0:\n",
    "                alignment = float(sameword_n)/float(total_words - first_words)\n",
    "                game_alignment['Alignment'].append(alignment)\n",
    "            for s in speakers:\n",
    "                if starter == s:\n",
    "                    if (total_words_speaker[s] - first_words) != 0:\n",
    "                        alignment = float(sameword_n_speaker[s])/float(total_words_speaker[s] - first_words)\n",
    "                        game_alignment['Alignment '+s].append(alignment)\n",
    "                else:\n",
    "                    if(total_words_speaker[s]) != 0:\n",
    "                        alignment = float(sameword_n_speaker[s])/float(total_words_speaker[s])\n",
    "                        game_alignment['Alignment '+s].append(alignment)\n",
    "    for value in game_alignment:\n",
    "        dataset = game_alignment[value]\n",
    "        print '\\t'+ value + ': '\n",
    "        print '\\tMean: '+ str(np.mean(dataset)) +'\\tStandard deviation: '+ str(np.std(dataset))\n",
    "        print '\\tMax value: ' + str(max(dataset)) + '\\tMin value: '+ str(min(dataset))\n",
    "    return game_alignment"
   ]
  },
  {
   "cell_type": "code",
   "execution_count": 26,
   "metadata": {
    "collapsed": false
   },
   "outputs": [
    {
     "name": "stdout",
     "output_type": "stream",
     "text": [
      "\tAlignment p-utts: \n",
      "\tMean: 0.387927594512\tStandard deviation: 0.289652044255\n",
      "\tMax value: 1.0\tMin value: 0.0\n",
      "\tAlignment: \n",
      "\tMean: 0.390326706449\tStandard deviation: 0.27498319437\n",
      "\tMax value: 1.0\tMin value: 0.0\n",
      "\tAlignment e-utts: \n",
      "\tMean: 0.455576703235\tStandard deviation: 0.33840588434\n",
      "\tMax value: 1.0\tMin value: 0.0\n",
      "\n",
      "\n",
      "\n",
      "\tAlignment p-utts: \n",
      "\tMean: 0.454685957366\tStandard deviation: 0.280814821686\n",
      "\tMax value: 1.0\tMin value: 0.0\n",
      "\tAlignment: \n",
      "\tMean: 0.447240777605\tStandard deviation: 0.273633548843\n",
      "\tMax value: 1.0\tMin value: 0.0\n",
      "\tAlignment e-utts: \n",
      "\tMean: 0.489036808602\tStandard deviation: 0.317244153296\n",
      "\tMax value: 1.0\tMin value: 0.0\n",
      "\n",
      "\n",
      "\n",
      "\tAlignment p-utts: \n",
      "\tMean: 0.413452850897\tStandard deviation: 0.288137502177\n",
      "\tMax value: 1.0\tMin value: 0.0\n",
      "\tAlignment: \n",
      "\tMean: 0.413367448246\tStandard deviation: 0.275855885221\n",
      "\tMax value: 1.0\tMin value: 0.0\n",
      "\tAlignment e-utts: \n",
      "\tMean: 0.468076167883\tStandard deviation: 0.331055079382\n",
      "\tMax value: 1.0\tMin value: 0.0\n"
     ]
    }
   ],
   "source": [
    "\n",
    "results_de = compute_values_game(de_dataset_dir, de_success_dir)\n",
    "print '\\n\\n'\n",
    "results_en = compute_values_game(en_dataset_dir, en_success_dir)\n",
    "print '\\n\\n'\n",
    "results_all = compute_values_game(all_dataset_dir, all_success_dir)"
   ]
  },
  {
   "cell_type": "code",
   "execution_count": 27,
   "metadata": {
    "collapsed": false
   },
   "outputs": [
    {
     "name": "stdout",
     "output_type": "stream",
     "text": [
      "\tAlignment p-utts: \n",
      "\tMean: 0.376335396505\tStandard deviation: 0.296288221042\n",
      "\tMax value: 1.0\tMin value: 0.0\n",
      "\tAlignment: \n",
      "\tMean: 0.382724993793\tStandard deviation: 0.278859354538\n",
      "\tMax value: 1.0\tMin value: 0.0\n",
      "\tAlignment e-utts: \n",
      "\tMean: 0.453323741071\tStandard deviation: 0.342783603488\n",
      "\tMax value: 1.0\tMin value: 0.0\n",
      "\n",
      "\n",
      "\n"
     ]
    }
   ],
   "source": [
    "results_de_nocs = compute_values_game(de_dataset_dir, de_success_dir, compound = False)\n",
    "print '\\n\\n'\n",
    "\n",
    "for var in results_de:\n",
    "    mannwhitneyu = stats.mannwhitneyu(results_de[var],results_de_nocs[var], alternative='two-sided')\n",
    "    if mannwhitneyu[1] < 0.05:\n",
    "        print var\n",
    "        print str(mannwhitneyu)+'\\tSignificantly different'\n",
    "        print np.mean(results_de[var]), np.mean(results_de_nocs[var])"
   ]
  },
  {
   "cell_type": "code",
   "execution_count": 28,
   "metadata": {
    "collapsed": false
   },
   "outputs": [
    {
     "name": "stdout",
     "output_type": "stream",
     "text": [
      "Differences between languages\n",
      "Alignment p-utts\n",
      "MannwhitneyuResult(statistic=9360.0, pvalue=0.023353231652392621)\tSignificantly different\n",
      "Alignment\n",
      "MannwhitneyuResult(statistic=11360.5, pvalue=0.030849047428130813)\tSignificantly different\n",
      "\n",
      "\n",
      "Differences between languages without compound splitter\n",
      "Alignment p-utts\n",
      "MannwhitneyuResult(statistic=9190.0, pvalue=0.012463278702654667)\tSignificantly different\n",
      "Alignment\n",
      "MannwhitneyuResult(statistic=11199.5, pvalue=0.018760945101500399)\tSignificantly different\n",
      "\n",
      "\n",
      "Differences between players\n"
     ]
    }
   ],
   "source": [
    "print 'Differences between languages'\n",
    "for var in results_all:\n",
    "    ttest =  stats.mannwhitneyu(results_de[var],results_en[var], alternative='two-sided')\n",
    "    if ttest[1] < 0.05:\n",
    "        print var\n",
    "        print str(ttest)+'\\tSignificantly different'\n",
    "print '\\n'\n",
    "\n",
    "print 'Differences between languages without compound splitter'\n",
    "for var in results_all:\n",
    "    ttest =  stats.mannwhitneyu(results_de_nocs[var],results_en[var], alternative='two-sided')\n",
    "    if ttest[1] < 0.05:\n",
    "        print var\n",
    "        print str(ttest)+'\\tSignificantly different'\n",
    "print '\\n'\n",
    "\n",
    "\n",
    "print 'Differences between players'\n",
    "ttest =  stats.mannwhitneyu(results_de['Alignment e-utts'],results_de['Alignment p-utts'], alternative='two-sided')\n",
    "if ttest[1] < 0.05:\n",
    "    print 'Players game alignment de'\n",
    "    print str(ttest)+'\\tSignificantly different'\n",
    "\n",
    "ttest =  stats.mannwhitneyu(results_en['Alignment e-utts'],results_en['Alignment p-utts'], alternative='two-sided')\n",
    "if ttest[1] < 0.05:\n",
    "    print 'Players game alignment en'\n",
    "    print str(ttest)+'\\tSignificantly different'\n",
    "                                                                        \n",
    "ttest =  stats.mannwhitneyu(results_all['Alignment e-utts'],results_all['Alignment p-utts'], alternative='two-sided')\n",
    "if ttest[1] < 0.05:\n",
    "    print 'Players game alignment all'\n",
    "    print str(ttest)+'\\tSignificantly different'                                                               \n",
    "                                                                        "
   ]
  },
  {
   "cell_type": "code",
   "execution_count": null,
   "metadata": {
    "collapsed": false
   },
   "outputs": [],
   "source": []
  },
  {
   "cell_type": "code",
   "execution_count": null,
   "metadata": {
    "collapsed": true
   },
   "outputs": [],
   "source": []
  }
 ],
 "metadata": {
  "anaconda-cloud": {},
  "kernelspec": {
   "display_name": "Python 2",
   "language": "python",
   "name": "python2"
  },
  "language_info": {
   "codemirror_mode": {
    "name": "ipython",
    "version": 2
   },
   "file_extension": ".py",
   "mimetype": "text/x-python",
   "name": "python",
   "nbconvert_exporter": "python",
   "pygments_lexer": "ipython2",
   "version": "2.7.13"
  }
 },
 "nbformat": 4,
 "nbformat_minor": 1
}
