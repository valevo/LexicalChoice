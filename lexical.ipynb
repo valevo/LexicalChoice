{
 "cells": [
  {
   "cell_type": "code",
   "execution_count": 35,
   "metadata": {
    "collapsed": false
   },
   "outputs": [
    {
     "name": "stdout",
     "output_type": "stream",
     "text": [
      "0.0823660647305 0.206573284874\n",
      "0.00817011681079 0.0242151584408\n"
     ]
    }
   ],
   "source": [
    "import refexps\n",
    "from os import listdir, path\n",
    "from itertools import combinations\n",
    "import numpy as np\n",
    "\n",
    "dataset_dir = 'Dataset/Push_to_Talk_Corpus/RefExp'\n",
    "\n",
    "move_level_align = []\n",
    "move_level_coherence = []\n",
    "gamerun_level_align = []\n",
    "gamerun_level_coherence = []\n",
    "\n",
    "playermove_level_align = []\n",
    "playermove_level_coherence = []\n",
    "playergame_level_align = []\n",
    "playergame_level_coherence = []\n",
    "\n",
    "for dialogue in listdir(dataset_dir):\n",
    "    dialogue = path.join(dataset_dir, dialogue)\n",
    "    dialogue = refexps.load_data(dialogue)\n",
    "    #move level\n",
    "    dialogue_move = refexps.move_level(dialogue)\n",
    "    for move in dialogue_move:\n",
    "        refs = move[1]\n",
    "        for obj in refs:\n",
    "            refobj = refs[obj]\n",
    "            sim_align = []\n",
    "            sim_coherence = []\n",
    "            for ref in refobj:\n",
    "                sim = refexps.lex_sim(ref, refexps.get_previous(ref, refobj))\n",
    "                if sim != 'undefined':\n",
    "                    sim_align.append(sim)\n",
    "            sim_align = np.mean(sim_align)\n",
    "            comb_ref = combinations(refobj,2)\n",
    "            for comb in comb_ref:\n",
    "                if comb[0] != comb[1]:\n",
    "                    sim = refexps.lex_sim(comb[0], comb[1])\n",
    "                    if sim != 'undefined':\n",
    "                        sim_coherence.append(sim)\n",
    "            sim_coherence = np.mean(sim_coherence)\n",
    "            if not np.isnan(sim_coherence) :\n",
    "                move_level_coherence.append(sim_coherence)\n",
    "            if not np.isnan(sim_align):\n",
    "                move_level_align.append(sim_align)\n",
    "                \n",
    "print np.var(move_level_coherence), np.mean(move_level_coherence)\n",
    "print np.var(move_level_align), np.mean(move_level_align)"
   ]
  },
  {
   "cell_type": "code",
   "execution_count": null,
   "metadata": {
    "collapsed": true
   },
   "outputs": [],
   "source": []
  }
 ],
 "metadata": {
  "anaconda-cloud": {},
  "kernelspec": {
   "display_name": "Python [conda root]",
   "language": "python",
   "name": "conda-root-py"
  },
  "language_info": {
   "codemirror_mode": {
    "name": "ipython",
    "version": 2
   },
   "file_extension": ".py",
   "mimetype": "text/x-python",
   "name": "python",
   "nbconvert_exporter": "python",
   "pygments_lexer": "ipython2",
   "version": "2.7.12"
  }
 },
 "nbformat": 4,
 "nbformat_minor": 1
}
