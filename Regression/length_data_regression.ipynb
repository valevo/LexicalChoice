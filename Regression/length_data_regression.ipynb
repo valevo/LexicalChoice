{
 "cells": [
  {
   "cell_type": "code",
   "execution_count": 9,
   "metadata": {
    "collapsed": true
   },
   "outputs": [],
   "source": [
    "import refexps\n",
    "from os import listdir, path\n",
    "from itertools import combinations\n",
    "from collections import defaultdict\n",
    "import numpy as np\n",
    "from scipy import stats\n",
    "from refexps import get_previous\n",
    "import pickle\n",
    "from refexps import load_data, move_level, gamerun_level, get_previous #, lex_sim\n",
    "from os import listdir, path\n",
    "from itertools import combinations\n",
    "from collections import defaultdict\n",
    "import numpy as np\n",
    "from scipy import stats\n",
    "import compound_splitter\n",
    "from scipy import stats\n",
    "from nltk import word_tokenize\n",
    "from string import punctuation\n",
    "punct = list(punctuation)\n",
    "import compound_splitter\n",
    "\n",
    "dataset_dir = '../En_De_Dataset/All/RefExp'\n",
    "success_dir = '../En_De_Dataset/All/Success'"
   ]
  },
  {
   "cell_type": "code",
   "execution_count": 10,
   "metadata": {
    "collapsed": true
   },
   "outputs": [],
   "source": [
    "def exp_len(exp, language, splits, compound):\n",
    "    '''\n",
    "    Extract content words by the phrase\n",
    "    :param exp: referring expression tuple\n",
    "    :return: set of content words of the phrase\n",
    "    '''\n",
    "    exp = exp[2]\n",
    "    words = word_tokenize(exp, language)\n",
    "    if compound == True:\n",
    "        if language == 'german':\n",
    "            words_nocomp = []\n",
    "            for w in words:\n",
    "                word = compound_splitter.split_word(w, splits)\n",
    "                words_nocomp = words_nocomp + (word.split(' '))\t\n",
    "                words = words_nocomp\n",
    "    return len(words)\n",
    "\n",
    "def len_div(exp1, exp2, language, splits, compound):\n",
    "    '''\n",
    "    compute dice similarity between the content words in two referring expression\n",
    "    :param exp1: referring expression tuple 1\n",
    "    :param exp2: referring expression tuple 2\n",
    "    :return: dice similarity between the content words in the expressions; undefined if they have none\n",
    "    '''        \n",
    "    len1 = exp_len(exp1, language, splits, compound)    \n",
    "    len2 = exp_len(exp2, language, splits, compound)\n",
    "    if exp1 is 'no_previous' or exp2 is 'no_previous':\n",
    "        return 'undefined'\n",
    "    if len1 + len2 == 0:\n",
    "        return 'undefined'\n",
    "    metric = float(len1 - len2)/float(len1 + len2)\n",
    "    return metric if not np.isnan(metric) and metric > -1  and metric < 1 else 'undefined'"
   ]
  },
  {
   "cell_type": "code",
   "execution_count": 13,
   "metadata": {
    "collapsed": false
   },
   "outputs": [],
   "source": [
    "def data_values_move(refexps_dir, success_dir, compound = True):\n",
    "    splits = compound_splitter.load_dict('../de_lower.dict')\n",
    "    move_level_data = defaultdict(dict)\n",
    "    success_types = set()\n",
    "    for dialogue in listdir(refexps_dir):\n",
    "        #extract dialogue type\n",
    "        success_file = dialogue.replace('refexps', 'movesuccess')\n",
    "        success_file = path.join(success_dir, success_file)\n",
    "        if dialogue.startswith('FTT'):\n",
    "            language = 'german'\n",
    "        else:\n",
    "            language = 'english'\n",
    "        dialogue_path = path.join(refexps_dir, dialogue)\n",
    "        #load referring expressions data\n",
    "        dialogue_path = refexps.load_data(dialogue_path)\n",
    "        success_moves = refexps.load_data(success_file)\n",
    "        #move level\n",
    "        dialogue_move = refexps.move_level(dialogue_path)\n",
    "        #iterate over moves\n",
    "        for move in dialogue_move:\n",
    "            move_id = dialogue + str(move[0])\n",
    "            success = success_moves[move[0]]\n",
    "            refs = move[1]\n",
    "            if success == 'success':\n",
    "                success = 'correct'\n",
    "            if success == 'wrong':\n",
    "                success = 'incorrect'\n",
    "            if success == 'na':\n",
    "                success = 'no_video'\n",
    "            success_types.add(success)\n",
    "            if success == 'no_video':\n",
    "                pass\n",
    "            else:\n",
    "                refs = move[1]\n",
    "                #iterate over objects\n",
    "                for obj in refs:\n",
    "                    #iterate over objects\n",
    "                    refobj = refs[obj]\n",
    "                    #SIMILARITY OF LEXICAL CONTENT INTO\n",
    "                    sim_align = []\n",
    "                    sim_align_speaker = defaultdict(list)\n",
    "                    sim_coherence_speaker = defaultdict(list)\n",
    "                    sim_coherence = []\n",
    "                    for ref in refobj:\n",
    "                        speaker = ref[1]\n",
    "                        sim = len_div(ref, get_previous(ref, refobj), language, splits, compound) ###\n",
    "                        if sim != 'undefined':\n",
    "                            sim_align.append(sim)\n",
    "                            sim_align_speaker[speaker].append(sim)\n",
    "                    sim_align = np.mean(sim_align)\n",
    "                    comb_ref = combinations(refobj,2)\n",
    "                    for comb in comb_ref:\n",
    "                        if comb[0] != comb[1]:\n",
    "                            sim = len_div(comb[0], comb[1], language, splits, compound) ###\n",
    "                            if sim != 'undefined':\n",
    "                                sim_coherence.append(sim)\n",
    "                                sim_coherence_speaker[comb[0][1]].append(sim)\n",
    "                                sim_coherence_speaker[comb[1][1]].append(sim)\n",
    "                    sim_coherence = np.mean(sim_coherence)\n",
    "                    #movelevel coherence and alignment (for each object)\n",
    "                    if not np.isnan(sim_coherence):\n",
    "                        move_level_data['coherence'][move_id] = (sim_coherence, success)\n",
    "                    if not np.isnan(sim_align):\n",
    "                        move_level_data['alignment'][move_id] = (sim_align, success)\n",
    "                    for s in sim_align_speaker:\n",
    "                        if not np.isnan(np.mean(sim_align_speaker[s])):\n",
    "                            move_level_data['alignment '+s.replace('-utts', '')][move_id] = (np.mean(sim_align_speaker[s]), success )\n",
    "                    for s in sim_coherence_speaker:\n",
    "                        if not np.isnan(np.mean(sim_coherence_speaker[s])) :\n",
    "                            move_level_data['coherence '+s.replace('-utts', '')][move_id] = (np.mean(sim_coherence_speaker[s]), success)\n",
    "    return move_level_data\n",
    "\n",
    "move_level_data = data_values_move(dataset_dir, success_dir)\n",
    "data_regression = {}\n",
    "for v in move_level_data:\n",
    "    data_regression[v] = move_level_data[v].values()\n",
    "pickle.dump(data_regression, open('regression_length.p', 'w'))"
   ]
  },
  {
   "cell_type": "code",
   "execution_count": 12,
   "metadata": {
    "collapsed": false
   },
   "outputs": [
    {
     "name": "stdout",
     "output_type": "stream",
     "text": [
      "{'alignment e': [(-0.14285714285714285, 'correct'), (0.0, 'correct'), (0.0, 'correct'), (-0.5, 'not_moved'), (0.10000000000000001, 'not_moved'), (0.0, 'correct'), (0.5, 'correct'), (-0.33333333333333331, 'not_moved'), (-0.33333333333333331, 'not_moved'), (-0.875, 'incorrect'), (0.0, 'correct'), (-0.33333333333333331, 'correct'), (-0.69230769230769229, 'incorrect'), (0.20000000000000001, 'incorrect'), (0.0, 'not_moved'), (0.0, 'correct'), (0.0, 'correct'), (0.16666666666666666, 'correct'), (0.0, 'correct'), (-0.84615384615384615, 'not_moved'), (0.0, 'incorrect'), (0.25, 'incorrect'), (0.5, 'not_moved'), (0.33333333333333331, 'correct'), (0.14285714285714285, 'correct'), (0.5, 'correct'), (0.0, 'not_moved'), (0.34166666666666667, 'correct'), (0.33333333333333331, 'not_moved'), (-0.41666666666666669, 'correct'), (0.33333333333333331, 'not_moved'), (0.5, 'correct'), (0.0, 'not_moved'), (-0.23809523809523811, 'correct'), (0.0, 'correct'), (0.0, 'incorrect'), (0.63636363636363635, 'incorrect'), (-0.33333333333333331, 'correct'), (-0.5, 'incorrect'), (0.42857142857142855, 'correct'), (-0.1111111111111111, 'correct'), (0.33333333333333331, 'not_moved'), (0.0, 'not_moved'), (0.59999999999999998, 'incorrect'), (-0.1111111111111111, 'correct'), (0.0, 'not_moved'), (0.33333333333333331, 'correct'), (-0.46666666666666667, 'correct'), (-0.27272727272727276, 'incorrect'), (0.1388888888888889, 'correct'), (0.42857142857142855, 'correct'), (-0.16666666666666666, 'correct'), (0.20000000000000001, 'not_moved'), (-0.66666666666666663, 'not_moved'), (-0.071111111111111111, 'correct'), (0.5, 'correct'), (-0.33333333333333331, 'correct'), (-0.42857142857142855, 'correct'), (-0.7142857142857143, 'not_moved'), (-0.33333333333333331, 'incorrect'), (-0.16666666666666666, 'correct'), (0.0, 'correct'), (0.5, 'incorrect'), (0.0, 'correct'), (0.0, 'not_moved'), (-0.5, 'not_moved'), (-0.16666666666666666, 'correct'), (0.0, 'correct'), (-0.16666666666666666, 'correct'), (0.085714285714285715, 'correct'), (-0.083333333333333329, 'not_moved'), (-0.076923076923076927, 'correct'), (0.0, 'not_moved'), (-0.5, 'not_moved'), (-0.59999999999999998, 'correct'), (0.20000000000000001, 'correct'), (-0.16666666666666666, 'correct'), (0.0, 'correct'), (0.0, 'correct'), (0.0, 'not_moved'), (0.0, 'correct'), (0.0, 'not_moved'), (-0.5, 'correct'), (-0.14285714285714285, 'not_moved'), (-0.33333333333333331, 'not_moved'), (0.0, 'not_moved'), (0.0, 'correct'), (-0.10000000000000001, 'correct'), (-0.59999999999999998, 'not_moved'), (-0.5, 'not_moved'), (-0.33333333333333331, 'correct'), (-0.34615384615384615, 'not_moved'), (0.5, 'not_moved'), (-0.33333333333333331, 'correct'), (0.0, 'correct'), (0.33333333333333331, 'correct'), (0.5, 'incorrect'), (-0.33333333333333331, 'correct'), (0.0, 'not_moved'), (-0.5, 'correct'), (0.019943019943019946, 'correct'), (-0.046296296296296287, 'incorrect'), (0.25, 'correct')], 'coherence p': [(0.14285714285714285, 'correct'), (0.046137566137566151, 'correct'), (0.16604938271604938, 'correct'), (0.34642857142857142, 'not_moved'), (-0.0074074074074074103, 'not_moved'), (0.33333333333333331, 'correct'), (0.082238034869613841, 'correct'), (-0.59999999999999998, 'not_moved'), (0.0, 'not_moved'), (0.20000000000000001, 'not_moved'), (0.02517482517482518, 'correct'), (0.026151515151515144, 'not_moved'), (0.33333333333333331, 'correct'), (0.16298701298701299, 'incorrect'), (-0.20000000000000001, 'incorrect'), (0.0, 'not_moved'), (0.375, 'correct'), (0.079365079365079361, 'correct'), (5.551115123125783e-18, 'correct'), (0.090555555555555556, 'correct'), (0.34444444444444439, 'not_moved'), (-0.029629629629629627, 'correct'), (-0.15000000000000002, 'correct'), (0.8571428571428571, 'not_moved'), (0.84615384615384615, 'not_moved'), (0.5, 'correct'), (-0.33333333333333331, 'correct'), (-0.5, 'incorrect'), (0.42424242424242425, 'incorrect'), (0.27272727272727271, 'correct'), (0.0, 'not_moved'), (0.083407407407407402, 'correct'), (0.16666666666666666, 'correct'), (0.33333333333333331, 'not_moved'), (-0.27142857142857146, 'correct'), (0.078231292517006806, 'correct'), (0.11375661375661376, 'incorrect'), (0.087368421052631581, 'correct'), (0.75, 'correct'), (0.2132034632034632, 'not_moved'), (0.22222222222222221, 'not_moved'), (0.68518518518518512, 'correct'), (0.081632653061224483, 'not_moved'), (-0.0041666666666666761, 'correct'), (-0.33333333333333331, 'not_moved'), (0.16, 'correct'), (0.093333333333333324, 'correct'), (0.31666666666666665, 'incorrect'), (-0.042760942760942756, 'incorrect'), (0.27272727272727271, 'correct'), (0.0, 'not_moved'), (0.0, 'correct'), (-0.1693121693121693, 'correct'), (0.059999999999999998, 'incorrect'), (0.13333333333333336, 'not_moved'), (0.061111111111111081, 'not_moved'), (-0.0096649069279788145, 'correct'), (-0.020023332742630993, 'incorrect'), (0.16666666666666666, 'correct'), (0.0, 'not_moved'), (-0.079676573426573444, 'correct'), (-0.16418650793650794, 'correct'), (0.13185185185185186, 'correct'), (0.36363636363636365, 'incorrect'), (0.27777777777777779, 'correct'), (-0.42857142857142855, 'correct'), (0.0, 'correct'), (-0.42857142857142855, 'correct'), (-0.044444444444444446, 'not_moved'), (-0.10535714285714284, 'not_moved'), (0.59999999999999998, 'incorrect'), (0.20061728395061731, 'correct'), (0.06965811965811966, 'correct'), (0.29100529100529099, 'correct'), (0.25, 'correct'), (0.0, 'correct'), (0.0, 'not_moved'), (-0.1111111111111111, 'incorrect'), (0.0, 'not_moved'), (-0.33333333333333331, 'correct'), (0.0, 'incorrect'), (-0.16, 'correct'), (0.25, 'not_moved'), (0.60714285714285721, 'not_moved'), (0.24629629629629632, 'correct'), (0.0, 'correct'), (0.06666666666666668, 'correct'), (-0.083306878306878301, 'correct'), (-0.16666666666666666, 'not_moved'), (-0.096727963394630079, 'correct'), (0.22133333333333333, 'not_moved'), (-0.34999999999999998, 'incorrect'), (-0.016666666666666666, 'not_moved'), (-0.59999999999999998, 'correct'), (0.050000000000000003, 'correct'), (0.10606060606060605, 'correct'), (-0.40000000000000002, 'correct'), (0.22887476919734984, 'correct'), (-0.33333333333333331, 'correct'), (0.33333333333333331, 'not_moved'), (-0.5, 'not_moved'), (0.0, 'not_moved'), (0.32329545454545455, 'incorrect'), (0.0, 'correct'), (0.41595441595441596, 'not_moved'), (-0.13333333333333333, 'correct'), (0.34761904761904761, 'not_moved'), (-0.7142857142857143, 'correct'), (0.25, 'not_moved'), (0.066666666666666666, 'correct'), (-0.12222222222222223, 'not_moved'), (0.0, 'correct'), (0.18333333333333332, 'correct'), (-0.59999999999999998, 'not_moved'), (0.0, 'not_moved'), (0.5, 'not_moved'), (0.022222222222222223, 'incorrect'), (0.20833333333333331, 'correct'), (0.58760683760683763, 'not_moved'), (0.17181818181818184, 'not_moved'), (0.22222222222222221, 'correct'), (0.032777777777777774, 'correct'), (0.0093294460641399467, 'correct'), (0.20248638992982884, 'incorrect'), (-0.20000000000000001, 'correct'), (0.20666666666666667, 'correct'), (0.22222222222222221, 'correct'), (0.5, 'correct'), (-0.19924840072208494, 'correct'), (0.16666666666666666, 'not_moved'), (-0.013483519404572031, 'incorrect'), (-0.013333333333333334, 'correct'), (0.22546356421356423, 'correct'), (0.15580952380952381, 'not_moved'), (0.21111111111111111, 'not_moved'), (0.17999999999999999, 'correct'), (0.11904761904761904, 'not_moved')], 'coherence': [(0.14285714285714285, 'correct'), (-0.0048148148148148126, 'correct'), (0.31111111111111106, 'correct'), (0.41428571428571431, 'not_moved'), (-0.010370370370370372, 'not_moved'), (0.25, 'correct'), (0.068656197603566047, 'correct'), (-0.59999999999999998, 'not_moved'), (0.0, 'not_moved'), (0.20000000000000001, 'not_moved'), (0.03699633699633699, 'correct'), (-0.20000000000000001, 'not_moved'), (0.33333333333333331, 'correct'), (0.16298701298701296, 'incorrect'), (-0.13333333333333333, 'incorrect'), (0.0, 'not_moved'), (0.33333333333333331, 'correct'), (0.071428571428571425, 'correct'), (1.1102230246251566e-17, 'correct'), (0.05170940170940172, 'correct'), (0.34444444444444439, 'not_moved'), (0.013333333333333336, 'correct'), (-0.13333333333333333, 'correct'), (0.8571428571428571, 'not_moved'), (0.5641025641025641, 'not_moved'), (0.5, 'correct'), (-0.33333333333333331, 'correct'), (-0.5, 'incorrect'), (0.42424242424242425, 'incorrect'), (0.27272727272727271, 'correct'), (0.0, 'not_moved'), (0.0, 'not_moved'), (0.0, 'correct'), (0.16666666666666666, 'correct'), (0.33333333333333331, 'not_moved'), (-0.27186147186147186, 'correct'), (0.0, 'correct'), (0.041666666666666664, 'correct'), (0.014444444444444442, 'incorrect'), (0.087368421052631581, 'correct'), (0.75, 'correct'), (0.11440940012368582, 'not_moved'), (0.22222222222222221, 'not_moved'), (0.7142857142857143, 'correct'), (0.53703703703703709, 'correct'), (0.071428571428571425, 'not_moved'), (-0.073333333333333334, 'correct'), (-0.33333333333333331, 'not_moved'), (0.10666666666666666, 'correct'), (0.093333333333333324, 'correct'), (0.21111111111111111, 'incorrect'), (-0.10505050505050505, 'incorrect'), (0.034090909090909081, 'correct'), (-0.7142857142857143, 'not_moved'), (0.0, 'correct'), (-0.14550264550264547, 'correct'), (0.060000000000000012, 'incorrect'), (0.13333333333333333, 'not_moved'), (0.03333333333333334, 'not_moved'), (0.02172609525550703, 'correct'), (-0.020023332742630993, 'incorrect'), (0.11904761904761904, 'correct'), (0.0, 'not_moved'), (-0.08378658378658381, 'correct'), (-0.13373015873015873, 'correct'), (0.13185185185185183, 'correct'), (0.23376623376623376, 'incorrect'), (0.25, 'correct'), (-0.42857142857142855, 'correct'), (0.018518518518518517, 'correct'), (-0.42857142857142855, 'correct'), (0.0, 'correct'), (-0.066666666666666666, 'not_moved'), (-0.064285714285714279, 'not_moved'), (0.59999999999999998, 'incorrect'), (0.18759259259259262, 'correct'), (0.052014652014652024, 'correct'), (0.27248677248677244, 'correct'), (0.25, 'correct'), (0.0, 'correct'), (0.0, 'not_moved'), (-0.055555555555555552, 'incorrect'), (0.0, 'not_moved'), (-0.33333333333333331, 'correct'), (0.0, 'incorrect'), (-0.16000000000000003, 'correct'), (0.33333333333333331, 'not_moved'), (0.51587301587301593, 'not_moved'), (0.14603174603174601, 'correct'), (0.0, 'correct'), (0.066666666666666652, 'correct'), (-0.099841269841269842, 'correct'), (-0.16666666666666666, 'not_moved'), (-0.090378140378140362, 'correct'), (0.23111111111111113, 'not_moved'), (-0.34444444444444439, 'incorrect'), (-0.016666666666666666, 'not_moved'), (-0.59999999999999998, 'correct'), (0.0, 'correct'), (0.075757575757575746, 'correct'), (-0.40000000000000002, 'correct'), (0.26471163245356794, 'correct'), (-0.33333333333333331, 'correct'), (0.33333333333333331, 'not_moved'), (-0.5, 'not_moved'), (0.0, 'not_moved'), (0.49772727272727274, 'incorrect'), (0.0, 'correct'), (0.45299145299145299, 'not_moved'), (-0.13333333333333333, 'correct'), (0.31428571428571428, 'not_moved'), (-0.7142857142857143, 'correct'), (0.25, 'not_moved'), (0.066666666666666666, 'correct'), (-0.12222222222222223, 'not_moved'), (0.0, 'correct'), (0.18333333333333332, 'correct'), (-0.59999999999999998, 'not_moved'), (-0.33333333333333331, 'correct'), (0.5, 'not_moved'), (0.022222222222222223, 'incorrect'), (0.20000000000000001, 'correct'), (0.50427350427350437, 'not_moved'), (0.082424242424242442, 'not_moved'), (0.22222222222222221, 'correct'), (0.032777777777777774, 'correct'), (-0.022959183673469382, 'correct'), (0.15809566430122346, 'incorrect'), (-0.20000000000000001, 'correct'), (0.20666666666666664, 'correct'), (0.22222222222222221, 'correct'), (0.5, 'correct'), (-0.18894076683550368, 'correct'), (0.16666666666666666, 'not_moved'), (0.0014245014245014241, 'incorrect'), (-0.013333333333333334, 'correct'), (0.21752691752691758, 'correct'), (0.12507936507936507, 'not_moved'), (0.21111111111111111, 'not_moved'), (0.17999999999999999, 'correct'), (-0.12698412698412698, 'correct'), (0.18095238095238092, 'not_moved')], 'alignment p': [(-0.1111111111111111, 'correct'), (0.0083333333333333315, 'correct'), (-0.5, 'correct'), (0.25, 'correct'), (-0.35714285714285715, 'correct'), (0.33333333333333331, 'not_moved'), (0.0, 'correct'), (-0.16666666666666666, 'not_moved'), (0.16666666666666666, 'not_moved'), (-0.5, 'correct'), (0.0, 'not_moved'), (0.052631578947368418, 'correct'), (0.089285714285714288, 'correct'), (0.0, 'correct'), (0.7142857142857143, 'not_moved'), (0.33333333333333331, 'incorrect'), (-0.75, 'correct'), (-0.55555555555555558, 'not_moved'), (0.42857142857142855, 'correct'), (-0.33333333333333331, 'not_moved'), (0.16666666666666666, 'not_moved'), (0.0, 'correct'), (0.0, 'not_moved'), (-0.40000000000000002, 'correct'), (0.33333333333333331, 'not_moved'), (0.26666666666666666, 'not_moved'), (-0.20000000000000001, 'correct'), (-0.5, 'not_moved'), (0.5, 'not_moved'), (-0.5, 'not_moved'), (0.15555555555555556, 'correct'), (0.055555555555555559, 'incorrect'), (0.0, 'correct'), (0.75, 'correct'), (0.5714285714285714, 'correct'), (-0.33333333333333331, 'incorrect'), (-0.5, 'correct'), (-0.80000000000000004, 'incorrect'), (0.0, 'correct'), (0.0, 'correct'), (0.0, 'correct'), (0.25, 'incorrect'), (0.0, 'correct'), (0.0, 'correct'), (0.0, 'correct'), (-0.33333333333333331, 'not_moved'), (-0.8571428571428571, 'not_moved'), (0.0, 'correct'), (-0.59999999999999998, 'correct'), (-0.5, 'incorrect'), (0.0, 'correct'), (0.0, 'not_moved'), (-0.20000000000000001, 'not_moved'), (0.33333333333333331, 'correct'), (0.35416666666666669, 'correct'), (-0.5, 'not_moved'), (0.5, 'incorrect'), (0.20000000000000001, 'incorrect'), (-0.33333333333333331, 'incorrect'), (0.16666666666666666, 'incorrect'), (0.66666666666666663, 'not_moved'), (-0.14285714285714285, 'correct'), (0.16666666666666666, 'correct'), (0.0, 'incorrect'), (-0.33333333333333331, 'correct'), (0.46666666666666667, 'correct'), (0.7142857142857143, 'correct'), (-0.083333333333333343, 'correct'), (0.0, 'incorrect'), (0.20000000000000001, 'correct'), (-0.33333333333333331, 'correct'), (0.5, 'correct'), (0.33333333333333331, 'correct'), (0.33333333333333331, 'correct'), (0.25, 'correct'), (0.0, 'correct'), (-0.7142857142857143, 'correct'), (0.42857142857142855, 'not_moved')], 'coherence e': [(0.14285714285714285, 'correct'), (-0.055767195767195764, 'correct'), (0.31111111111111112, 'correct'), (0.55000000000000004, 'not_moved'), (-0.014814814814814817, 'not_moved'), (0.16666666666666666, 'correct'), (0.027910685805422664, 'correct'), (0.0, 'not_moved'), (0.22222222222222221, 'not_moved'), (-0.012898212898212901, 'not_moved'), (0.080341880341880348, 'correct'), (-0.20000000000000001, 'not_moved'), (0.33333333333333331, 'correct'), (-0.33750000000000002, 'incorrect'), (-0.10000000000000001, 'incorrect'), (0.0, 'not_moved'), (0.25, 'correct'), (0.047619047619047616, 'correct'), (0.15873015873015872, 'correct'), (-0.077777777777777779, 'correct'), (0.40000000000000002, 'correct'), (-0.10000000000000001, 'correct'), (0.8571428571428571, 'not_moved'), (0.42307692307692307, 'not_moved'), (0.25, 'correct'), (-0.33333333333333331, 'correct'), (-0.5, 'incorrect'), (0.21181630546955624, 'incorrect'), (-0.055555555555555566, 'not_moved'), (-0.33333333333333331, 'not_moved'), (0.0, 'correct'), (-0.27207792207792209, 'correct'), (0.0, 'correct'), (-0.21428571428571427, 'correct'), (-0.02811791383219955, 'incorrect'), (-0.05130585904395428, 'correct'), (-0.017316017316017326, 'not_moved'), (-0.25, 'not_moved'), (0.3888888888888889, 'correct'), (0.0, 'not_moved'), (-0.34999999999999998, 'correct'), (-0.20000000000000001, 'not_moved'), (0.079999999999999988, 'correct'), (-0.5714285714285714, 'correct'), (0.21111111111111114, 'incorrect'), (-0.47878787878787871, 'incorrect'), (-0.025568181818181823, 'correct'), (-0.7142857142857143, 'not_moved'), (-0.42857142857142855, 'correct'), (-0.07407407407407407, 'correct'), (-0.32000000000000001, 'not_moved'), (-0.13333333333333333, 'not_moved'), (0.09235585016835017, 'correct'), (-0.15200588884799404, 'incorrect'), (0.071428571428571425, 'correct'), (0.0, 'not_moved'), (-0.11666666666666667, 'correct'), (-0.072817460317460336, 'correct'), (0.13636363636363638, 'incorrect'), (0.16666666666666666, 'correct'), (-0.42857142857142855, 'correct'), (0.033333333333333333, 'correct'), (0.0, 'correct'), (-0.13333333333333333, 'not_moved'), (0.19642857142857142, 'not_moved'), (0.17084656084656086, 'correct'), (-0.053846153846153835, 'correct'), (0.25396825396825395, 'correct'), (0.11428571428571427, 'correct'), (0.7142857142857143, 'correct'), (0.0, 'not_moved'), (-0.037037037037037035, 'incorrect'), (0.19372637944066515, 'correct'), (-0.0033936651583710287, 'incorrect'), (0.0, 'correct'), (0.375, 'not_moved'), (0.47023809523809523, 'not_moved'), (0.070833333333333345, 'correct'), (0.0, 'correct'), (0.093333333333333324, 'correct'), (-0.14944444444444441, 'correct'), (0.12564935064935065, 'not_moved'), (-0.071328671328671323, 'correct'), (0.27999999999999997, 'not_moved'), (-0.34166666666666662, 'incorrect'), (-0.02777777777777778, 'not_moved'), (0.29999999999999999, 'correct'), (-0.10000000000000001, 'correct'), (0.060606060606060601, 'correct'), (0.31846692733789506, 'correct'), (0.1111111111111111, 'correct'), (0.0, 'not_moved'), (0.84659090909090917, 'incorrect'), (0.0, 'correct'), (0.46533713200379867, 'not_moved'), (0.38888888888888884, 'correct'), (0.21428571428571427, 'not_moved'), (-0.7142857142857143, 'correct'), (-0.028571428571428571, 'not_moved'), (-0.037777777777777778, 'not_moved'), (0.0, 'correct'), (0.16476190476190475, 'correct'), (-0.33333333333333331, 'correct'), (0.5, 'not_moved'), (0.16666666666666666, 'correct'), (0.42094017094017094, 'not_moved'), (-0.09636363636363636, 'not_moved'), (0.22222222222222221, 'correct'), (0.066666666666666666, 'correct'), (-0.24897959183673471, 'correct'), (-0.0046703296703296737, 'incorrect'), (0.35619047619047617, 'correct'), (-0.036904761904761905, 'not_moved'), (0.5, 'correct'), (-0.13740259740259742, 'correct'), (0.020717234262125902, 'incorrect'), (-0.5, 'correct'), (0.19107142857142859, 'correct'), (-0.12698412698412698, 'correct')], 'alignment': [(-0.14285714285714285, 'correct'), (0.0, 'correct'), (0.16666666666666666, 'correct'), (-0.5, 'not_moved'), (0.17777777777777778, 'not_moved'), (0.0, 'correct'), (0.27631578947368418, 'correct'), (-0.33333333333333331, 'not_moved'), (-0.33333333333333331, 'not_moved'), (-0.875, 'incorrect'), (0.0, 'correct'), (0.0, 'not_moved'), (-0.33333333333333331, 'correct'), (-0.69230769230769229, 'incorrect'), (0.20000000000000001, 'incorrect'), (0.0, 'not_moved'), (0.0, 'correct'), (0.0, 'correct'), (-0.16666666666666666, 'correct'), (0.10000000000000001, 'correct'), (-0.5, 'correct'), (0.0, 'correct'), (-0.8571428571428571, 'not_moved'), (-0.84615384615384615, 'not_moved'), (0.0, 'correct'), (0.33333333333333331, 'correct'), (0.5, 'incorrect'), (0.25, 'incorrect'), (0.5, 'not_moved'), (0.0, 'correct'), (0.14285714285714285, 'correct'), (-0.10714285714285715, 'correct'), (-0.5, 'incorrect'), (-0.0077380952380952453, 'correct'), (0.16666666666666666, 'not_moved'), (-0.58333333333333337, 'correct'), (0.0, 'not_moved'), (0.5, 'correct'), (0.0, 'not_moved'), (-0.20000000000000001, 'correct'), (0.5714285714285714, 'correct'), (-0.16666666666666666, 'incorrect'), (-0.081818181818181845, 'incorrect'), (-0.33333333333333331, 'correct'), (0.0, 'not_moved'), (0.42857142857142855, 'correct'), (-0.055555555555555552, 'correct'), (0.16666666666666666, 'not_moved'), (0.1111111111111111, 'not_moved'), (0.13333333333333333, 'incorrect'), (0.0, 'correct'), (0.0, 'not_moved'), (0.0, 'correct'), (0.0, 'correct'), (-0.16363636363636364, 'incorrect'), (0.22500000000000001, 'correct'), (0.42857142857142855, 'correct'), (0.0, 'correct'), (0.20000000000000001, 'not_moved'), (-0.11904761904761904, 'not_moved'), (-0.03580246913580247, 'correct'), (0.0, 'correct'), (-0.33333333333333331, 'correct'), (-0.11428571428571427, 'correct'), (0.0, 'not_moved'), (0.0, 'incorrect'), (0.1388888888888889, 'correct'), (0.0, 'correct'), (0.5, 'incorrect'), (0.0, 'correct'), (-0.25, 'not_moved'), (-0.5, 'not_moved'), (-0.1111111111111111, 'correct'), (0.0, 'correct'), (-0.1111111111111111, 'correct'), (0.087499999999999994, 'correct'), (-0.11904761904761904, 'not_moved'), (-0.076923076923076927, 'correct'), (-0.10000000000000001, 'not_moved'), (0.20000000000000001, 'incorrect'), (0.083333333333333315, 'not_moved'), (-0.59999999999999998, 'correct'), (0.20000000000000001, 'correct'), (0.0, 'correct'), (0.0, 'correct'), (0.0, 'correct'), (0.0, 'not_moved'), (0.0, 'correct'), (-0.27777777777777779, 'not_moved'), (-0.5, 'correct'), (-0.071428571428571425, 'not_moved'), (0.7142857142857143, 'correct'), (0.0, 'not_moved'), (0.17777777777777778, 'not_moved'), (0.0, 'correct'), (-0.25, 'correct'), (-0.59999999999999998, 'not_moved'), (-0.5, 'not_moved'), (-0.16666666666666666, 'correct'), (-0.34188034188034183, 'not_moved'), (0.5, 'not_moved'), (-0.16666666666666666, 'correct'), (0.0, 'correct'), (-0.13333333333333333, 'correct'), (0.0, 'incorrect'), (-0.33333333333333331, 'correct'), (-0.5, 'not_moved'), (-0.5, 'correct'), (-0.14285714285714285, 'correct'), (-0.023148148148148143, 'incorrect'), (0.083333333333333329, 'correct')]}\n"
     ]
    }
   ],
   "source": [
    "print data_regression"
   ]
  },
  {
   "cell_type": "code",
   "execution_count": null,
   "metadata": {
    "collapsed": true
   },
   "outputs": [],
   "source": []
  }
 ],
 "metadata": {
  "kernelspec": {
   "display_name": "Python 2",
   "language": "python",
   "name": "python2"
  },
  "language_info": {
   "codemirror_mode": {
    "name": "ipython",
    "version": 2
   },
   "file_extension": ".py",
   "mimetype": "text/x-python",
   "name": "python",
   "nbconvert_exporter": "python",
   "pygments_lexer": "ipython2",
   "version": "2.7.13"
  }
 },
 "nbformat": 4,
 "nbformat_minor": 2
}
