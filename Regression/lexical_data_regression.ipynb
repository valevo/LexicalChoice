{
 "cells": [
  {
   "cell_type": "code",
   "execution_count": 27,
   "metadata": {
    "collapsed": false
   },
   "outputs": [],
   "source": [
    "import refexps\n",
    "from os import listdir, path\n",
    "from itertools import combinations\n",
    "from collections import defaultdict\n",
    "import numpy as np\n",
    "from scipy import stats\n",
    "import pickle\n",
    "import compound_splitter\n",
    "\n",
    "dataset_dir = '../En_De_Dataset/All/RefExp'\n",
    "success_dir = '../En_De_Dataset/All/Success'"
   ]
  },
  {
   "cell_type": "code",
   "execution_count": null,
   "metadata": {
    "collapsed": false
   },
   "outputs": [],
   "source": [
    "\n",
    "def data_values_move(refexps_dir, success_dir, compound = True):\n",
    "    splits = compound_splitter.load_dict('../de_lower.dict')\n",
    "    move_level_data = defaultdict(dict)\n",
    "    success_types = set()\n",
    "    for dialogue in listdir(refexps_dir):\n",
    "        #extract dialogue type\n",
    "        success_file = dialogue.replace('refexps', 'movesuccess')\n",
    "        success_file = path.join(success_dir, success_file)\n",
    "        if dialogue.startswith('FTT'):\n",
    "            language = 'german'\n",
    "        else:\n",
    "            language = 'english'\n",
    "        dialogue_path = path.join(refexps_dir, dialogue)\n",
    "        #load referring expressions data\n",
    "        dialogue_path = refexps.load_data(dialogue_path)\n",
    "        success_moves = refexps.load_data(success_file)\n",
    "        #move level\n",
    "        dialogue_move = refexps.move_level(dialogue_path)\n",
    "        #iterate over moves\n",
    "        for move in dialogue_move:\n",
    "            move_id = dialogue + str(move[0])\n",
    "            success = success_moves[move[0]]\n",
    "            refs = move[1]\n",
    "            if success == 'success':\n",
    "                success = 'correct'\n",
    "            if success == 'wrong':\n",
    "                success = 'incorrect'\n",
    "            if success == 'na':\n",
    "                success = 'no_video'\n",
    "            success_types.add(success)\n",
    "            if success == 'no_video':\n",
    "                pass\n",
    "            else:\n",
    "                #iterate over objects\n",
    "                for obj in refs:\n",
    "                    #iterate over objects\n",
    "                    refobj = refs[obj]\n",
    "                    #SIMILARITY OF LEXICAL CONTENT INTO\n",
    "                    sim_align = []\n",
    "                    sim_align_speaker = defaultdict(list)\n",
    "                    sim_coherence_speaker = defaultdict(list)\n",
    "                    sim_coherence = []\n",
    "                    for ref in refobj:\n",
    "                        speaker = ref[1]\n",
    "                        sim = refexps.lex_sim(ref, refexps.get_previous(ref, refobj), language, splits, compound)\n",
    "                        if sim != 'undefined':\n",
    "                            sim_align.append(sim)\n",
    "                            sim_align_speaker[speaker].append(sim)\n",
    "                    sim_align = np.mean(sim_align)\n",
    "                    comb_ref = combinations(refobj,2)\n",
    "                    for comb in comb_ref:\n",
    "                        if comb[0] != comb[1]:\n",
    "                            sim = refexps.lex_sim(comb[0], comb[1], language, splits, compound)\n",
    "                            if sim != 'undefined':\n",
    "                                sim_coherence.append(sim)\n",
    "                                sim_coherence_speaker[comb[0][1]].append(sim)\n",
    "                                sim_coherence_speaker[comb[1][1]].append(sim)\n",
    "                    sim_coherence = np.mean(sim_coherence)\n",
    "                    #movelevel coherence and alignment (for each object)\n",
    "                    if not np.isnan(sim_coherence):\n",
    "                        move_level_data['coherence'][move_id] = (sim_coherence, success)\n",
    "                    if not np.isnan(sim_align):\n",
    "                        move_level_data['alignment'][move_id] = (sim_align, success)\n",
    "                    for s in sim_align_speaker:\n",
    "                        if not np.isnan(np.mean(sim_align_speaker[s])):\n",
    "                            move_level_data['alignment '+s.replace('-utts', '')][move_id] = (np.mean(sim_align_speaker[s]), success )\n",
    "                    for s in sim_coherence_speaker:\n",
    "                        if not np.isnan(np.mean(sim_coherence_speaker[s])) :\n",
    "                            move_level_data['coherence '+s.replace('-utts', '')][move_id] = (np.mean(sim_coherence_speaker[s]), success)\n",
    "    return move_level_data\n",
    "\n",
    "move_level_data = data_values_move(dataset_dir, success_dir)\n",
    "data_regression = {}\n",
    "for v in move_level_data:\n",
    "    data_regression[v] = move_level_data[v].values()\n",
    "pickle.dump(data_regression, open('regression_lexical.p', 'w'))"
   ]
  },
  {
   "cell_type": "code",
   "execution_count": null,
   "metadata": {
    "collapsed": true
   },
   "outputs": [],
   "source": []
  },
  {
   "cell_type": "code",
   "execution_count": null,
   "metadata": {
    "collapsed": true
   },
   "outputs": [],
   "source": []
  }
 ],
 "metadata": {
  "anaconda-cloud": {},
  "kernelspec": {
   "display_name": "Python 2",
   "language": "python",
   "name": "python2"
  },
  "language_info": {
   "codemirror_mode": {
    "name": "ipython",
    "version": 2
   },
   "file_extension": ".py",
   "mimetype": "text/x-python",
   "name": "python",
   "nbconvert_exporter": "python",
   "pygments_lexer": "ipython2",
   "version": "2.7.13"
  }
 },
 "nbformat": 4,
 "nbformat_minor": 1
}
