{
 "cells": [
  {
   "cell_type": "code",
   "execution_count": 2,
   "metadata": {
    "collapsed": true
   },
   "outputs": [],
   "source": [
    "import refexps\n",
    "from os import listdir, path\n",
    "from itertools import combinations\n",
    "from collections import defaultdict\n",
    "import numpy as np\n",
    "from scipy import stats\n",
    "import pickle\n",
    "\n",
    "dataset_dir = 'Dataset/Push_to_Talk_Corpus/RefExp'\n",
    "success_dir = 'Dataset/Push_to_Talk_Corpus/Success'"
   ]
  },
  {
   "cell_type": "code",
   "execution_count": 3,
   "metadata": {
    "collapsed": false
   },
   "outputs": [],
   "source": [
    "move_level_data = {'alignment e':{}, 'alignment p': {}, 'coherence e':{}, 'coherence p': {}}\n",
    "success_types = set()\n",
    "for dialogue in listdir(dataset_dir):\n",
    "    success_file = dialogue.replace('refexps', 'movesuccess')\n",
    "    success_file = path.join(success_dir, success_file)\n",
    "    dialogue_path = path.join(dataset_dir, dialogue)\n",
    "    #load referring expressions data\n",
    "    dialogue_data = refexps.load_data(dialogue_path)\n",
    "    success_moves = refexps.load_data(success_file)\n",
    "    dialogue_move = refexps.move_level(dialogue_data)\n",
    "    for move in dialogue_move:\n",
    "        move_id = dialogue + str(move[0])\n",
    "        refs = move[1]\n",
    "        success = success_moves[move[0]]\n",
    "        if success == 'no_video':\n",
    "            continue\n",
    "        success_types.add(success)\n",
    "        for obj in refs:\n",
    "            align_speaker = {}\n",
    "            total_n = len(refs[obj])\n",
    "            sameform_n =0\n",
    "            ignore = 0\n",
    "            entropy_speaker = defaultdict(int)\n",
    "            total_n_speaker = defaultdict(int)\n",
    "            sameform_n_speaker = defaultdict(int)\n",
    "            ignore_speaker = defaultdict(int)\n",
    "            obj_forms_speaker = defaultdict(dict)\n",
    "            obj_forms = defaultdict(int)\n",
    "            for ref in refs[obj]:\n",
    "                obj_forms[ref[3]] += 1\n",
    "                speaker = ref[1]\n",
    "                if not obj_forms_speaker[speaker].has_key(ref[3]):\n",
    "                    obj_forms_speaker[speaker][ref[3]] = 0\n",
    "                obj_forms_speaker[speaker][ref[3]] += 1\n",
    "                align_speaker[speaker] = 0\n",
    "                total_n_speaker[speaker] +=1\n",
    "                if refexps.get_previous(ref, refs[obj]) == 'no_previous':\n",
    "                        ignore += 1\n",
    "                        ignore_speaker[speaker] += 1\n",
    "                else: \n",
    "                    if ref[3] == refexps.get_previous(ref, refs[obj])[3]:\n",
    "                        sameform_n +=1\n",
    "                        sameform_n_speaker[speaker] += 1\n",
    "            sum_forms = sum(obj_forms.values())\n",
    "            for form in obj_forms:\n",
    "                obj_forms[form] = float(obj_forms[form])/float(sum_forms)\n",
    "            obj_forms = obj_forms.values()\n",
    "            variation = stats.entropy(obj_forms)\n",
    "            #movelevel variation and alignment (for each object)\n",
    "            ntotal_n = total_n - ignore\n",
    "            for s in align_speaker:\n",
    "                ntotal_n = total_n_speaker[s] - ignore_speaker[s]\n",
    "                if ntotal_n != 0:\n",
    "                    align = float(sameform_n_speaker[s]) / ntotal_n \n",
    "                    move_level_data['alignment '+ s.replace('-utts', '')][move_id] = (align, success)\n",
    "            variation_speaker = {}\n",
    "            for s in obj_forms_speaker:\n",
    "                sum_forms = sum(obj_forms_speaker[s].values())\n",
    "                for form in obj_forms_speaker[s]:\n",
    "                    obj_forms_speaker[s][form] = float(obj_forms_speaker[s][form])/float(sum_forms)\n",
    "                obj_forms_speaker[s] = obj_forms_speaker[s].values()\n",
    "                variation_speaker[s] = stats.entropy(obj_forms_speaker[s])\n",
    "            for s in variation_speaker:\n",
    "                move_level_data['coherence '+ s.replace('-utts','')][move_id] = (variation_speaker[s], success)\n",
    "pickle.dump(move_level_data, open('regression_form.p', 'w'))"
   ]
  },
  {
   "cell_type": "code",
   "execution_count": null,
   "metadata": {
    "collapsed": false
   },
   "outputs": [],
   "source": []
  },
  {
   "cell_type": "code",
   "execution_count": null,
   "metadata": {
    "collapsed": true
   },
   "outputs": [],
   "source": []
  }
 ],
 "metadata": {
  "anaconda-cloud": {},
  "kernelspec": {
   "display_name": "Python 2",
   "language": "python",
   "name": "python2"
  },
  "language_info": {
   "codemirror_mode": {
    "name": "ipython",
    "version": 2
   },
   "file_extension": ".py",
   "mimetype": "text/x-python",
   "name": "python",
   "nbconvert_exporter": "python",
   "pygments_lexer": "ipython2",
   "version": "2.7.12"
  }
 },
 "nbformat": 4,
 "nbformat_minor": 1
}
