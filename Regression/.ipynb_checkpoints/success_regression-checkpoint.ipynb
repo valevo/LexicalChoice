{
 "cells": [
  {
   "cell_type": "code",
   "execution_count": 2,
   "metadata": {
    "collapsed": true
   },
   "outputs": [],
   "source": [
    "import pickle\n",
    "from collections import Counter\n",
    "import numpy as np\n",
    "from scipy import stats\n",
    "import matplotlib.pyplot as plt\n",
    "from sklearn.linear_model import LogisticRegression\n",
    "from DataObjs import Corpus, success_transform, confidence_transform"
   ]
  },
  {
   "cell_type": "code",
   "execution_count": 3,
   "metadata": {
    "collapsed": true
   },
   "outputs": [],
   "source": [
    "with open('Data/data_regression.p') as handle:\n",
    "    raw_data = pickle.load(handle)\n",
    "    \n",
    "# length, lex, form -> all, p, e\n",
    "# data point = (sccss_str, conf_str, ([], [], []), ([], [], []), ([], [], []))     \n",
    "    \n",
    "# nonoise\n",
    "data_en = Corpus(raw_data[1], succs_map=success_transform, conf_map=confidence_transform)\n",
    "# FTT\n",
    "data_de = Corpus(raw_data[0], succs_map=success_transform, conf_map=confidence_transform) \n",
    "\n",
    "data_all = Corpus(dict(raw_data[0], **raw_data[1]), succs_map=success_transform, conf_map=confidence_transform)"
   ]
  },
  {
   "cell_type": "code",
   "execution_count": 4,
   "metadata": {
    "collapsed": false
   },
   "outputs": [
    {
     "name": "stdout",
     "output_type": "stream",
     "text": [
      "(200, 1) (200, 1)\n",
      "[[ -6.56652079e-01   7.43419272e-04   3.98672668e-02   7.48735464e-03\n",
      "    1.60914758e-03   1.94414988e-04   2.78098189e-05   1.32732154e-06\n",
      "    3.74816183e-08  -5.88095636e-08  -1.85651548e-08  -4.36803124e-09\n",
      "   -7.55388219e-10  -1.33164846e-10  -7.05722034e-12   0.00000000e+00\n",
      "    0.00000000e+00   0.00000000e+00   0.00000000e+00   0.00000000e+00\n",
      "    0.00000000e+00   0.00000000e+00   0.00000000e+00   0.00000000e+00\n",
      "    0.00000000e+00   0.00000000e+00   0.00000000e+00   0.00000000e+00\n",
      "    0.00000000e+00   0.00000000e+00   0.00000000e+00   0.00000000e+00\n",
      "    0.00000000e+00   0.00000000e+00   0.00000000e+00   0.00000000e+00\n",
      "    0.00000000e+00   0.00000000e+00   0.00000000e+00   0.00000000e+00\n",
      "    0.00000000e+00   0.00000000e+00   0.00000000e+00   0.00000000e+00\n",
      "    0.00000000e+00   0.00000000e+00   0.00000000e+00   0.00000000e+00\n",
      "    0.00000000e+00]]\n",
      "[-4.82001799]\n",
      "[0.01089605063644045, 0.013880679882382778, 0.018252560136462495, 0.02481587125971417, 0.034921927422967507, 0.05086484810553988, 0.076520961565368542, 0.11821284304700889, 0.18526791750288396, 0.28826817272950778, 0.43124865861769696, 0.59875209272370755, 0.75517034923392856, 0.86981309371097648, 0.93790585723318232, 0.97253901601516102, 0.9884173272628437, 0.99523013291519857, 0.99803881654314064, 0.99917465347636947, 0.99963362633809261, 0.99982189619697959, 0.99990062249697587, 0.99993251327808541, 0.99994002041768182, 0.99992370812159936, 0.99984505862781903, 0.99942610293186607, 0.99545835465840338, 0.91371019480979954, 0.13448733350145453, 0.00052315954245930689, 2.8983938038108482e-07, 1.7736604580335571e-11, 7.4931235463154589e-17, 1.253370871619003e-23, 4.3110797095171412e-32, 1.4117373548279893e-42, 1.7843732379492883e-55, 3.0280186259389634e-71]\n"
     ]
    },
    {
     "name": "stderr",
     "output_type": "stream",
     "text": [
      "/usr/local/lib/python2.7/dist-packages/sklearn/utils/validation.py:526: DataConversionWarning: A column-vector y was passed when a 1d array was expected. Please change the shape of y to (n_samples, ), for example using ravel().\n",
      "  y = column_or_1d(y, warn=True)\n"
     ]
    },
    {
     "data": {
      "image/png": "[encoded data removed]",
      "text/plain": [
       "<matplotlib.figure.Figure at 0x7f9436d09b50>"
      ]
     },
     "metadata": {},
     "output_type": "display_data"
    }
   ],
   "source": [
    "n = 200\n",
    "mu = 5\n",
    "sigma = 1\n",
    "xs = ((2*sigma + mu) - (mu - 2*sigma))*stats.uniform.rvs(size=(n, 1)) + (mu - 2*sigma)\n",
    "ys = np.reshape([1 if y > 0.25 else 0 for y in stats.norm.pdf(xs, mu, sigma)], (n, 1))\n",
    "\n",
    "plt.plot(xs, ys, 'o')\n",
    "\n",
    "\n",
    "print xs.shape, ys.shape\n",
    "x_terms = [xs**i for i in range(1, 50)]\n",
    "x_terms = np.asarray(x_terms).T.reshape(n, 49)\n",
    "\n",
    "l = LogisticRegression(penalty='l1')\n",
    "l.fit(x_terms, ys)\n",
    "\n",
    "\n",
    "print l.coef_\n",
    "print l.intercept_\n",
    "\n",
    "logit = lambda x: float(1)/(1+np.e**-(l.intercept_[0] + sum(l.coef_[0][i]*x**(i+1) for i in range(49))))\n",
    "\n",
    "\n",
    "plotting_range = list(np.arange((mu - 2*sigma), (mu + 2*sigma), 0.1))\n",
    "fitted = [logit(x) for x in plotting_range]\n",
    "print fitted\n",
    "\n",
    "plt.plot(plotting_range, [logit(x) for x in plotting_range])\n",
    "plt.show()\n"
   ]
  },
  {
   "cell_type": "code",
   "execution_count": 5,
   "metadata": {
    "collapsed": false
   },
   "outputs": [
    {
     "name": "stdout",
     "output_type": "stream",
     "text": [
      "164 164\n",
      "88 88\n"
     ]
    },
    {
     "name": "stderr",
     "output_type": "stream",
     "text": [
      "/usr/local/lib/python2.7/dist-packages/numpy/core/fromnumeric.py:2889: RuntimeWarning: Mean of empty slice.\n",
      "  out=out, **kwargs)\n",
      "/usr/local/lib/python2.7/dist-packages/numpy/core/_methods.py:80: RuntimeWarning: invalid value encountered in double_scalars\n",
      "  ret = ret.dtype.type(ret / rcount)\n"
     ]
    },
    {
     "data": {
      "image/png": "[encoded data removed]",
      "text/plain": [
       "<matplotlib.figure.Figure at 0x7f9434c21790>"
      ]
     },
     "metadata": {},
     "output_type": "display_data"
    }
   ],
   "source": [
    "xs = [np.mean(mv.lex_e) for mv in data_all.moves]\n",
    "ys = [1 if y == 1 else 0 for y in data_all.get_succs()]\n",
    "\n",
    "print len(xs), len(ys)\n",
    "\n",
    "filtered_xs, filtered_ys = list(zip(*[(x, y) for x, y in zip(xs, ys) if not np.isnan(x)]))\n",
    "\n",
    "idx = np.argsort(filtered_xs)\n",
    "\n",
    "sorted_xs = np.asarray([filtered_xs[i] for i in list(idx)])\n",
    "sorted_ys = np.asarray([filtered_ys[i] for i in list(idx)])\n",
    "\n",
    "print len(sorted_xs), len(sorted_ys)\n",
    "\n",
    "plt.plot(sorted_xs, sorted_ys, 'o')\n",
    "plt.show()"
   ]
  },
  {
   "cell_type": "code",
   "execution_count": 6,
   "metadata": {
    "collapsed": false,
    "scrolled": false
   },
   "outputs": [
    {
     "name": "stdout",
     "output_type": "stream",
     "text": [
      "[[-0.21387783  0.          0.          0.          0.         -0.40037315\n",
      "  -0.27210281  0.          0.          0.          0.          0.          0.\n",
      "   0.          0.          0.          0.          0.          0.          0.\n",
      "   0.          0.          0.          0.          0.          0.          0.\n",
      "   0.          0.          0.          0.          0.          0.          0.\n",
      "   0.          0.          0.          0.          0.          0.          0.\n",
      "   0.          0.          0.          0.          0.          0.          0.\n",
      "   0.          0.        ]]\n",
      "[ 0.28767374]\n",
      "[0.57142653197805304, 0.56618078266538785, 0.56091320420339985, 0.55555937346510698, 0.54984312317979289, 0.54298195078163947, 0.53321354248186081, 0.51710505344702851, 0.48863994605758015, 0.43838059223340525]\n"
     ]
    },
    {
     "data": {
      "image/png": "[encoded data removed]",
      "text/plain": [
       "<matplotlib.figure.Figure at 0x7f9434ce5050>"
      ]
     },
     "metadata": {},
     "output_type": "display_data"
    }
   ],
   "source": [
    "x_terms = [sorted_xs**i for i in range(1, 51)]\n",
    "x_terms = np.asarray(x_terms).T\n",
    "\n",
    "l = LogisticRegression(penalty='l1')\n",
    "l.fit(x_terms, sorted_ys)\n",
    "\n",
    "print l.coef_\n",
    "print l.intercept_\n",
    "\n",
    "logit = lambda x: float(1)/(1+np.e**-(l.intercept_[0] + sum(l.coef_[0][i]*x**(i+1) for i in range(50))))\n",
    "\n",
    "plotting_range = list(np.arange(np.min(sorted_xs), np.max(sorted_xs), 0.1))\n",
    "fitted = [logit(x) for x in plotting_range]\n",
    "print fitted\n",
    "\n",
    "plt.plot(plotting_range, [logit(x) for x in plotting_range])\n",
    "plt.plot(sorted_xs, sorted_ys, 'o')\n",
    "plt.show()"
   ]
  },
  {
   "cell_type": "code",
   "execution_count": null,
   "metadata": {
    "collapsed": true
   },
   "outputs": [],
   "source": []
  }
 ],
 "metadata": {
  "kernelspec": {
   "display_name": "Python 2",
   "language": "python",
   "name": "python2"
  },
  "language_info": {
   "codemirror_mode": {
    "name": "ipython",
    "version": 2
   },
   "file_extension": ".py",
   "mimetype": "text/x-python",
   "name": "python",
   "nbconvert_exporter": "python",
   "pygments_lexer": "ipython2",
   "version": "2.7.12"
  }
 },
 "nbformat": 4,
 "nbformat_minor": 2
}
