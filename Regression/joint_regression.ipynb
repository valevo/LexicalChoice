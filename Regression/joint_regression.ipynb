{
 "cells": [
  {
   "cell_type": "code",
   "execution_count": 1,
   "metadata": {
    "collapsed": true
   },
   "outputs": [],
   "source": [
    "import pickle\n",
    "from collections import Counter\n",
    "import numpy as np\n",
    "from scipy import stats\n",
    "import matplotlib.pyplot as plt\n",
    "from sklearn.linear_model import LogisticRegression\n",
    "from DataObjs import Corpus, success_transform, confidence_transform"
   ]
  },
  {
   "cell_type": "code",
   "execution_count": 3,
   "metadata": {
    "collapsed": true
   },
   "outputs": [],
   "source": [
    "with open('Data/data_regression.p') as handle:\n",
    "    raw_data = pickle.load(handle)\n",
    "    \n",
    "# length, lex, form -> all, p, e\n",
    "# data point = (sccss_str, conf_str, ([], [], []), ([], [], []), ([], [], []))     \n",
    "    \n",
    "# nonoise\n",
    "data_en = Corpus(raw_data[1], succs_map=success_transform, conf_map=confidence_transform)\n",
    "# FTT\n",
    "data_de = Corpus(raw_data[0], succs_map=success_transform, conf_map=confidence_transform) \n",
    "\n",
    "data_all = Corpus(dict(raw_data[0], **raw_data[1]), succs_map=success_transform, conf_map=confidence_transform)"
   ]
  },
  {
   "cell_type": "code",
   "execution_count": 4,
   "metadata": {
    "collapsed": false
   },
   "outputs": [
    {
     "name": "stderr",
     "output_type": "stream",
     "text": [
      "/usr/local/lib/python2.7/dist-packages/numpy/core/fromnumeric.py:2889: RuntimeWarning: Mean of empty slice.\n",
      "  out=out, **kwargs)\n",
      "/usr/local/lib/python2.7/dist-packages/numpy/core/_methods.py:80: RuntimeWarning: invalid value encountered in double_scalars\n",
      "  ret = ret.dtype.type(ret / rcount)\n"
     ]
    },
    {
     "name": "stdout",
     "output_type": "stream",
     "text": [
      "164 164\n",
      "88 88\n"
     ]
    },
    {
     "data": {
      "image/png": "[encoded data removed]",
      "text/plain": [
       "<matplotlib.figure.Figure at 0x7f1baecbc610>"
      ]
     },
     "metadata": {},
     "output_type": "display_data"
    }
   ],
   "source": [
    "xs = [np.mean(mv.lex_e) for mv in data_all.moves]\n",
    "ys = [1 if ((s == 1 or s == -1) and c == 4) else 0 for s, c in zip(data_all.get_succs(), data_all.get_confs())]\n",
    "\n",
    "print len(xs), len(ys)\n",
    "\n",
    "filtered_xs, filtered_ys = list(zip(*[(x, y) for x, y in zip(xs, ys) if not np.isnan(x)]))\n",
    "\n",
    "idx = np.argsort(filtered_xs)\n",
    "\n",
    "sorted_xs = np.asarray([filtered_xs[i] for i in list(idx)])\n",
    "sorted_ys = np.asarray([filtered_ys[i] for i in list(idx)])\n",
    "\n",
    "print len(sorted_xs), len(sorted_ys)\n",
    "\n",
    "plt.plot(sorted_xs, sorted_ys, 'o')\n",
    "plt.show()"
   ]
  },
  {
   "cell_type": "code",
   "execution_count": 5,
   "metadata": {
    "collapsed": false
   },
   "outputs": [
    {
     "name": "stdout",
     "output_type": "stream",
     "text": [
      "[[ 0.         -0.76397455  0.          0.         -0.33556206 -0.26266346\n",
      "  -0.1789094   0.          0.          0.          0.          0.          0.\n",
      "   0.          0.          0.          0.          0.          0.          0.\n",
      "   0.          0.          0.          0.          0.          0.          0.\n",
      "   0.          0.          0.          0.          0.          0.          0.\n",
      "   0.          0.          0.          0.          0.          0.          0.\n",
      "   0.          0.          0.          0.          0.          0.          0.\n",
      "   0.          0.        ]]\n",
      "[ 0.66616659]\n",
      "[0.66064426342959193, 0.65892856926173726, 0.6537312497957084, 0.64482374432231415, 0.63160896565463853, 0.61282076792314677, 0.58607896160581308, 0.54730437254055142, 0.49022380357229295, 0.40710147563515903]\n"
     ]
    },
    {
     "data": {
      "image/png": "[encoded data removed]",
      "text/plain": [
       "<matplotlib.figure.Figure at 0x7f1bea284810>"
      ]
     },
     "metadata": {},
     "output_type": "display_data"
    }
   ],
   "source": [
    "x_terms = [sorted_xs**i for i in range(1, 51)]\n",
    "x_terms = np.asarray(x_terms).T\n",
    "\n",
    "l = LogisticRegression(penalty='l1')\n",
    "l.fit(x_terms, sorted_ys)\n",
    "\n",
    "print l.coef_\n",
    "print l.intercept_\n",
    "\n",
    "logit = lambda x: float(1)/(1+np.e**-(l.intercept_[0] + sum(l.coef_[0][i]*x**(i+1) for i in range(50))))\n",
    "\n",
    "plotting_range = list(np.arange(np.min(sorted_xs), np.max(sorted_xs), 0.1))\n",
    "fitted = [logit(x) for x in plotting_range]\n",
    "print fitted\n",
    "\n",
    "plt.plot(plotting_range, [logit(x) for x in plotting_range])\n",
    "plt.plot(sorted_xs, sorted_ys, 'o')\n",
    "plt.show()"
   ]
  }
 ],
 "metadata": {
  "kernelspec": {
   "display_name": "Python 2",
   "language": "python",
   "name": "python2"
  },
  "language_info": {
   "codemirror_mode": {
    "name": "ipython",
    "version": 2
   },
   "file_extension": ".py",
   "mimetype": "text/x-python",
   "name": "python",
   "nbconvert_exporter": "python",
   "pygments_lexer": "ipython2",
   "version": "2.7.12"
  }
 },
 "nbformat": 4,
 "nbformat_minor": 2
}
