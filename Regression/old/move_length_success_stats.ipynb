{
 "cells": [
  {
   "cell_type": "code",
   "execution_count": 2,
   "metadata": {
    "collapsed": true
   },
   "outputs": [],
   "source": [
    "%matplotlib inline\n",
    "import matplotlib.pyplot as plt\n",
    "from collections import Counter, defaultdict\n",
    "import numpy as np\n",
    "from scipy import stats, integrate\n",
    "import pickle"
   ]
  },
  {
   "cell_type": "code",
   "execution_count": 3,
   "metadata": {
    "collapsed": false
   },
   "outputs": [
    {
     "name": "stdout",
     "output_type": "stream",
     "text": [
      "690\n",
      "142\n"
     ]
    }
   ],
   "source": [
    "length_regress_data = pickle.load(open('move_lvl_regress_len.p', 'r'))\n",
    "move_str_ls = [key for vals in length_regress_data.values() for key in vals]\n",
    "\n",
    "#for key, val in length_regress_data.iteritems():\n",
    "#    for inner_key, inner_val in val.iteritems():\n",
    "#        print inner_key\n",
    "#        print inner_val\n",
    "\n",
    "id_lvl_ls = [(inner_key, inner_val[1]) \n",
    "             for _, val in length_regress_data.iteritems() \n",
    "             for inner_key, inner_val in val.iteritems()]\n",
    "\n",
    "\n",
    "    \n",
    "print len(move_str_ls)\n",
    "\n",
    "print len(set(move_str_ls))"
   ]
  },
  {
   "cell_type": "code",
   "execution_count": 4,
   "metadata": {
    "collapsed": true
   },
   "outputs": [],
   "source": [
    "def get_move_len(key_str):\n",
    "    move_range = eval(key_str[key_str.find('('):key_str.find(')')+1])\n",
    "    return move_range[1] - move_range[0]\n",
    "\n",
    "def success_map(lvl_str):\n",
    "    if lvl_str == 'correct':\n",
    "        return 1\n",
    "    if lvl_str == 'not_moved':\n",
    "        return 0\n",
    "    if lvl_str == 'incorrect':\n",
    "        return -1\n",
    "    return 'undefined'"
   ]
  },
  {
   "cell_type": "code",
   "execution_count": 5,
   "metadata": {
    "collapsed": false
   },
   "outputs": [
    {
     "name": "stdout",
     "output_type": "stream",
     "text": [
      "[(59, 5), (57, 4), (149, 3), (20, 2), (23, 2), (24, 2), (27, 2), (37, 2), (42, 2), (43, 2), (46, 2), (48, 2), (67, 2), (68, 2), (69, 2), (115, 2), (107, 2), (161, 2), (175, 2), (185, 2), (382, 2), (15, 1), (16, 1), (17, 1), (21, 1), (26, 1), (28, 1), (29, 1), (31, 1), (32, 1), (33, 1), (36, 1), (39, 1), (41, 1), (44, 1), (47, 1), (49, 1), (50, 1), (51, 1), (60, 1), (61, 1), (62, 1), (64, 1), (71, 1), (72, 1), (586, 1), (81, 1), (1620, 1), (86, 1), (89, 1), (90, 1), (93, 1), (94, 1), (95, 1), (96, 1), (99, 1), (106, 1), (619, 1), (108, 1), (111, 1), (119, 1), (122, 1), (130, 1), (131, 1), (132, 1), (133, 1), (134, 1), (135, 1), (136, 1), (657, 1), (153, 1), (158, 1), (160, 1), (165, 1), (166, 1), (170, 1), (177, 1), (189, 1), (190, 1), (191, 1), (196, 1), (199, 1), (206, 1), (210, 1), (211, 1), (219, 1), (225, 1), (536, 1), (749, 1), (243, 1), (247, 1), (248, 1), (260, 1), (261, 1), (264, 1), (272, 1), (277, 1), (291, 1), (297, 1), (323, 1), (328, 1), (343, 1), (357, 1), (365, 1), (377, 1), (381, 1), (390, 1), (401, 1), (924, 1), (415, 1), (422, 1), (74, 1), (960, 1), (449, 1), (497, 1)]\n",
      "\n",
      "[(15, 1), (16, 1), (17, 1), (20, 2), (21, 1), (23, 2), (24, 2), (26, 1), (27, 2), (28, 1), (29, 1), (31, 1), (32, 1), (33, 1), (36, 1), (37, 2), (39, 1), (41, 1), (42, 2), (43, 2), (44, 1), (46, 2), (47, 1), (48, 2), (49, 1), (50, 1), (51, 1), (57, 4), (59, 5), (60, 1), (61, 1), (62, 1), (64, 1), (67, 2), (68, 2), (69, 2), (71, 1), (72, 1), (74, 1), (81, 1), (86, 1), (89, 1), (90, 1), (93, 1), (94, 1), (95, 1), (96, 1), (99, 1), (106, 1), (107, 2), (108, 1), (111, 1), (115, 2), (119, 1), (122, 1), (130, 1), (131, 1), (132, 1), (133, 1), (134, 1), (135, 1), (136, 1), (149, 3), (153, 1), (158, 1), (160, 1), (161, 2), (165, 1), (166, 1), (170, 1), (175, 2), (177, 1), (185, 2), (189, 1), (190, 1), (191, 1), (196, 1), (199, 1), (206, 1), (210, 1), (211, 1), (219, 1), (225, 1), (243, 1), (247, 1), (248, 1), (260, 1), (261, 1), (264, 1), (272, 1), (277, 1), (291, 1), (297, 1), (323, 1), (328, 1), (343, 1), (357, 1), (365, 1), (377, 1), (381, 1), (382, 2), (390, 1), (401, 1), (415, 1), (422, 1), (449, 1), (497, 1), (536, 1), (586, 1), (619, 1), (657, 1), (749, 1), (924, 1), (960, 1), (1620, 1)]\n"
     ]
    },
    {
     "data": {
      "image/png": "[encoded data removed]",
      "text/plain": [
       "<matplotlib.figure.Figure at 0x7f2768d361d0>"
      ]
     },
     "metadata": {},
     "output_type": "display_data"
    }
   ],
   "source": [
    "lens = [get_move_len(move_str) for move_str in set(move_str_ls)]\n",
    "\n",
    "#lens = [l for l in lens if l < 500]\n",
    "\n",
    "len_counts = Counter(lens)\n",
    "\n",
    "print len_counts.most_common()\n",
    "print\n",
    "print sorted(len_counts.most_common())\n",
    "\n",
    "\n",
    "xs, ys = list(zip(*sorted(len_counts.iteritems())))\n",
    "\n",
    "plt.plot(xs, ys, 'o')\n",
    "plt.title('Move length distribution')\n",
    "plt.show()"
   ]
  },
  {
   "cell_type": "code",
   "execution_count": 6,
   "metadata": {
    "collapsed": false
   },
   "outputs": [
    {
     "name": "stdout",
     "output_type": "stream",
     "text": [
      "Mean: 177.330985915 \tSD: 209.52423376 \n",
      "\n",
      "Short: 72.5688690354 \tProportion: 0.267605633803 \n",
      "\n",
      "#len > 1: [(59, 5), (57, 4), (149, 3), (20, 2), (23, 2), (24, 2), (27, 2), (37, 2), (42, 2), (43, 2), (46, 2), (48, 2), (67, 2), (68, 2), (69, 2), (115, 2), (107, 2), (161, 2), (175, 2), (185, 2), (382, 2)] \n",
      "\n",
      "H(lens): 4.66116859019 \tmax H(lens): 4.9558270576\n"
     ]
    }
   ],
   "source": [
    "n = len(lens)\n",
    "mean_len, len_sd = np.mean(lens), np.var(lens)**0.5\n",
    "\n",
    "print 'Mean:', mean_len, '\\tSD:', len_sd, '\\n'\n",
    "\n",
    "short = [(key, val) for key, val in len_counts.most_common() if key < mean_len - len_sd/float(2)]\n",
    "\n",
    "print 'Short:', mean_len - len_sd/float(2), '\\tProportion:', len(short)/float(n), '\\n'\n",
    "\n",
    "print '#len > 1:', [(key, val) for key, val in len_counts.most_common() if val > 1], '\\n'\n",
    "\n",
    "print 'H(lens):', -sum([float(c)/n * np.log(float(c)/n) for c in len_counts.values()]), '\\tmax H(lens):', np.log(n)"
   ]
  },
  {
   "cell_type": "code",
   "execution_count": 7,
   "metadata": {
    "collapsed": false
   },
   "outputs": [
    {
     "data": {
      "image/png": "[encoded data removed]",
      "text/plain": [
       "<matplotlib.figure.Figure at 0x7f2770b67250>"
      ]
     },
     "metadata": {},
     "output_type": "display_data"
    }
   ],
   "source": [
    "# joint\n",
    "len_lvl_ls = [(get_move_len(move_str), success_map(lvl_str)) for move_str, lvl_str in set(id_lvl_ls)]\n",
    "\n",
    "len_max = 1000\n",
    "\n",
    "len_lvl_merge = [move_len/float(len_max)+ lvl for move_len, lvl in len_lvl_ls]\n",
    "\n",
    "len_lvl_merged_counts = Counter(len_lvl_merge)\n",
    "\n",
    "xs, ys = list(zip(*sorted(len_lvl_merged_counts.iteritems())))\n",
    "\n",
    "plt.plot(xs, ys, 'o')\n",
    "plt.title('Distribution of move lengths given success level')\n",
    "plt.show()"
   ]
  },
  {
   "cell_type": "code",
   "execution_count": 8,
   "metadata": {
    "collapsed": false
   },
   "outputs": [
    {
     "name": "stdout",
     "output_type": "stream",
     "text": [
      "lvl =  -1 #lens  16\n",
      "mean len  188.25 median len  168.0 \tSD len 107.153219737\n",
      "lvl =  0 #lens  45\n",
      "mean len  132.177777778 median len  69.0 \tSD len 132.898338571\n",
      "lvl =  1 #lens  78\n",
      "mean len  163.038461538 median len  117.0 \tSD len 155.843152767\n"
     ]
    },
    {
     "data": {
      "image/png": "[encoded data removed]",
      "text/plain": [
       "<matplotlib.figure.Figure at 0x7f276684d890>"
      ]
     },
     "metadata": {},
     "output_type": "display_data"
    }
   ],
   "source": [
    "len_lvl_counts = Counter(len_lvl_ls)\n",
    "\n",
    "filtered_len_lvl_ls = [tup for tup in len_lvl_ls if tup[0] < 800]\n",
    "\n",
    "temp_lvl_dict = defaultdict(list)\n",
    "\n",
    "for mv_l, lvl in filtered_len_lvl_ls:\n",
    "    temp_lvl_dict[lvl].append(mv_l)\n",
    "    \n",
    "for key, val in sorted(temp_lvl_dict.iteritems()):\n",
    "    print 'lvl = ', key, '#lens ', len(val)\n",
    "    print 'mean len ', np.mean(val), 'median len ', np.median(val), '\\tSD len', np.var(val)**0.5\n",
    "    \n",
    "ys, xs = list(zip(*sorted(filtered_len_lvl_ls, key=lambda tup: tup[0])))\n",
    "\n",
    "plt.plot(xs, ys, 'o')\n",
    "plt.title('')\n",
    "plt.show()"
   ]
  },
  {
   "cell_type": "code",
   "execution_count": 9,
   "metadata": {
    "collapsed": false
   },
   "outputs": [
    {
     "name": "stdout",
     "output_type": "stream",
     "text": [
      "(0.0025957222827246362, 0.97580641459508877)\n",
      "4.63345593045 0.938182421783 4.77734507195\n",
      "dependence:  0.166262488541\n"
     ]
    }
   ],
   "source": [
    "# correlation\n",
    "n = len(filtered_len_lvl_ls)\n",
    "xs, ys = list(zip(*filtered_len_lvl_ls))\n",
    "\n",
    "print stats.pearsonr(xs, ys)\n",
    "\n",
    "len_counts = Counter(xs)\n",
    "lvl_counts = Counter(ys)\n",
    "joint_counts = Counter(filtered_len_lvl_ls)\n",
    "\n",
    "H_lens = -sum([float(c)/n * np.log(float(c)/n) for c in len_counts.values()])\n",
    "H_lvls = -sum([float(c)/n * np.log(float(c)/n) for c in lvl_counts.values()])\n",
    "H_joint = -sum([float(c)/n * np.log(float(c)/n) for c in joint_counts.values()])\n",
    "\n",
    "print H_lens, H_lvls, H_joint\n",
    "print 'dependence: ', (H_lens + H_lvls - H_joint)/H_joint"
   ]
  },
  {
   "cell_type": "code",
   "execution_count": 16,
   "metadata": {
    "collapsed": false
   },
   "outputs": [
    {
     "name": "stdout",
     "output_type": "stream",
     "text": [
      "Counter({(0, 1): 46, (1, 1): 32, (1, 0): 23, (0, 0): 22, (0, -1): 14, (1, -1): 2})\n",
      "(0.096872431947153309, 0.2565991103453385)\n",
      "0.976538229658 0.853970442039 0.885020616181\n",
      "dependence:  0.0184916806183\n",
      "\n",
      "\n",
      "0\t1\n",
      "----------\n",
      "0.101 \t0.014 \t\n",
      "0.158 \t0.165 \t\n",
      "0.331 \t0.23 \t\n",
      "len cat counts  [82, 57]\n",
      "lvl cat counts  [16, 45, 78]\n",
      " (7.2739388470133006, 0.026332024380016347, 2, array([[  9.43884892,  26.54676259,  46.01438849],\n",
      "       [  6.56115108,  18.45323741,  31.98561151]]))\n"
     ]
    }
   ],
   "source": [
    "# groups: {short, long} x {correct, incorrect, not_moved}\n",
    "\n",
    "mean_len, len_sd = np.mean(lens), np.var(lens)**0.5\n",
    "\n",
    "is_short = lambda l: 1 if l <= mean_len - len_sd/float(2) else 0\n",
    "\n",
    "groups = [(is_short(l), lvl) for l, lvl in filtered_len_lvl_ls]\n",
    "\n",
    "print Counter(groups)\n",
    "\n",
    "len_cats, lvl_cats = list(zip(*groups))\n",
    "\n",
    "print stats.pearsonr(len_cats, lvl_cats)\n",
    "\n",
    "n = len(len_cats)\n",
    "len_cat_counts = Counter(len_cats)\n",
    "joint_cat_counts = Counter(groups)\n",
    "\n",
    "H_len_cats = -sum([float(c)/n * np.log(float(c)/n) for c in len_cat_counts.values()])\n",
    "H_joint_cats = -sum([float(c)/n * np.log(float(c)/n) for c in joint_cat_counts.values()])\n",
    "print H_len_cats/np.log(len(len_cat_counts)),\\\n",
    "        H_lvls/np.log(len(lvl_counts)), \\\n",
    "        H_joint_cats/np.log(len(joint_cat_counts))\n",
    "print 'dependence: ', (H_len_cats + H_lvls - H_joint_cats)/H_joint_cats\n",
    "\n",
    "by_len_cat = [[joint_cat_counts[(l_cat, lvl)] for lvl in [-1, 0, 1]] for l_cat in [0, 1]]\n",
    "by_lvl_cat = [[joint_cat_counts[(l_cat, lvl)] for l_cat in [0, 1]] for lvl in [-1, 0, 1]]\n",
    "\n",
    "accum = 0\n",
    "\n",
    "print '\\n\\n0\\t1'\n",
    "print '----------'\n",
    "for lvl_cat in [-1, 0, 1]:\n",
    "    for len_cat in [0, 1]:\n",
    "        cur_p = round(joint_cat_counts[(len_cat, lvl_cat)]/float(n), 3)\n",
    "        accum += cur_p\n",
    "        print cur_p, '\\t',\n",
    "    print\n",
    "    \n",
    "print 'len cat counts ', [sum(lvl_counts) for lvl_counts in by_len_cat]\n",
    "print 'lvl cat counts ', [sum(len_counts) for len_counts in by_lvl_cat]\n",
    "\n",
    "print '', stats.chi2_contingency(by_len_cat)"
   ]
  },
  {
   "cell_type": "code",
   "execution_count": null,
   "metadata": {
    "collapsed": true
   },
   "outputs": [],
   "source": [
    "# bayes factor for contigency table\n",
    "\n",
    "# M1 = P(k=k') = 1/|k| -> independent\n",
    "# M2 = P(k=k') = q_k' with q ~ Dir(1) "
   ]
  },
  {
   "cell_type": "code",
   "execution_count": null,
   "metadata": {
    "collapsed": true
   },
   "outputs": [],
   "source": []
  },
  {
   "cell_type": "code",
   "execution_count": 17,
   "metadata": {
    "collapsed": false
   },
   "outputs": [
    {
     "name": "stdout",
     "output_type": "stream",
     "text": [
      "Counter({(0, 1): 46, (0, 0): 36, (1, 1): 32, (1, 0): 25})\n",
      "(0.00042410502945838341, 0.99604652033738006)\n",
      "0.976538229658 0.853970442039 0.982860627099\n",
      "dependence:  0.185340674339\n",
      "\n",
      "\n",
      "0\t1\n",
      "----------\n",
      "0.259 \t0.18 \t\n",
      "0.331 \t0.23 \t\n",
      "len cat counts  [82, 57]\n",
      "lvl cat counts  [61, 78]\n",
      " (0.02847798127712458, 0.86598998171333419, 1, array([[ 35.98561151,  46.01438849],\n",
      "       [ 25.01438849,  31.98561151]]))\n"
     ]
    }
   ],
   "source": [
    "# groups: {short, long} x {correct, incorrect, not_moved}\n",
    "\n",
    "mean_len, len_sd = np.mean(lens), np.var(lens)**0.5\n",
    "\n",
    "is_short = lambda l: 1 if l <= mean_len - len_sd/float(2) else 0\n",
    "\n",
    "groups = [(is_short(l), 0 if lvl == -1 or lvl == 0 else 1) for l, lvl in filtered_len_lvl_ls]\n",
    "\n",
    "print Counter(groups)\n",
    "\n",
    "len_cats, lvl_cats = list(zip(*groups))\n",
    "\n",
    "print stats.pearsonr(len_cats, lvl_cats)\n",
    "\n",
    "n = len(len_cats)\n",
    "len_cat_counts = Counter(len_cats)\n",
    "joint_cat_counts = Counter(groups)\n",
    "\n",
    "H_len_cats = -sum([float(c)/n * np.log(float(c)/n) for c in len_cat_counts.values()])\n",
    "H_joint_cats = -sum([float(c)/n * np.log(float(c)/n) for c in joint_cat_counts.values()])\n",
    "print H_len_cats/np.log(len(len_cat_counts)),\\\n",
    "        H_lvls/np.log(len(lvl_counts)), \\\n",
    "        H_joint_cats/np.log(len(joint_cat_counts))\n",
    "print 'dependence: ', (H_len_cats + H_lvls - H_joint_cats)/H_joint_cats\n",
    "\n",
    "by_len_cat = [[joint_cat_counts[(l_cat, lvl)] for lvl in [0, 1]] for l_cat in [0, 1]]\n",
    "by_lvl_cat = [[joint_cat_counts[(l_cat, lvl)] for l_cat in [0, 1]] for lvl in [0, 1]]\n",
    "\n",
    "accum = 0\n",
    "\n",
    "print '\\n\\n0\\t1'\n",
    "print '----------'\n",
    "for lvl_cat in [0, 1]:\n",
    "    for len_cat in [0, 1]:\n",
    "        cur_p = round(joint_cat_counts[(len_cat, lvl_cat)]/float(n), 3)\n",
    "        accum += cur_p\n",
    "        print cur_p, '\\t',\n",
    "    print\n",
    "    \n",
    "print 'len cat counts ', [sum(lvl_counts) for lvl_counts in by_len_cat]\n",
    "print 'lvl cat counts ', [sum(len_counts) for len_counts in by_lvl_cat]\n",
    "\n",
    "print '', stats.chi2_contingency(by_len_cat)"
   ]
  },
  {
   "cell_type": "code",
   "execution_count": null,
   "metadata": {
    "collapsed": true
   },
   "outputs": [],
   "source": []
  },
  {
   "cell_type": "code",
   "execution_count": null,
   "metadata": {
    "collapsed": true
   },
   "outputs": [],
   "source": []
  },
  {
   "cell_type": "code",
   "execution_count": null,
   "metadata": {
    "collapsed": true
   },
   "outputs": [],
   "source": []
  },
  {
   "cell_type": "code",
   "execution_count": null,
   "metadata": {
    "collapsed": true
   },
   "outputs": [],
   "source": []
  },
  {
   "cell_type": "code",
   "execution_count": 142,
   "metadata": {
    "collapsed": false
   },
   "outputs": [
    {
     "data": {
      "image/png": "[encoded data removed]",
      "text/plain": [
       "<matplotlib.figure.Figure at 0x7f3976eb4550>"
      ]
     },
     "metadata": {},
     "output_type": "display_data"
    }
   ],
   "source": [
    "b_0 = 0.5\n",
    "b_1 = -0.00000009\n",
    "b_2 = -0.05 \n",
    "b_3 = 0.9\n",
    "sigmoid = lambda x: float(1)/(1 + np.exp(-(b_0 + b_1*x**2)))\n",
    "\n",
    "xs = list(range(-40, 40))\n",
    "\n",
    "ys = map(sigmoid, xs)\n",
    "\n",
    "plt.plot(xs, ys)\n",
    "\n",
    "plt.show()"
   ]
  }
 ],
 "metadata": {
  "kernelspec": {
   "display_name": "Python 2",
   "language": "python",
   "name": "python2"
  },
  "language_info": {
   "codemirror_mode": {
    "name": "ipython",
    "version": 2
   },
   "file_extension": ".py",
   "mimetype": "text/x-python",
   "name": "python",
   "nbconvert_exporter": "python",
   "pygments_lexer": "ipython2",
   "version": "2.7.12"
  }
 },
 "nbformat": 4,
 "nbformat_minor": 2
}
