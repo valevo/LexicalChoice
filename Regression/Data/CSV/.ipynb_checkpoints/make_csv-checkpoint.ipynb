{
 "cells": [
  {
   "cell_type": "code",
   "execution_count": 1,
   "metadata": {
    "collapsed": false
   },
   "outputs": [],
   "source": [
    "import pickle\n",
    "import csv\n",
    "from numpy import mean, var\n",
    "from DataObjs import Corpus, success_transform, confidence_transform\n",
    "from collections import OrderedDict\n",
    "\n",
    "with open('../data_regression.p') as handle:\n",
    "    raw_data = pickle.load(handle)\n",
    "    \n",
    "en_corp = Corpus(raw_data[1], succs_map=success_transform, conf_map=confidence_transform)\n",
    "de_corp = Corpus(raw_data[0], succs_map=success_transform, conf_map=confidence_transform)"
   ]
  },
  {
   "cell_type": "code",
   "execution_count": 2,
   "metadata": {
    "collapsed": false
   },
   "outputs": [
    {
     "name": "stderr",
     "output_type": "stream",
     "text": [
      "/usr/local/lib/python2.7/dist-packages/numpy/core/fromnumeric.py:2889: RuntimeWarning: Mean of empty slice.\n",
      "  out=out, **kwargs)\n",
      "/usr/local/lib/python2.7/dist-packages/numpy/core/_methods.py:80: RuntimeWarning: invalid value encountered in double_scalars\n",
      "  ret = ret.dtype.type(ret / rcount)\n",
      "/usr/local/lib/python2.7/dist-packages/numpy/core/fromnumeric.py:3126: RuntimeWarning: Degrees of freedom <= 0 for slice\n",
      "  **kwargs)\n",
      "/usr/local/lib/python2.7/dist-packages/numpy/core/_methods.py:105: RuntimeWarning: invalid value encountered in true_divide\n",
      "  arrmean, rcount, out=arrmean, casting='unsafe', subok=False)\n",
      "/usr/local/lib/python2.7/dist-packages/numpy/core/_methods.py:127: RuntimeWarning: invalid value encountered in double_scalars\n",
      "  ret = ret.dtype.type(ret / rcount)\n"
     ]
    }
   ],
   "source": [
    "en_corp.set_language('english')\n",
    "en_corp.attach_lang_info()\n",
    "\n",
    "de_corp.set_language('german')\n",
    "de_corp.attach_lang_info()\n",
    "\n",
    "all_corp = Corpus()\n",
    "all_corp.merge_with(en_corp)\n",
    "all_corp.merge_with(de_corp)\n",
    "\n",
    "col_names_measures = ['length general mean', 'length general var', \n",
    "                      'length IG mean', 'length IG var', \n",
    "                      'length IF mean', 'length IF var', \n",
    "                      'lexical general mean', 'lexical general var', \n",
    "                      'lexical IG mean', 'lexical IG var', \n",
    "                      'lexical IF mean', 'lexical IF var', \n",
    "                      'form general mean', 'form general var', \n",
    "                      'form IG mean', 'form IG var', \n",
    "                      'form IF mean', 'form IF var']\n",
    "col_names_extra_info = ['success', 'confidence', 'language', 'move ID']\n",
    "\n",
    "instance_var_names_measures = ['len_all', 'len_p', 'len_e', \n",
    "                              'lex_all', 'lex_p', 'lex_e', \n",
    "                              'form_all', 'form_p', 'form_e']\n",
    "instance_var_names_extra_info = ['succs_lvl', 'conf_lvl', 'lang', 'move_id']\n",
    "\n",
    "\n",
    "with open('data_regression.csv', 'w') as handle:\n",
    "    data_writer = csv.DictWriter(handle, fieldnames=col_names_measures + col_names_extra_info, delimiter=',')\n",
    "    data_writer.writeheader()\n",
    "    \n",
    "    for mv in all_corp.moves:\n",
    "        measures = [eval('mv.' + var_name) for var_name in instance_var_names_measures]\n",
    "        means = [mean(var_ls) for var_ls in measures]\n",
    "        variances = [var(var_ls) for var_ls in measures]\n",
    "        means_vars = [val for tup in zip(means, variances) for val in tup]\n",
    "        \n",
    "        row_dict = {col_name: round(m, 3) for col_name, m in zip(col_names_measures, means_vars)}\n",
    "        extra_info_dict = {col_name: eval('mv.'+inf_name) \n",
    "                           for col_name, inf_name in zip(col_names_extra_info, instance_var_names_extra_info)}\n",
    "        row_dict.update(extra_info_dict)\n",
    "        data_writer.writerow(row_dict)"
   ]
  }
 ],
 "metadata": {
  "kernelspec": {
   "display_name": "Python 2",
   "language": "python",
   "name": "python2"
  },
  "language_info": {
   "codemirror_mode": {
    "name": "ipython",
    "version": 2
   },
   "file_extension": ".py",
   "mimetype": "text/x-python",
   "name": "python",
   "nbconvert_exporter": "python",
   "pygments_lexer": "ipython2",
   "version": "2.7.12"
  }
 },
 "nbformat": 4,
 "nbformat_minor": 2
}
