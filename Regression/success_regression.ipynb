{
 "cells": [
  {
   "cell_type": "code",
   "execution_count": 1,
   "metadata": {
    "collapsed": true
   },
   "outputs": [],
   "source": [
    "import pickle\n",
    "from collections import Counter\n",
    "import numpy as np\n",
    "from scipy import stats\n",
    "import matplotlib.pyplot as plt\n",
    "from sklearn.linear_model import LogisticRegression\n",
    "from DataObjs import Corpus, success_transform, confidence_transform"
   ]
  },
  {
   "cell_type": "code",
   "execution_count": 2,
   "metadata": {
    "collapsed": true
   },
   "outputs": [],
   "source": [
    "with open('Data/data_regression.p') as handle:\n",
    "    raw_data = pickle.load(handle)\n",
    "    \n",
    "# length, lex, form -> all, p, e\n",
    "# data point = (sccss_str, conf_str, ([], [], []), ([], [], []), ([], [], []))     \n",
    "    \n",
    "# nonoise\n",
    "data_en = Corpus(raw_data[1], succs_map=success_transform, conf_map=confidence_transform)\n",
    "# FTT\n",
    "data_de = Corpus(raw_data[0], succs_map=success_transform, conf_map=confidence_transform) \n",
    "\n",
    "data_all = Corpus(dict(raw_data[0], **raw_data[1]), succs_map=success_transform, conf_map=confidence_transform)"
   ]
  },
  {
   "cell_type": "code",
   "execution_count": null,
   "metadata": {
    "collapsed": false
   },
   "outputs": [],
   "source": [
    "n = 200\n",
    "mu = 5\n",
    "sigma = 1\n",
    "xs = ((2*sigma + mu) - (mu - 2*sigma))*stats.uniform.rvs(size=(n, 1)) + (mu - 2*sigma)\n",
    "ys = np.reshape([1 if y > 0.25 else 0 for y in stats.norm.pdf(xs, mu, sigma)], (n, 1))\n",
    "\n",
    "plt.plot(xs, ys, 'o')\n",
    "\n",
    "\n",
    "print xs.shape, ys.shape\n",
    "x_terms = [xs**i for i in range(1, 50)]\n",
    "x_terms = np.asarray(x_terms).T.reshape(n, 49)\n",
    "\n",
    "l = LogisticRegression(penalty='l1')\n",
    "l.fit(x_terms, ys)\n",
    "\n",
    "\n",
    "print l.coef_\n",
    "print l.intercept_\n",
    "\n",
    "logit = lambda x: float(1)/(1+np.e**-(l.intercept_[0] + sum(l.coef_[0][i]*x**(i+1) for i in range(49))))\n",
    "\n",
    "\n",
    "plotting_range = list(np.arange((mu - 2*sigma), (mu + 2*sigma), 0.1))\n",
    "fitted = [logit(x) for x in plotting_range]\n",
    "print fitted\n",
    "\n",
    "plt.plot(plotting_range, [logit(x) for x in plotting_range])\n",
    "plt.show()\n"
   ]
  },
  {
   "cell_type": "code",
   "execution_count": 21,
   "metadata": {
    "collapsed": false
   },
   "outputs": [
    {
     "name": "stdout",
     "output_type": "stream",
     "text": [
      "164 164 164\n",
      "[87 53 52 51 50 80 46 54 45 42 41 40 39 75 37 86 36 55 57 74 73 72 70 69 68\n",
      " 56 67 64 62 61 78 59 79 65 35 38 81  5  8  9 10 11  4 14 15 34 17 84 19  7\n",
      " 21 20  6 85 31 24 25 82 27 22 28  1 30 44 12 32 63 83 47 16  3 48 29 77 76\n",
      " 13 71 43 33 18 60 66  0 23 49 58  2 26]\n",
      "88 88 88\n",
      "[ 0.65        0.93333333  0.84166667  0.64285714  0.25        0.69666667\n",
      "  0.34722222  0.25        0.75        0.33846154  0.58333333  0.375\n",
      "  0.53220612  0.66666667  0.33333333  0.53333333  0.55178571  0.5         0.75\n",
      "  0.66666667]\n",
      "[ 0.0125      0.01777778  0.0225      0.04251701  0.125       0.04648889\n",
      "  0.12133488  0.1875      0.0625      0.15136095  0.09722222  0.171875\n",
      "  0.13548676  0.11111111  0.22222222  0.16        0.15983099  0.25        0.1875\n",
      "  0.22222222]\n",
      "[ 0.008125    0.01659259  0.0189375   0.02733236  0.03125     0.03238726\n",
      "  0.04213017  0.046875    0.046875    0.05122986  0.05671296  0.06445312\n",
      "  0.07210688  0.07407407  0.07407407  0.08533333  0.08819246  0.125\n",
      "  0.140625    0.14814815]\n"
     ]
    },
    {
     "data": {
      "image/png": "[encoded data removed]",
      "text/plain": [
       "<matplotlib.figure.Figure at 0x7f23c9a21ed0>"
      ]
     },
     "metadata": {},
     "output_type": "display_data"
    }
   ],
   "source": [
    "xs_mean = [np.mean(mv.lex_e) for mv in data_all.moves]\n",
    "xs_var = [np.var(mv.lex_e) for mv in data_all.moves]\n",
    "\n",
    "ys = [1 if y == 1 else 0 for y in data_all.get_succs()]\n",
    "\n",
    "print len(xs_mean), len(xs_var), len(ys)\n",
    "\n",
    "filtered_xs_mean, filtered_xs_var, filtered_ys = list(zip(*[(x_m, x_v, y) for x_m, x_v, y in zip(xs_mean, xs_var, ys) \n",
    "                                                              if (not np.isnan(x_m) and not np.isnan(x_v))]))\n",
    "\n",
    "idx = np.argsort([m*v for m, v in zip(filtered_xs_mean, filtered_xs_var)])\n",
    "\n",
    "print idx\n",
    "\n",
    "sorted_xs_mean = np.asarray([filtered_xs_mean[i] for i in list(idx)])\n",
    "sorted_xs_var = np.asarray([filtered_xs_var[i] for i in list(idx)])\n",
    "sorted_ys = np.asarray([filtered_ys[i] for i in list(idx)])\n",
    "\n",
    "print len(sorted_xs_mean), len(sorted_xs_var), len(sorted_ys)\n",
    "\n",
    "print sorted_xs_mean[-20:]\n",
    "print sorted_xs_var[-20:]\n",
    "print (sorted_xs_mean*sorted_xs_var)[-20:]\n",
    "\n",
    "f, (ax1, ax2, ax3) = plt.subplots(1, 3, figsize=(20,5))\n",
    "ax1.plot(sorted_xs_mean, sorted_ys, 'x')\n",
    "ax2.plot(sorted_xs_var, sorted_ys, 'x')\n",
    "ax3.plot((sorted_xs_mean*sorted_xs_var), sorted_ys, 'x')\n",
    "plt.show()\n"
   ]
  },
  {
   "cell_type": "code",
   "execution_count": 31,
   "metadata": {
    "collapsed": false,
    "scrolled": false
   },
   "outputs": [
    {
     "name": "stdout",
     "output_type": "stream",
     "text": [
      "[[-0.76661227  0.          0.        ]]\n",
      "[ 0.40436624]\n",
      "[0.59973624220600064, 0.5812008659964123, 0.56243339478255128]\n"
     ]
    },
    {
     "data": {
      "image/png": "[encoded data removed]",
      "text/plain": [
       "<matplotlib.figure.Figure at 0x7f23c9730d50>"
      ]
     },
     "metadata": {},
     "output_type": "display_data"
    }
   ],
   "source": [
    "x_terms_mean = [sorted_xs_mean**i for i in range(1, 2)]\n",
    "x_terms_mean = np.asarray(x_terms_mean).T\n",
    "\n",
    "x_terms_var = [sorted_xs_var**i for i in range(1, 3)]\n",
    "x_terms_var = np.asarray(x_terms_var).T\n",
    "\n",
    "x_terms = np.concatenate([x_terms_mean, x_terms_var], axis=1)\n",
    "\n",
    "\n",
    "\n",
    "l = LogisticRegression(penalty='l1')\n",
    "l.fit(x_terms, sorted_ys)\n",
    "\n",
    "print l.coef_\n",
    "print l.intercept_\n",
    "\n",
    "logit = lambda x: float(1)/(1+np.e**-(l.intercept_[0] + sum(l.coef_[0][i]*x**(i+1) for i in range(2))))\n",
    "\n",
    "plotting_range = list(np.arange(np.min(sorted_xs_var), np.max(sorted_xs_var), 0.1))\n",
    "fitted = [logit(x) for x in plotting_range]\n",
    "print fitted\n",
    "\n",
    "plt.plot(plotting_range, [logit(x) for x in plotting_range])\n",
    "plt.plot(sorted_xs_mean*sorted_xs_var, sorted_ys, 'o')\n",
    "plt.show()"
   ]
  },
  {
   "cell_type": "code",
   "execution_count": 53,
   "metadata": {
    "collapsed": false
   },
   "outputs": [
    {
     "name": "stdout",
     "output_type": "stream",
     "text": [
      "ß0 + ß1*x + ß2*x^2: [ 0.32733398] [[ 0.        -0.8155307]]\n",
      "ß0 + ß1*x: [ 0.40437158] [[-0.7666288]]\n"
     ]
    }
   ],
   "source": [
    "# model tests\n",
    "# -> likelihood-ratio test for \n",
    "# H0 := the tested predictor is not necessary; H_alt := the tested predictor achieves significantly better fit\n",
    "# justification: none of the parameters of the model are unknown (the parameters are the coefficients of the terms), \n",
    "# so by the Neyman-Pearson, likelihood-ratio has the greatest power (P(reject H0| H1 is true))\n",
    "\n",
    "# ß0 + ß1*x + ß2*x^2\n",
    "x_terms_mean = [sorted_xs_mean**i for i in range(1, 3)]\n",
    "x_terms_mean = np.asarray(x_terms_mean).T\n",
    "\n",
    "l = LogisticRegression(penalty='l1')\n",
    "l.fit(x_terms_mean, sorted_ys)\n",
    "\n",
    "print 'ß0 + ß1*x + ß2*x^2:', l.intercept_, l.coef_\n",
    "\n",
    "# ß0 + ß1*x\n",
    "x_terms_mean = [sorted_xs_mean**i for i in range(1, 2)]\n",
    "x_terms_mean = np.asarray(x_terms_mean).T\n",
    "#x_terms = x_terms_mean[:, 0, np.newaxis]\n",
    "\n",
    "l = LogisticRegression(penalty='l1')\n",
    "l.fit(x_terms_mean, sorted_ys)\n",
    "print 'ß0 + ß1*x:', l.intercept_, l.coef_\n",
    "\n",
    "\n"
   ]
  }
 ],
 "metadata": {
  "kernelspec": {
   "display_name": "Python 2",
   "language": "python",
   "name": "python2"
  },
  "language_info": {
   "codemirror_mode": {
    "name": "ipython",
    "version": 2
   },
   "file_extension": ".py",
   "mimetype": "text/x-python",
   "name": "python",
   "nbconvert_exporter": "python",
   "pygments_lexer": "ipython2",
   "version": "2.7.12"
  }
 },
 "nbformat": 4,
 "nbformat_minor": 2
}
