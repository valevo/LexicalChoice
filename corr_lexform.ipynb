{
 "cells": [
  {
   "cell_type": "code",
   "execution_count": 3,
   "metadata": {
    "collapsed": true
   },
   "outputs": [],
   "source": [
    "import refexps\n",
    "from os import listdir, path\n",
    "from itertools import combinations\n",
    "from collections import defaultdict\n",
    "import numpy as np\n",
    "from scipy import stats\n",
    "import pickle\n"
   ]
  },
  {
   "cell_type": "code",
   "execution_count": 40,
   "metadata": {
    "collapsed": false
   },
   "outputs": [],
   "source": [
    "data_lexical = pickle.load(open('regression_lexical.p'))\n",
    "data_form = pickle.load(open('regression_form.p'))\n",
    "new_lexical = defaultdict(list)\n",
    "new_form = defaultdict(list)\n",
    "\n",
    "keys_lexical = set(data_lexical['alignment e'].keys())\n",
    "values = data_lexical.keys()\n",
    "\n",
    "for k in keys_lexical:\n",
    "    i = 0\n",
    "    for value in values:\n",
    "        if data_lexical[value].has_key(k) and data_form[value].has_key(k):\n",
    "            i += 1\n",
    "    if i == 4:\n",
    "        for value in values:\n",
    "            new_lexical[value].append(data_lexical[value][k])\n",
    "            new_form[value].append(data_form[value][k])\n",
    "pickle.dump(new_lexical, open('restr_regression_lexical.p', 'w'))\n",
    "pickle.dump(new_form, open('restr_regression_form.p', 'w'))"
   ]
  },
  {
   "cell_type": "code",
   "execution_count": 41,
   "metadata": {
    "collapsed": false
   },
   "outputs": [
    {
     "name": "stdout",
     "output_type": "stream",
     "text": [
      "['alignment e', 'coherence p', 'alignment p', 'coherence e']\n",
      "I am happy\n",
      "I am happy\n",
      "I am happy\n",
      "I am happy\n"
     ]
    }
   ],
   "source": [
    "print new_lexical.keys()\n",
    "for value in new_lexical:\n",
    "    j = 0\n",
    "    for x in range(len(new_lexical[value])):\n",
    "        if new_lexical[value][x][1] == new_form[value][x][1]:\n",
    "            j += 1\n",
    "    if j == len(new_lexical[value]):\n",
    "        print 'I am happy'"
   ]
  },
  {
   "cell_type": "code",
   "execution_count": 44,
   "metadata": {
    "collapsed": false
   },
   "outputs": [
    {
     "name": "stdout",
     "output_type": "stream",
     "text": [
      "alignment e\n",
      "(0.27906802331505792, 0.013352050812254596)\n",
      "alignment p\n",
      "(0.11500072527100018, 0.31605769389441718)\n",
      "coherence e\n",
      "(-0.29539812637158191, 0.0086486931329341488)\n",
      "coherence p\n",
      "(-0.22894584471909971, 0.043777508851582256)\n"
     ]
    }
   ],
   "source": [
    "for value in values:\n",
    "    lex = []\n",
    "    for x in new_lexical[value]:\n",
    "        lex.append(x[0])\n",
    "    form = []\n",
    "    for x in new_form[value]:\n",
    "        form.append(x[0])\n",
    "    print value\n",
    "    print stats.pearsonr(lex, form)"
   ]
  },
  {
   "cell_type": "code",
   "execution_count": null,
   "metadata": {
    "collapsed": true
   },
   "outputs": [],
   "source": []
  },
  {
   "cell_type": "code",
   "execution_count": null,
   "metadata": {
    "collapsed": true
   },
   "outputs": [],
   "source": []
  }
 ],
 "metadata": {
  "kernelspec": {
   "display_name": "Python [conda root]",
   "language": "python",
   "name": "conda-root-py"
  },
  "language_info": {
   "codemirror_mode": {
    "name": "ipython",
    "version": 2
   },
   "file_extension": ".py",
   "mimetype": "text/x-python",
   "name": "python",
   "nbconvert_exporter": "python",
   "pygments_lexer": "ipython2",
   "version": "2.7.12"
  }
 },
 "nbformat": 4,
 "nbformat_minor": 1
}
