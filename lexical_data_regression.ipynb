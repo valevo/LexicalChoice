{
 "cells": [
  {
   "cell_type": "code",
   "execution_count": 2,
   "metadata": {
    "collapsed": true
   },
   "outputs": [],
   "source": [
    "import refexps\n",
    "from os import listdir, path\n",
    "from itertools import combinations\n",
    "from collections import defaultdict\n",
    "import numpy as np\n",
    "from scipy import stats\n",
    "import pickle\n",
    "\n",
    "dataset_dir = 'Dataset/Push_to_Talk_Corpus/RefExp'\n",
    "success_dir = 'Dataset/Push_to_Talk_Corpus/Success'"
   ]
  },
  {
   "cell_type": "code",
   "execution_count": 3,
   "metadata": {
    "collapsed": false
   },
   "outputs": [],
   "source": [
    "move_level_data = {'alignment e':[], 'alignment p': [], 'coherence e':[], 'coherence p': []}\n",
    "\n",
    "for dialogue in listdir(dataset_dir):\n",
    "    #extract dialogue type\n",
    "    success_file = dialogue.replace('refexps', 'movesuccess')\n",
    "    success_file = path.join(success_dir, success_file)\n",
    "    dialogue = path.join(dataset_dir, dialogue)\n",
    "    #load referring expressions data\n",
    "    dialogue = refexps.load_data(dialogue)\n",
    "    success_moves = refexps.load_data(success_file)\n",
    "    #move level\n",
    "    dialogue_move = refexps.move_level(dialogue)\n",
    "    #iterate over moves\n",
    "    for move in dialogue_move:\n",
    "        values = [[],[],[],[]]\n",
    "        success = success_moves[move[0]]\n",
    "        if success == 'no_video':\n",
    "            continue\n",
    "        refs = move[1]\n",
    "        #iterate over objects\n",
    "        for obj in refs:\n",
    "            #iterate over objects\n",
    "            refobj = refs[obj]\n",
    "            sim_align = []\n",
    "            sim_align_speaker = defaultdict(list)\n",
    "            sim_coherence_speaker = defaultdict(list)\n",
    "            sim_coherence = []\n",
    "            for ref in refobj:\n",
    "                speaker = ref[1]\n",
    "                sim = refexps.lex_sim(ref, refexps.get_previous(ref, refobj))\n",
    "                if sim != 'undefined':\n",
    "                    sim_align.append(sim)\n",
    "                    sim_align_speaker[speaker].append(sim)\n",
    "            if sim_align == []:\n",
    "                sim_align = np.NaN\n",
    "            else:\n",
    "                sim_align = np.mean(sim_align)\n",
    "            comb_ref = combinations(refobj,2)\n",
    "            for comb in comb_ref:\n",
    "                if comb[0] != comb[1]:\n",
    "                    sim = refexps.lex_sim(comb[0], comb[1])\n",
    "                    if sim != 'undefined':\n",
    "                        sim_coherence.append(sim)\n",
    "                        sim_coherence_speaker[comb[0][1]].append(sim)\n",
    "                        sim_coherence_speaker[comb[1][1]].append(sim)\n",
    "            #movelevel coherence and alignment (for each object)\n",
    "            if sim_coherence == []:\n",
    "                sim_coherence = np.NaN\n",
    "            else:\n",
    "                sim_coherence = np.mean(sim_coherence)\n",
    "            for s in sim_align_speaker: \n",
    "                if not np.isnan(np.mean(sim_align_speaker[s])):\n",
    "                    move_level_data['alignment '+ s.replace('-utts', '')].append((np.mean(sim_align_speaker[s]), success))\n",
    "            for s in sim_coherence_speaker:\n",
    "                if not np.isnan(np.mean(sim_coherence_speaker[s])) :\n",
    "                    move_level_data[ 'coherence '+ s.replace('-utts', '')].append((np.mean(sim_coherence_speaker[s]), success))\n",
    "\n",
    "pickle.dump(move_level_data, open('regression_lexical.p', 'w'))"
   ]
  },
  {
   "cell_type": "code",
   "execution_count": null,
   "metadata": {
    "collapsed": false
   },
   "outputs": [],
   "source": []
  },
  {
   "cell_type": "code",
   "execution_count": null,
   "metadata": {
    "collapsed": true
   },
   "outputs": [],
   "source": []
  }
 ],
 "metadata": {
  "anaconda-cloud": {},
  "kernelspec": {
   "display_name": "Python [conda root]",
   "language": "python",
   "name": "conda-root-py"
  },
  "language_info": {
   "codemirror_mode": {
    "name": "ipython",
    "version": 2
   },
   "file_extension": ".py",
   "mimetype": "text/x-python",
   "name": "python",
   "nbconvert_exporter": "python",
   "pygments_lexer": "ipython2",
   "version": "2.7.12"
  }
 },
 "nbformat": 4,
 "nbformat_minor": 1
}
