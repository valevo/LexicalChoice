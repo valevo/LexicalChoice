{
 "cells": [
  {
   "cell_type": "code",
   "execution_count": 13,
   "metadata": {
    "collapsed": false
   },
   "outputs": [
    {
     "name": "stdout",
     "output_type": "stream",
     "text": [
      "Average number of referring expressions per object in a move in PTT: 3.99040767386\t Standard deviation:4.2730435047\n",
      "Average number of referring expressions per object in a game  PTT: 6.47470817121\t Standard deviation:7.23912994404\n",
      "Average number of objects mentioned per move in PTT: 2.0\t Standard deviation:0.0\n",
      "Average number of referring expressions per object in a move in FTT: 4.64937388193\t Standard deviation:5.75611633646\n",
      "Average number of referring expressions per object in a game  FTT: 9.80754716981\t Standard deviation:11.1732809502\n",
      "Average number of objects mentioned per move in FTT: 1.0\t Standard deviation:0.0\n",
      "Average number of referring expressions per object in a move:4.36782786885\t Standard deviation:5.18499468389\n",
      "Average number of referring expressions per object in a game: 8.16666666667\t Standard deviation:9.58931597367\n",
      "Average number of objects mentioned per move: 4.36782786885\t Standard deviation:5.18499468389\n",
      "Average number of objects mentioned per game: 8.16666666667\t Standard deviation:9.58931597367\n"
     ]
    }
   ],
   "source": [
    "import numpy as np\n",
    "import refexps\n",
    "from collections import defaultdict\n",
    "from os import listdir, path\n",
    "\n",
    "dataset_dir = 'Dataset/Push_to_Talk_Corpus/RefExp'\n",
    "\n",
    "exps_object_move = defaultdict(list)\n",
    "exps_object_game = defaultdict(list)\n",
    "object_move = defaultdict(list)\n",
    "object_game = defaultdict(list)\n",
    "\n",
    "for dialogue in listdir(dataset_dir):\n",
    "    dial_type = dialogue[:3]\n",
    "    dialogue = path.join(dataset_dir, dialogue)\n",
    "    dialogue = refexps.load_data(dialogue)\n",
    "    dialogue_move = refexps.move_level(dialogue)\n",
    "    for move in dialogue_move:\n",
    "        refs = move[1]\n",
    "        object_move[dial_type].append(len(refs))\n",
    "        for obj in refs:\n",
    "            exps_object_move[dial_type].append(len(refs[obj]))\n",
    "    dialogue_game = refexps.gamerun_level(dialogue)\n",
    "    object_game[dial_type].append(len(object_game))\n",
    "    for obj in dialogue_game:\n",
    "        exps_object_game[dial_type].append(len(dialogue_game[obj]))\n",
    "for dial_type in exps_object_game:\n",
    "    print 'Average number of referring expressions per object in a move in '+ dial_type+ ': '+ str(np.mean(exps_object_move[dial_type])) + '\\t Standard deviation:' + str(np.std(exps_object_move[dial_type]))\n",
    "    print 'Average number of referring expressions per object in a game  '+ dial_type+ ': '+ str(np.mean(exps_object_game[dial_type])) + '\\t Standard deviation:' + str(np.std(exps_object_game[dial_type]))\n",
    "    print 'Average number of objects mentioned per move in '  + dial_type+ ': '+ str(np.mean(object_game[dial_type])) + '\\t Standard deviation:' + str(np.std(object_game[dial_type]))\n",
    "exps_obj_move_all = exps_object_move['PTT'] + exps_object_move['FTT']\n",
    "exps_obj_game_all = exps_object_game['PTT']+ exps_object_game['FTT']\n",
    "obj_move_all = exps_object_move['PTT'] + exps_object_move['FTT']\n",
    "obj_game_all = exps_object_game['PTT']+ exps_object_game['FTT']\n",
    "print 'Average number of referring expressions per object in a move:'+ str(np.mean(exps_obj_move_all)) + '\\t Standard deviation:' + str(np.std(exps_obj_move_all))\n",
    "print 'Average number of referring expressions per object in a game: '+ str(np.mean(exps_obj_game_all)) + '\\t Standard deviation:' + str(np.std(exps_obj_game_all))\n",
    "print 'Average number of objects mentioned per move: '+ str(np.mean(obj_move_all)) + '\\t Standard deviation:' + str(np.std(obj_move_all))\n",
    "print 'Average number of objects mentioned per game: '+ str(np.mean(obj_game_all)) + '\\t Standard deviation:' + str(np.std(obj_game_all))"
   ]
  },
  {
   "cell_type": "code",
   "execution_count": null,
   "metadata": {
    "collapsed": true
   },
   "outputs": [],
   "source": []
  },
  {
   "cell_type": "code",
   "execution_count": null,
   "metadata": {
    "collapsed": true
   },
   "outputs": [],
   "source": []
  }
 ],
 "metadata": {
  "anaconda-cloud": {},
  "kernelspec": {
   "display_name": "Python 2",
   "language": "python",
   "name": "python2"
  },
  "language_info": {
   "codemirror_mode": {
    "name": "ipython",
    "version": 2
   },
   "file_extension": ".py",
   "mimetype": "text/x-python",
   "name": "python",
   "nbconvert_exporter": "python",
   "pygments_lexer": "ipython2",
   "version": "2.7.12"
  }
 },
 "nbformat": 4,
 "nbformat_minor": 1
}
