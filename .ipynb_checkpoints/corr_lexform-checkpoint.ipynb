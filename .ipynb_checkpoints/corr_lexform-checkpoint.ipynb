{
 "cells": [
  {
   "cell_type": "code",
   "execution_count": 15,
   "metadata": {
    "collapsed": true
   },
   "outputs": [],
   "source": [
    "import refexps\n",
    "from os import listdir, path\n",
    "from itertools import combinations\n",
    "from collections import defaultdict\n",
    "import numpy as np\n",
    "from scipy import stats\n",
    "import pickle\n"
   ]
  },
  {
   "cell_type": "code",
   "execution_count": 27,
   "metadata": {
    "collapsed": false
   },
   "outputs": [],
   "source": [
    "data_lexical = pickle.load(open('Regression/regression_lexical.p'))\n",
    "data_form = pickle.load(open('Regression/regression_form.p'))\n",
    "new_lexical = defaultdict(list)\n",
    "new_form = defaultdict(list)\n",
    "\n",
    "keys_lexical = set(data_lexical['alignment e'].keys())\n",
    "values = data_lexical.keys()\n",
    "\n",
    "for k in keys_lexical:\n",
    "    i = 0\n",
    "    for value in values:\n",
    "        if data_lexical[value].has_key(k) and data_form[value.replace('coherence', 'variation')].has_key(k):\n",
    "            i += 1\n",
    "    if i == 6:\n",
    "        for value in values:\n",
    "            new_lexical[value].append(data_lexical[value][k])\n",
    "            new_form[value.replace('coherence', 'variation')].append(data_form[value.replace('coherence', 'variation')][k])\n",
    "pickle.dump(new_lexical, open('restr_regression_lexical.p', 'w'))\n",
    "pickle.dump(new_form, open('restr_regression_form.p', 'w'))"
   ]
  },
  {
   "cell_type": "code",
   "execution_count": 29,
   "metadata": {
    "collapsed": false
   },
   "outputs": [
    {
     "name": "stdout",
     "output_type": "stream",
     "text": [
      "['alignment e', 'coherence p', 'coherence', 'alignment p', 'coherence e', 'alignment']\n",
      "I am happy\n",
      "I am happy\n",
      "I am happy\n",
      "I am happy\n",
      "I am happy\n",
      "I am happy\n"
     ]
    }
   ],
   "source": [
    "print new_lexical.keys()\n",
    "for value in new_lexical:\n",
    "    j = 0\n",
    "    for x in range(len(new_lexical[value])):\n",
    "        if new_lexical[value][x][1] == new_form[value.replace('coherence', 'variation')][x][1]:\n",
    "            j += 1\n",
    "    if j == len(new_lexical[value]):\n",
    "        print 'I am happy'"
   ]
  },
  {
   "cell_type": "code",
   "execution_count": 31,
   "metadata": {
    "collapsed": false
   },
   "outputs": [
    {
     "name": "stdout",
     "output_type": "stream",
     "text": [
      "alignment e\n",
      "(0.21986484509669016, 0.076090026083030435)\n",
      "coherence p\n",
      "(-0.36981652052677871, 0.0022420870380453232)\n",
      "coherence\n",
      "(-0.40130111494045911, 0.00083944150644165339)\n",
      "alignment p\n",
      "(0.28847877788898618, 0.018823294742419991)\n",
      "coherence e\n",
      "(-0.45785598442108744, 0.00011089237217890527)\n",
      "alignment\n",
      "(0.31202246451344856, 0.010757773729797269)\n"
     ]
    }
   ],
   "source": [
    "for value in values:\n",
    "    lex = []\n",
    "    for x in new_lexical[value]:\n",
    "        lex.append(x[0])\n",
    "    form = []\n",
    "    for x in new_form[value.replace('coherence', 'variation')]:\n",
    "        form.append(x[0])\n",
    "    print value\n",
    "    print stats.pearsonr(lex, form)"
   ]
  },
  {
   "cell_type": "code",
   "execution_count": null,
   "metadata": {
    "collapsed": true
   },
   "outputs": [],
   "source": []
  },
  {
   "cell_type": "code",
   "execution_count": null,
   "metadata": {
    "collapsed": true
   },
   "outputs": [],
   "source": []
  }
 ],
 "metadata": {
  "kernelspec": {
   "display_name": "Python 2",
   "language": "python",
   "name": "python2"
  },
  "language_info": {
   "codemirror_mode": {
    "name": "ipython",
    "version": 2
   },
   "file_extension": ".py",
   "mimetype": "text/x-python",
   "name": "python",
   "nbconvert_exporter": "python",
   "pygments_lexer": "ipython2",
   "version": "2.7.12"
  }
 },
 "nbformat": 4,
 "nbformat_minor": 1
}
