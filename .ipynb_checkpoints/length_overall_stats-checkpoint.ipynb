{
 "cells": [
  {
   "cell_type": "code",
   "execution_count": 52,
   "metadata": {
    "collapsed": false,
    "scrolled": false
   },
   "outputs": [
    {
     "name": "stdout",
     "output_type": "stream",
     "text": [
      "Number of words per game:\n",
      "_________________________\n",
      "\n",
      "[3519, 3607, 3556, 5143, 5688, 3038, 1596, 3677, 3353, 1776]\n",
      "\n",
      "mean 3495.3\n",
      "\n",
      "std_dev 1198.55296504\n",
      "\n",
      "Minimum length: 1596 , Maximum length: 5688\n"
     ]
    }
   ],
   "source": [
    "import pickle\n",
    "from os import listdir\n",
    "import numpy as np\n",
    "\n",
    "corpus = 'Push_to_Talk_Corpus'\n",
    "\n",
    "dataset = []\n",
    "for name in listdir('Dataset/'+ corpus +'/RefExp/'):\n",
    "    with open(\"Dataset/\"+ corpus +\"/RefExp/\" + name) as handle:\n",
    "        d = dict(pickle.load(handle))\n",
    "        dataset.append(d)\n",
    "            \n",
    "\n",
    "        \n",
    "print 'Number of words per game:' \n",
    "print '_________________________\\n'\n",
    "        \n",
    "keys = [game.keys() for game in dataset]\n",
    "\n",
    "        \n",
    "lengths = [max(d, key=lambda tup: tup[1])[1] for d in dataset]\n",
    "\n",
    "print lengths\n",
    "    \n",
    "mean = np.mean(lengths)\n",
    "\n",
    "print '\\nmean' ,mean\n",
    "\n",
    "std_dev = np.var(lengths)**.5\n",
    "\n",
    "print '\\nstd_dev', std_dev\n",
    "\n",
    "print '\\nMinimum length:', min(lengths), ', Maximum length:', max(lengths)"
   ]
  },
  {
   "cell_type": "code",
   "execution_count": 116,
   "metadata": {
    "collapsed": false
   },
   "outputs": [
    {
     "name": "stdout",
     "output_type": "stream",
     "text": [
      "Number of referring expression per object:\n",
      "_______\n",
      "\n",
      "mean number of ref exps per obj: 96.2941176471\n",
      "std_dev in number of ref exps per obj: 89.2443866786\n"
     ]
    },
    {
     "data": {
      "image/png": "[encoded data removed]",
      "text/plain": [
       "<matplotlib.figure.Figure at 0xc7811d0>"
      ]
     },
     "metadata": {},
     "output_type": "display_data"
    },
    {
     "name": "stdout",
     "output_type": "stream",
     "text": [
      "[('1', 307), ('10', 61), ('11', 50), ('12', 52), ('1i/7u', 1), ('2', 115), ('3', 239), ('4', 84), ('4i/6u', 1), ('5', 218), ('5u/1i', 1), ('6', 101), ('7', 133), ('7i/10u', 1), ('8', 64), ('9', 179), ('99', 30)]\n"
     ]
    }
   ],
   "source": [
    "# data dict structure\n",
    "# {(start_i, end_i):{speaker:{obj_id:{ref_type:[refs_exp_ls]}}}}\n",
    "\n",
    "from collections import defaultdict\n",
    "\n",
    "corpus = 'Push_to_Talk_Corpus'\n",
    "\n",
    "dataset = []\n",
    "for name in listdir('Dataset/'+ corpus +'/RefExp/'):\n",
    "    with open(\"Dataset/\"+ corpus +\"/RefExp/\" + name) as handle:\n",
    "        d = dict(pickle.load(handle))\n",
    "        dataset.append(d)\n",
    "\n",
    "#print dataset[0]\n",
    "\n",
    "print 'Number of referring expression per object:'\n",
    "print '_______\\n'\n",
    "\n",
    "objects = [obj_dict.keys() for d in dataset for speaker_dict in d.values() for obj_dict in speaker_dict.values()]\n",
    "\n",
    "# something's wrong here\n",
    "object_ref_exp_list = ([(obj, len(type_dict.values()[0])) for d in dataset for speaker_dict in d.values()\n",
    "                                        for obj_dict in speaker_dict.values() for obj, type_dict in obj_dict.iteritems()])\n",
    "\n",
    "object_ref_dict = defaultdict(int)\n",
    "\n",
    "for obj, count in object_ref_exp_list:\n",
    "    object_ref_dict[obj] += count\n",
    "\n",
    "#print 'total number of ref exps:', sum(object_ref_dict.values())\n",
    "print 'mean number of ref exps per obj:', np.mean(object_ref_dict.values())\n",
    "print 'std_dev in number of ref exps per obj:', np.var(object_ref_dict.values())**.5\n",
    "\n",
    "\n",
    "import matplotlib.pyplot as plt\n",
    "%matplotlib inline\n",
    "\n",
    "objs, counts = list(zip(*sorted(object_ref_dict.iteritems(), key=lambda tup: tup[1], reverse=True)))\n",
    "\n",
    "plt.plot(range(len(objs)), counts)\n",
    "plt.xticks(range(len(objs)), objs)\n",
    "plt.show()\n",
    "\n",
    "print sorted(object_ref_dict.iteritems())"
   ]
  },
  {
   "cell_type": "code",
   "execution_count": 169,
   "metadata": {
    "collapsed": false
   },
   "outputs": [
    {
     "name": "stdout",
     "output_type": "stream",
     "text": [
      "Mean of lengths:  2.76057254392\n",
      "Std_dev of lengths:  3.03802519241\n"
     ]
    },
    {
     "data": {
      "image/png": "[encoded data removed]",
      "text/plain": [
       "<matplotlib.figure.Figure at 0xb146da0>"
      ]
     },
     "metadata": {},
     "output_type": "display_data"
    },
    {
     "data": {
      "image/png": "[encoded data removed]",
      "text/plain": [
       "<matplotlib.figure.Figure at 0xc704048>"
      ]
     },
     "metadata": {},
     "output_type": "display_data"
    },
    {
     "data": {
      "image/png": "[encoded data removed]",
      "text/plain": [
       "<matplotlib.figure.Figure at 0xc94e390>"
      ]
     },
     "metadata": {},
     "output_type": "display_data"
    },
    {
     "name": "stdout",
     "output_type": "stream",
     "text": [
      "[(2, 1070), (1, 1021), (3, 451), (4, 139), (5, 105), (6, 86), (8, 37), (9, 33), (7, 31), (11, 24), (10, 14), (13, 10), (12, 9), (14, 6), (17, 6), (25, 6), (29, 5), (21, 4), (22, 4), (15, 2), (16, 2), (18, 2), (19, 2), (20, 2), (31, 2), (32, 1)]\n",
      "3074\n"
     ]
    }
   ],
   "source": [
    "# data dict structure\n",
    "# {(start_i, end_i):{speaker:{obj_id:{ref_type:[refs_exp_ls]}}}}\n",
    "\n",
    "corpus = 'Push_to_Talk_Corpus'\n",
    "\n",
    "dataset = []\n",
    "for name in listdir('Dataset/'+ corpus +'/RefExp/'):\n",
    "    with open(\"Dataset/\"+ corpus +\"/RefExp/\" + name) as handle:\n",
    "        d = dict(pickle.load(handle))\n",
    "        dataset.append(d)\n",
    "        \n",
    "\n",
    "\n",
    "expressions = [e.values()[0] for d in dataset for speaker_dict in d.values() \n",
    "               for obj_dict in speaker_dict.values() for type_dict in speaker_dict.values() for e in type_dict.values()] \n",
    "\n",
    "get_len = lambda exp_ls: exp_ls[1][1] - exp_ls[1][0] + 1 \n",
    "\n",
    "lens = [e for e_ls in expressions for e in e_ls]\n",
    "    \n",
    "lens = [get_len(e) for e_ls in expressions for e in e_ls]\n",
    "\n",
    "print 'Mean of lengths: ', np.mean(lens)\n",
    "print 'Std_dev of lengths: ', np.var(lens)**.5\n",
    "\n",
    "plt.plot(range(len(lens)), lens, 'x')\n",
    "\n",
    "plt.axis([0, 1500, 1, 10,])\n",
    "\n",
    "plt.show()\n",
    "\n",
    "n, bins, patches = plt.hist(lens, 500, histtype='step', normed=True)\n",
    "plt.show()\n",
    "\n",
    "from collections import Counter\n",
    "\n",
    "len_counts = Counter(lens)\n",
    "\n",
    "\n",
    "ls, l_counts = list(zip(*len_counts.iteritems()))\n",
    "\n",
    "plt.plot(range(len(ls)), l_counts)\n",
    "\n",
    "plt.xticks(range(len(ls)), ls)\n",
    "\n",
    "plt.show()\n",
    "\n",
    "print len_counts.most_common()\n",
    "\n",
    "print sum(len_counts.values())"
   ]
  },
  {
   "cell_type": "code",
   "execution_count": 118,
   "metadata": {
    "collapsed": false,
    "scrolled": false
   },
   "outputs": [
    {
     "name": "stderr",
     "output_type": "stream",
     "text": [
      "C:\\Program Files\\Anaconda\\lib\\site-packages\\ipykernel\\__main__.py:16: RuntimeWarning: divide by zero encountered in log\n",
      "C:\\Program Files\\Anaconda\\lib\\site-packages\\ipykernel\\__main__.py:36: RuntimeWarning: divide by zero encountered in log\n"
     ]
    },
    {
     "data": {
      "image/png": "[encoded data removed]",
      "text/plain": [
       "<matplotlib.figure.Figure at 0xc622cc0>"
      ]
     },
     "metadata": {},
     "output_type": "display_data"
    }
   ],
   "source": [
    "from numpy.random import poisson, zipf\n",
    "from collections import Counter\n",
    "\n",
    "\n",
    "fig = plt.figure(figsize=[10, 10])\n",
    "plot11 = fig.add_subplot(321)\n",
    "plot11.set_title('Length distribution')\n",
    "plot12 = fig.add_subplot(322)\n",
    "plot12.set_title('Poission(1)')\n",
    "plot21 = fig.add_subplot(323)\n",
    "plot21.set_title('Length distribution')\n",
    "plot22 = fig.add_subplot(324)\n",
    "plot22.set_title('Zipf(1)')\n",
    "\n",
    "plot11.plot(range(len(ls)), l_counts)\n",
    "plot21.plot(np.log(range(len(ls))), np.log(l_counts))\n",
    "\n",
    "#plot11.xticks(range(len(ls)), ls)\n",
    "\n",
    "xs = poisson(1, 1000000)\n",
    "\n",
    "x_counts = Counter(xs)\n",
    "\n",
    "x_ls, x_counts = list(zip(*x_counts.iteritems()))\n",
    "\n",
    "plot12.plot(range(len(x_ls)), x_counts)\n",
    "\n",
    "###\n",
    "\n",
    "xs = zipf(2, 1000000)\n",
    "\n",
    "x_counts = Counter(xs)\n",
    "\n",
    "x_ls, x_counts = list(zip(*x_counts.iteritems()))\n",
    "\n",
    "plot22.plot(np.log(range(len(x_ls))), np.log(x_counts))\n",
    "\n",
    "plt.show()"
   ]
  },
  {
   "cell_type": "code",
   "execution_count": 119,
   "metadata": {
    "collapsed": false
   },
   "outputs": [
    {
     "name": "stdout",
     "output_type": "stream",
     "text": [
      "D_KL(emp_dist||Poisson(1)): 1.62956342938\n",
      "D_KL(emp_dist||Zipf(2)): 0.236834132711\n"
     ]
    }
   ],
   "source": [
    "### KL divergence\n",
    "\n",
    "num_expressions = float(sum(l_counts))\n",
    "\n",
    "\n",
    "from math import factorial, e\n",
    "\n",
    "### Empirical length distribution - Poisson(lambda=1)\n",
    "\n",
    "poisson_pdf = lambda length: (1**length)*(e**-1)/factorial(length)\n",
    "\n",
    "emp_pdf = [(length, length_count/num_expressions) for length, length_count in len_counts.iteritems()]\n",
    "\n",
    "kl_emp_poiss = sum(emp_prob*np.log(emp_prob/poisson_pdf(length)) for length, emp_prob in emp_pdf)\n",
    "\n",
    "print 'D_KL(emp_dist||Poisson(1)):', kl_emp_poiss\n",
    "\n",
    "### Empirical length distribution - Zipf(exponent=2, number of different lengths=26)\n",
    "\n",
    "from scipy.special import zeta\n",
    "\n",
    "zipf_pdf = lambda rank: rank**(-2)/zeta(2, 1)\n",
    "\n",
    "emp_rank_pdf = np.asarray(l_counts)/num_expressions\n",
    "\n",
    "kl_emp_zipf = sum(emp_rank_prob*np.log(emp_rank_prob/zipf_pdf(rank+1)) for rank, emp_rank_prob in enumerate(emp_rank_pdf))\n",
    "\n",
    "print 'D_KL(emp_dist||Zipf(2)):', kl_emp_zipf"
   ]
  },
  {
   "cell_type": "code",
   "execution_count": 120,
   "metadata": {
    "collapsed": false
   },
   "outputs": [
    {
     "name": "stdout",
     "output_type": "stream",
     "text": [
      "expression lengths: [1, 2, 3, 4, 5, 6, 7, 8, 9, 10, 11, 12, 13, 14, 15, 16, 17, 18, 19, 20, 21, 22, 25, 29, 31, 32]\n",
      "number of expression lengths: 26\n",
      "expression lengths *not* present: set([0, 23, 24, 26, 27, 28, 30])\n"
     ]
    }
   ],
   "source": [
    "print 'expression lengths:', len_counts.keys()\n",
    "print 'number of expression lengths:', len(len_counts.keys())\n",
    "print 'expression lengths *not* present:', set(range(sorted(len_counts.keys())[-1])) - set(len_counts.keys())"
   ]
  },
  {
   "cell_type": "code",
   "execution_count": 63,
   "metadata": {
    "collapsed": false
   },
   "outputs": [],
   "source": [
    "corpus = 'Push_to_Talk_Corpus'\n",
    "\n",
    "dataset = []\n",
    "for name in listdir('Dataset/'+ corpus +'/RefExp/'):\n",
    "    with open(\"Dataset/\"+ corpus +\"/RefExp/\" + name) as handle:\n",
    "        d = dict(pickle.load(handle))\n",
    "        dataset.append(d)\n",
    "        \n",
    "objects = [obj_dict.keys() for d in dataset for speaker_dict in d.values() for obj_dict in speaker_dict.values()]\n",
    "\n",
    "\n",
    "expressions = [e.values()[0] for d in dataset for speaker_dict in d.values() \n",
    "               for obj_dict in speaker_dict.values() for type_dict in speaker_dict.values() for e in type_dict.values()] \n",
    "\n",
    "\n",
    "expressions1 = [e.values()[0] for _, speaker_dict in sorted(dataset[0].iteritems()) \n",
    "               for obj_dict in speaker_dict.values() for type_dict in speaker_dict.values() for e in type_dict.values()]\n"
   ]
  },
  {
   "cell_type": "code",
   "execution_count": 61,
   "metadata": {
    "collapsed": false,
    "scrolled": true
   },
   "outputs": [],
   "source": [
    "#current: [((a_m, z_m), {speaker: {obj: {type: [(exp, (a_e, z_e), cat)]}}})]\n",
    "#previously: {(start_i, end_i):{speaker:{obj_id:{ref_type:[refs_exp_ls]}}}}\n",
    "\n",
    "from refexps import move_level, get_previous, load_data, extract_info\n",
    "\n",
    "corpus = 'Push_to_Talk_Corpus'\n",
    "\n",
    "dataset = []\n",
    "for name in listdir('Dataset/'+ corpus +'/RefExp/'):\n",
    "    with open(\"Dataset/\"+ corpus +\"/RefExp/\" + name) as handle:\n",
    "        d = pickle.load(handle)\n",
    "        dataset.append(d)\n",
    "\n",
    "\n",
    "        \n",
    "        "
   ]
  },
  {
   "cell_type": "code",
   "execution_count": 203,
   "metadata": {
    "collapsed": false,
    "scrolled": false
   },
   "outputs": [],
   "source": [
    "#current: [((a_m, z_m), {speaker: {obj: {type: [(exp, (a_e, z_e), cat)]}}})]\n",
    "#previously: {(start_i, end_i):{speaker:{obj_id:{ref_type:[refs_exp_ls]}}}}\n",
    "from refexps import move_level, get_previous, load_data, extract_info\n",
    "\n",
    "#bigram construction\n",
    "corpus = 'Push_to_Talk_Corpus'\n",
    "\n",
    "dataset = []\n",
    "for name in listdir('Dataset/'+ corpus +'/RefExp/'):\n",
    "    with open(\"Dataset/\"+ corpus +\"/RefExp/\" + name) as handle:\n",
    "        d = pickle.load(handle)\n",
    "        dataset.append(d)\n",
    "        \n",
    "move_lvl_dataset = [move_level(d) for d in dataset]        \n",
    "        \n",
    "all_prevs = [(exp, get_previous(exp, ref_obj_exp_ls)) for d in move_lvl_dataset for move_span, obj_dict in d \n",
    "                                        for ref_obj_exp_ls in obj_dict.values() for exp in ref_obj_exp_ls]\n",
    "\n",
    "get_exp_len = lambda exp_tup: exp_tup[0][1] - exp_tup[0][0] +1\n",
    "\n",
    "all_prevs_lens = [(get_exp_len(exp), get_exp_len(prev_exp)) for exp, prev_exp in all_prevs if not prev_exp == 'no_previous']\n",
    "\n"
   ]
  },
  {
   "cell_type": "code",
   "execution_count": 204,
   "metadata": {
    "collapsed": false
   },
   "outputs": [
    {
     "name": "stderr",
     "output_type": "stream",
     "text": [
      "C:\\Program Files\\Anaconda\\lib\\site-packages\\ipykernel\\__main__.py:8: RuntimeWarning: divide by zero encountered in log\n"
     ]
    },
    {
     "data": {
      "image/png": "[encoded data removed]",
      "text/plain": [
       "<matplotlib.figure.Figure at 0xccccef0>"
      ]
     },
     "metadata": {},
     "output_type": "display_data"
    },
    {
     "name": "stdout",
     "output_type": "stream",
     "text": [
      "(29, 18)\n"
     ]
    }
   ],
   "source": [
    "# overall bigram stats\n",
    "from collections import Counter\n",
    "\n",
    "all_prevs_counts = Counter(all_prevs_lens)\n",
    "\n",
    "prevs, prevs_counts = list(zip(*all_prevs_counts.most_common()))\n",
    "\n",
    "plt.plot(np.log(range(len(prevs))), np.log(prevs_counts))\n",
    "\n",
    "plt.xticks(range(len(prevs)), prevs)\n",
    "\n",
    "plt.show()\n",
    "\n",
    "print max(all_prevs_lens, key=lambda (exp_len, prev_exp_len): exp_len+prev_exp_len)\n",
    "\n",
    "#n, bins, patches = plt.hist(all_prevs_lens_strs, 200, histtype='step', normed=True)\n",
    "#plt.show()"
   ]
  },
  {
   "cell_type": "code",
   "execution_count": 211,
   "metadata": {
    "collapsed": false
   },
   "outputs": [
    {
     "name": "stdout",
     "output_type": "stream",
     "text": [
      "((2618, 2680), [(((2624, 2626), 'p-utts', u'das gro\\xdfe quadrat', 'def_np'), 'no_previous'), (((2628, 2630), 'p-utts', u'dem einzelnen k\\xe4stchen', 'def_np'), 'no_previous'), (((2624, 2626), 'p-utts', u'das gro\\xdfe quadrat', 'def_np'), 'no_previous'), (((2628, 2630), 'p-utts', u'dem einzelnen k\\xe4stchen', 'def_np'), 'no_previous'), (((2666, 2668), 'e-utts', u'dieses kleine k\\xe4stchen', 'def_np'), ((2628, 2630), 'p-utts', u'dem einzelnen k\\xe4stchen', 'def_np'))])\n",
      "Moves with no pair: 85\n",
      "\tout of moves: 230\n",
      "Mean number of pairs: 3.04782608696\n",
      "\tstd_dev: 4.71006042288\n"
     ]
    }
   ],
   "source": [
    "# per-move bigram construction\n",
    "per_move_prevs = {move_span: [(exp, get_previous(exp, ref_obj_exp_ls)) \n",
    "              for ref_obj_exp_ls in obj_dict.values() for exp in ref_obj_exp_ls] for d in move_lvl_dataset \n",
    "                  for move_span, obj_dict in d}\n",
    "\n",
    "print per_move_prevs.items()[0]\n",
    "\n",
    "get_exp_len = lambda exp_tup: exp_tup[0][1] - exp_tup[0][0] + 1\n",
    "\n",
    "per_move_prevs_lens = {move_span: [(get_exp_len(exp), get_exp_len(prev_exp)) \n",
    "                                   for exp, prev_exp in exp_ls if not prev_exp == 'no_previous'] \n",
    "                      for move_span, exp_ls in per_move_prevs.iteritems()}\n",
    "\n",
    "per_move_num_pairs = [len(ls) for ls in per_move_prevs_lens.values()]\n"
   ]
  },
  {
   "cell_type": "code",
   "execution_count": 213,
   "metadata": {
    "collapsed": false
   },
   "outputs": [
    {
     "name": "stdout",
     "output_type": "stream",
     "text": [
      "Moves with no pair: 85\n",
      "\tout of moves: 230\n",
      "Mean number of pairs: 3.04782608696\n",
      "\tstd_dev: 4.71006042288\n"
     ]
    }
   ],
   "source": [
    "#per-move stats on number of (expression, previous expression)-pairs\n",
    "\n",
    "print 'Moves with no pair:', len([ls for ls in per_move_num_pairs if not ls])\n",
    "print '\\tout of moves:', len(per_move_num_pairs)\n",
    "print 'Mean number of pairs:', np.mean(per_move_num_pairs)\n",
    "print '\\tstd_dev:', np.var(per_move_num_pairs)**.5"
   ]
  },
  {
   "cell_type": "code",
   "execution_count": null,
   "metadata": {
    "collapsed": true
   },
   "outputs": [],
   "source": [
    "#per-move stats\n",
    "\n",
    "\n"
   ]
  }
 ],
 "metadata": {
  "anaconda-cloud": {},
  "kernelspec": {
   "display_name": "Python [Root]",
   "language": "python",
   "name": "Python [Root]"
  },
  "language_info": {
   "codemirror_mode": {
    "name": "ipython",
    "version": 2
   },
   "file_extension": ".py",
   "mimetype": "text/x-python",
   "name": "python",
   "nbconvert_exporter": "python",
   "pygments_lexer": "ipython2",
   "version": "2.7.12"
  }
 },
 "nbformat": 4,
 "nbformat_minor": 0
}
