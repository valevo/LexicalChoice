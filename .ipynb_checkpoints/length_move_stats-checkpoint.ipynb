{
 "cells": [
  {
   "cell_type": "code",
   "execution_count": 28,
   "metadata": {
    "collapsed": true
   },
   "outputs": [],
   "source": [
    "# imports\n",
    "from refexps import move_level, get_previous, load_data, extract_info\n",
    "\n",
    "import pickle\n",
    "from os import listdir\n",
    "\n",
    "import numpy as np\n",
    "from collections import Counter"
   ]
  },
  {
   "cell_type": "code",
   "execution_count": 29,
   "metadata": {
    "collapsed": false
   },
   "outputs": [],
   "source": [
    "#current: [((a_m, z_m), {speaker: {obj: {type: [(exp, (a_e, z_e), cat)]}}})]\n",
    "#previously: {(start_i, end_i):{speaker:{obj_id:{ref_type:[refs_exp_ls]}}}}\n",
    "\n",
    "#bigram construction\n",
    "corpus = 'Push_to_Talk_Corpus'\n",
    "\n",
    "# [PTT_data, FTT_data]\n",
    "dataset = [[], []]\n",
    "for name in listdir('Dataset/'+ corpus +'/RefExp/'):\n",
    "    with open(\"Dataset/\"+ corpus +\"/RefExp/\" + name) as handle:\n",
    "        d = pickle.load(handle)\n",
    "        condition = 0 if name.startswith('PTT') else 1\n",
    "        dataset[condition].append(d)\n",
    "        \n",
    "move_lvl_dataset = [[move_level(d) for d in cond] for cond in dataset]\n",
    "        \n",
    "all_prevs = [[(exp, get_previous(exp, ref_obj_exp_ls)) for d in cond for move_span, obj_dict in d \n",
    "                                        for ref_obj_exp_ls in obj_dict.values() for exp in ref_obj_exp_ls] \n",
    "                                             for cond in move_lvl_dataset]\n",
    "\n",
    "get_exp_len = lambda exp_tup: exp_tup[0][1] - exp_tup[0][0] +1\n",
    "\n",
    "all_prevs_lens = [[(get_exp_len(exp), get_exp_len(prev_exp)) for exp, prev_exp in cond if not prev_exp == 'no_previous']\n",
    "                                                              for cond in all_prevs]\n",
    "\n"
   ]
  },
  {
   "cell_type": "code",
   "execution_count": 30,
   "metadata": {
    "collapsed": false
   },
   "outputs": [
    {
     "name": "stdout",
     "output_type": "stream",
     "text": [
      "((1, 108), [(((51, 52), 'p-utts', 'ein z', 'indef_np'), 'no_previous'), (((51, 52), 'p-utts', 'ein z', 'indef_np'), 'no_previous'), (((56, 57), 'e-utts', \"'n z\", 'indef_np'), ((51, 52), 'p-utts', 'ein z', 'indef_np')), (((51, 52), 'p-utts', 'ein z', 'indef_np'), 'no_previous'), (((51, 52), 'p-utts', 'ein z', 'indef_np'), 'no_previous')])\n"
     ]
    }
   ],
   "source": [
    "# per-move bigram construction\n",
    "per_move_prevs = [{move_span: [(exp, get_previous(exp, ref_obj_exp_ls)) \n",
    "              for ref_obj_exp_ls in obj_dict.values() for exp in ref_obj_exp_ls] for d in cond \n",
    "                  for move_span, obj_dict in d} for cond in move_lvl_dataset]\n",
    "\n",
    "print per_move_prevs[0].items()[0]\n",
    "\n",
    "get_exp_len = lambda exp_tup: exp_tup[0][1] - exp_tup[0][0] + 1\n",
    "\n",
    "per_move_prevs_lens = [{move_span: [(get_exp_len(exp), get_exp_len(prev_exp)) \n",
    "                                   for exp, prev_exp in exp_ls if not prev_exp == 'no_previous'] \n",
    "                      for move_span, exp_ls in cond.iteritems()} for cond in per_move_prevs]\n",
    "\n",
    "per_move_num_pairs = [[len(ls) for ls in cond.values()] for cond in per_move_prevs_lens]"
   ]
  },
  {
   "cell_type": "code",
   "execution_count": 44,
   "metadata": {
    "collapsed": false
   },
   "outputs": [
    {
     "name": "stdout",
     "output_type": "stream",
     "text": [
      "PTT+FTT:\n",
      "Total number of pairs: 701\n",
      "Mean number of pairs: 3.04782608696\n",
      "\tstd_dev: 4.71006042288\n",
      "Moves with no pair: 85\n",
      "\tout of moves: 230\n",
      "--------\n",
      "PTT:\n",
      "Total number of pairs: 279\n",
      "Mean number of pairs: 2.90625\n",
      "\tstd_dev: 4.04422975001\n",
      "Moves with no pair: 36\n",
      "\tout of moves: 96\n",
      "--------\n",
      "FTT:\n",
      "Total number of pairs: 422\n",
      "Mean number of pairs: 3.14925373134\n",
      "\tstd_dev: 5.13185466268\n",
      "Moves with no pair: 49\n",
      "\tout of moves: 134\n"
     ]
    }
   ],
   "source": [
    "#per-move stats on number of (expression, previous expression)-pairs\n",
    "\n",
    "print 'PTT+FTT:'\n",
    "print 'Total number of pairs:', sum(sum(ls for ls in cond) for cond in per_move_num_pairs)\n",
    "print 'Per-move mean number of pairs:', np.mean(per_move_num_pairs[0]+per_move_num_pairs[1])\n",
    "print '\\tstd_dev:', np.var(per_move_num_pairs[0]+per_move_num_pairs[1])**.5\n",
    "print 'Moves with no pair:', sum(len([n for n in cond if not n]) for cond in per_move_num_pairs)\n",
    "print '\\tout of moves:', sum(len(cond) for cond in per_move_num_pairs)\n",
    "print '--------'\n",
    "print 'PTT:'\n",
    "print 'Total number of pairs:', sum(ls for ls in per_move_num_pairs[0])\n",
    "print 'Per-move mean number of pairs:', np.mean(per_move_num_pairs[0])\n",
    "print '\\tstd_dev:', np.var(per_move_num_pairs[0])**.5\n",
    "print 'Moves with no pair:', len([n for n in per_move_num_pairs[0] if not n])\n",
    "print '\\tout of moves:', len(per_move_num_pairs[0])\n",
    "print '--------'\n",
    "print 'FTT:'\n",
    "print 'Total number of pairs:', sum(ls for ls in per_move_num_pairs[1])\n",
    "print 'Per-move mean number of pairs:', np.mean(per_move_num_pairs[1])\n",
    "print '\\tstd_dev:', np.var(per_move_num_pairs[1])**.5\n",
    "print 'Moves with no pair:', len([n for n in per_move_num_pairs[1] if not n])\n",
    "print '\\tout of moves:', len(per_move_num_pairs[1])"
   ]
  },
  {
   "cell_type": "code",
   "execution_count": 42,
   "metadata": {
    "collapsed": false
   },
   "outputs": [
    {
     "name": "stdout",
     "output_type": "stream",
     "text": [
      "422\n"
     ]
    }
   ],
   "source": [
    "# metric of coherence in length of expression and previous - construction\n",
    "\n",
    "coh_metric = lambda e, prev_e: float(e - prev_e)/(e + prev_e)\n",
    "\n",
    "per_move_coh_metrics = [{move_span: [round(coh_metric(exp, prev_exp), 4) for exp, prev_exp in exp_ls] \n",
    "                      for move_span, exp_ls in cond.iteritems()} for cond in per_move_prevs_lens]\n",
    "\n",
    "metric_vals = [[m for metric_ls in cond.values() for m in metric_ls] for cond in per_move_coh_metrics]\n",
    "\n",
    "print sum(len(v) for v in per_move_coh_metrics[1].values())"
   ]
  },
  {
   "cell_type": "code",
   "execution_count": null,
   "metadata": {
    "collapsed": true
   },
   "outputs": [],
   "source": []
  }
 ],
 "metadata": {
  "anaconda-cloud": {},
  "kernelspec": {
   "display_name": "Python [Root]",
   "language": "python",
   "name": "Python [Root]"
  },
  "language_info": {
   "codemirror_mode": {
    "name": "ipython",
    "version": 2
   },
   "file_extension": ".py",
   "mimetype": "text/x-python",
   "name": "python",
   "nbconvert_exporter": "python",
   "pygments_lexer": "ipython2",
   "version": "2.7.12"
  }
 },
 "nbformat": 4,
 "nbformat_minor": 0
}
