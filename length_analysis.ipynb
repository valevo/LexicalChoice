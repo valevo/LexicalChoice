{
 "cells": [
  {
   "cell_type": "code",
   "execution_count": 1,
   "metadata": {
    "collapsed": false
   },
   "outputs": [],
   "source": [
    "import xml.etree.ElementTree as ET\n",
    "from collections import defaultdict\n",
    "from os import path, listdir, makedirs, stat\n",
    "import re\n",
    "import pickle\n",
    "\n",
    "def extract_info(dialogue):\n",
    "    words_tree = ET.parse(path.join(basedata, dialogue + '_words.xml'))\n",
    "    words_root = words_tree.getroot()\n",
    "    words = {}\n",
    "    for word in words_root:\n",
    "        words[int(word.attrib['id'].strip('word_'))] = word.text\n",
    "    #moves\n",
    "    moves_tree = ET.parse(path.join(markables, dialogue + '_move_markables.xml'))\n",
    "    moves_root = moves_tree.getroot()\n",
    "    moves_spans = defaultdict(list)\n",
    "    success_move = {}\n",
    "    i = 0\n",
    "    for move in moves_root:\n",
    "        id_move = move.attrib['span'].replace('word_', '').split('..')\n",
    "        try:\n",
    "            success = move.attrib['move_world']\n",
    "        except:\n",
    "            success = move.attrib['world']\n",
    "        if len(id_move) == 2:\n",
    "            id_move = (int(id_move[0]), int(id_move[1]))\n",
    "        else:\n",
    "            id_move = (int(id_move[0]), int(id_move[0]))\n",
    "        moves_spans[i] = id_move\n",
    "        success_move[id_move] = success\n",
    "        i += 1\n",
    "    utt_tree = ET.parse(path.join(markables, dialogue + '_utterance_markables.xml'))\n",
    "    utts_root = utt_tree.getroot()\n",
    "    utts_speaker = defaultdict(list)\n",
    "    for utt in utts_root:\n",
    "        span =  utt.attrib['span'].replace('word_', '').split('..')\n",
    "        if len(span) == 2:\n",
    "            span = (int(span[0]), int(span[1]))\n",
    "        else:\n",
    "            span = (int(span[0]), int(span[0]))\n",
    "        speaker =  utt.attrib['speaker']\n",
    "        utts_speaker[speaker].append(span)\n",
    "    #associate referring expressions to objects\n",
    "    ref_tree = ET.parse(path.join(markables, dialogue + '_ref_markables.xml'))\n",
    "    refs_root = ref_tree.getroot()\n",
    "    refs_objects = defaultdict(list)\n",
    "    for ref in refs_root:\n",
    "        ref_type = ref.attrib['referent_type']\n",
    "        form =  ref.attrib['form']\n",
    "        span =  ref.attrib['span'].replace('word_', '').split('..')\n",
    "        if len(span) == 2:\n",
    "            span = (int(span[0]), int(span[1]))\n",
    "        else:\n",
    "            span = (int(span[0]), int(span[0]))\n",
    "        try:\n",
    "            item =  ref.attrib['item_id']\n",
    "            refs_objects[item].append((span, form, ref_type))\n",
    "        except:\n",
    "            pass\n",
    "    moves_utt = defaultdict(dict)\n",
    "    for s in utts_speaker:\n",
    "        for utt in utts_speaker[s]:\n",
    "            for m in moves_spans:\n",
    "                if utt[0] >= moves_spans[m][0] and utt[0] <= moves_spans[m][1]:\n",
    "                    if not moves_utt[moves_spans[m]].has_key(s):\n",
    "                        moves_utt[moves_spans[m]][s] = []\n",
    "                    moves_utt[moves_spans[m]][s].append(utt)\n",
    "    moves_ref = defaultdict(dict)\n",
    "    for obj in refs_objects:\n",
    "        speaker = ''\n",
    "        move = ''\n",
    "        for ref in refs_objects[obj]:\n",
    "            word_span = ref[0]\n",
    "            for m in moves_utt:\n",
    "                for s in moves_utt[m]:\n",
    "                    for utt in moves_utt[m][s]:\n",
    "                        if word_span[0] >= utt[0] and word_span[0] <= utt[1]:\n",
    "                            speaker = s\n",
    "                            move = m\n",
    "                            if not moves_ref[move].has_key(speaker):\n",
    "                                moves_ref[move][speaker] = {}\n",
    "                            if not moves_ref[move][speaker].has_key(obj):\n",
    "                                moves_ref[move][speaker][obj] = []\n",
    "                            moves_ref[move][speaker][obj].append(ref)\n",
    "                            break\n",
    "    moves_ref_words = defaultdict(dict)\n",
    "    for m in moves_ref:\n",
    "        for s in moves_ref[m]:\n",
    "            for o in moves_ref[m][s]:\n",
    "                for ref in moves_ref[m][s][o]:\n",
    "                    span = ref[0]\n",
    "                    form = ref[1]\n",
    "                    ref_type = ref[2]\n",
    "                    if len(span) == 1:\n",
    "                        exp = words[span[0]]\n",
    "                    else:\n",
    "                        exp = ''\n",
    "                        i = span[0]\n",
    "                        while i <= span[1]:\n",
    "                            if i != span[1]:\n",
    "                                exp += words[i] + ' '\n",
    "                            else:\n",
    "                                exp += words[i]\n",
    "                            i += 1\n",
    "                    if not moves_ref_words[m].has_key(s):\n",
    "                        moves_ref_words[m][s] = {}\n",
    "                    if not moves_ref_words[m][s].has_key(o):\n",
    "                        moves_ref_words[m][s][o] = {}\n",
    "                    if not moves_ref_words[m][s][o].has_key(ref_type):\n",
    "                        moves_ref_words[m][s][o][ref_type] = []\n",
    "                    #remove hesitations, and internal tags\n",
    "                    exp = re.sub(r'<.*>', '', exp)\n",
    "                    exp = re.sub(r'</.*>', '', exp)\n",
    "                    exp = re.sub(r'\\(.*\\)', '', exp)\n",
    "                    exp = re.sub(r'[\\(\\)\\[\\]\\.]','', exp)\n",
    "                    exp = exp.lower()\n",
    "                    exp_sp = exp.split(' ')\n",
    "                    if len(exp_sp) == 1 and exp.endswith(\"'s\"):\n",
    "                        exp = exp.replace(\"'s\", '')\n",
    "                    moves_ref_words[m][s][o][ref_type].append((exp, span, form))\n",
    "            for t in moves_ref_words[m][s][o]:\n",
    "                moves_ref_words[m][s][o][t] = sorted(moves_ref_words[m][s][o][ref_type], key=lambda tup: tup[1][0])\n",
    "    return moves_ref_words, success_move\n",
    "\n"
   ]
  },
  {
   "cell_type": "code",
   "execution_count": 15,
   "metadata": {
    "collapsed": false
   },
   "outputs": [
    {
     "name": "stdout",
     "output_type": "stream",
     "text": [
      "['Push_to_Talk_Corpus']\n",
      "FTT_2006-02-13pair1\n",
      "FTT_2006-03-27Pair1\n",
      "FTT_2006-03-28pair2\n",
      "FTT_2006-06-22pair1\n",
      "FTT_2006-06-22pair2\n",
      "PTT_2006-02-13pair2a\n",
      "PTT_2006-03-27Pair2a\n",
      "PTT_2006-03-27pair3a\n",
      "PTT_2006-03-28pair1\n",
      "PTT_2006-06-22pair3a\n"
     ]
    }
   ],
   "source": [
    "#associate word ids to words\n",
    "\n",
    "data_folder = 'PentoCorpora'\n",
    "games = listdir(data_folder)\n",
    "games = ['Push_to_Talk_Corpus']\n",
    "print games\n",
    "for g in games:\n",
    "    folder = path.join(data_folder, g)\n",
    "    basedata = path.join(folder, 'Basedata')\n",
    "    markables = path.join(folder,'Markables')\n",
    "    dialogues = []\n",
    "    output_folder = g.replace('/', '.')\n",
    "    output_folder = path.join('Dataset', output_folder)\n",
    "    for doc in listdir(basedata):\n",
    "        if doc.endswith('_words.xml'):\n",
    "            dialogue = doc.replace('_words.xml', '')\n",
    "            dialogues.append(dialogue)\n",
    "    try:\n",
    "        stat(output_folder)\n",
    "    except:\n",
    "        makedirs(output_folder)\n",
    "    try:\n",
    "        stat(output_folder+ '/RefExp')\n",
    "    except:\n",
    "        makedirs(output_folder+ '/RefExp')\n",
    "    try:\n",
    "        stat(output_folder+ '/Success')\n",
    "    except:\n",
    "        makedirs(output_folder+ '/Success')\n",
    "    for d in dialogues:\n",
    "        try: \n",
    "            r, s = extract_info(d)\n",
    "            pickle.dump(r, open( path.join(output_folder + '/RefExp', d + \"_refexps.p\"), \"wb\" ) )\n",
    "            pickle.dump(s, open( path.join(output_folder + '/Success', d + \"_movesuccess.p\"), \"wb\" ) )\n",
    "            print d\n",
    "        except:\n",
    "            pass"
   ]
  },
  {
   "cell_type": "code",
   "execution_count": 16,
   "metadata": {
    "collapsed": false
   },
   "outputs": [
    {
     "data": {
      "text/plain": [
       "['FTT_2006-02-13pair1_refexps.p',\n",
       " 'FTT_2006-03-27Pair1_refexps.p',\n",
       " 'FTT_2006-03-28pair2_refexps.p',\n",
       " 'FTT_2006-06-22pair1_refexps.p',\n",
       " 'FTT_2006-06-22pair2_refexps.p',\n",
       " 'PTT_2006-02-13pair2a_refexps.p',\n",
       " 'PTT_2006-03-27Pair2a_refexps.p',\n",
       " 'PTT_2006-03-27pair3a_refexps.p',\n",
       " 'PTT_2006-03-28pair1_refexps.p',\n",
       " 'PTT_2006-06-22pair3a_refexps.p']"
      ]
     },
     "execution_count": 16,
     "metadata": {},
     "output_type": "execute_result"
    }
   ],
   "source": [
    "listdir('Dataset/Push_to_Talk_Corpus/RefExp/')"
   ]
  },
  {
   "cell_type": "code",
   "execution_count": 25,
   "metadata": {
    "collapsed": false,
    "scrolled": false
   },
   "outputs": [
    {
     "name": "stdout",
     "output_type": "stream",
     "text": [
      "Number of words per game:\n",
      "_________________________\n",
      "\n",
      "[3519, 3607, 3556, 5143, 5688, 3038, 1596, 3677, 3353, 1776]\n",
      "\n",
      "\n",
      "mean 3495.3\n",
      "\n",
      "\n",
      "std_dev 1198.55296504\n",
      "\n",
      "\n"
     ]
    }
   ],
   "source": [
    "import numpy as np\n",
    "\n",
    "corpus = 'Push_to_Talk_Corpus'\n",
    "\n",
    "dataset = []\n",
    "for name in listdir('Dataset/'+ corpus +'/RefExp/'):\n",
    "    with open(\"Dataset/\"+ corpus +\"/RefExp/\" + name) as handle:\n",
    "        d = pickle.load(handle)\n",
    "        dataset.append(d)\n",
    "            \n",
    "\n",
    "        \n",
    "print 'Number of words per game:' \n",
    "print '_________________________\\n'\n",
    "        \n",
    "keys = [game.keys() for game in dataset]\n",
    "\n",
    "        \n",
    "lengths = [max(d, key=lambda tup: tup[1])[1] for d in dataset]\n",
    "\n",
    "print lengths\n",
    "    \n",
    "print '\\n'\n",
    "\n",
    "mean = np.mean(lengths)\n",
    "\n",
    "print 'mean' ,mean\n",
    "\n",
    "print '\\n'\n",
    "\n",
    "std_dev = np.var(lengths)**.5\n",
    "\n",
    "print 'std_dev', std_dev"
   ]
  },
  {
   "cell_type": "code",
   "execution_count": 112,
   "metadata": {
    "collapsed": false
   },
   "outputs": [
    {
     "name": "stdout",
     "output_type": "stream",
     "text": [
      "Objects:\n",
      "_______\n",
      "\n",
      "total: 4263\n",
      "mean: 250.764705882\n",
      "std_dev: 248.259477495\n"
     ]
    },
    {
     "data": {
      "image/png": "[encoded data removed]",
      "text/plain": [
       "<matplotlib.figure.Figure at 0x3fc3da0>"
      ]
     },
     "metadata": {},
     "output_type": "display_data"
    },
    {
     "name": "stdout",
     "output_type": "stream",
     "text": [
      "[('1', 902), ('10', 151), ('11', 97), ('12', 104), ('1i/7u', 1), ('2', 261), ('3', 568), ('4', 253), ('4i/6u', 1), ('5', 532), ('5u/1i', 1), ('6', 303), ('7', 461), ('7i/10u', 1), ('8', 159), ('9', 438), ('99', 30)]\n"
     ]
    }
   ],
   "source": [
    "# data dict structure\n",
    "# {(start_i, end_i):{speaker:{obj_id:{ref_type:[refs_exp_ls]}}}}\n",
    "\n",
    "from collections import defaultdict\n",
    "\n",
    "corpus = 'Push_to_Talk_Corpus'\n",
    "\n",
    "dataset = []\n",
    "for name in listdir('Dataset/'+ corpus +'/RefExp/'):\n",
    "    with open(\"Dataset/\"+ corpus +\"/RefExp/\" + name) as handle:\n",
    "        d = pickle.load(handle)\n",
    "        dataset.append(d)\n",
    "\n",
    "#print dataset[0]\n",
    "\n",
    "print 'Objects:'\n",
    "print '_______\\n'\n",
    "\n",
    "objects = [obj_dict.keys() for d in dataset for speaker_dict in d.values() for obj_dict in speaker_dict.values()]\n",
    "\n",
    "\n",
    "object_ref_exp_list = ([(obj, sum(len(v) for v in type_dict.values())) for d in dataset for speaker_dict in d.values()\n",
    "                                        for obj_dict in speaker_dict.values() for obj, type_dict in obj_dict.iteritems()])\n",
    "\n",
    "d = defaultdict(int)\n",
    "\n",
    "for obj, count in object_ref_exp_list:\n",
    "    d[obj] += count\n",
    "\n",
    "print 'total:', sum(d.values())\n",
    "print 'mean:', np.mean(d.values())\n",
    "print 'std_dev:', np.var(d.values())**.5\n",
    "\n",
    "\n",
    "import matplotlib.pyplot as plt\n",
    "%matplotlib inline\n",
    "\n",
    "objs, counts = list(zip(*sorted(d.iteritems(), key=lambda tup: tup[1], reverse=True)))\n",
    "\n",
    "plt.plot(range(len(objs)), counts)\n",
    "plt.xticks(range(len(objs)), objs)\n",
    "plt.show()\n",
    "\n",
    "print sorted(d.iteritems())"
   ]
  },
  {
   "cell_type": "code",
   "execution_count": 264,
   "metadata": {
    "collapsed": false
   },
   "outputs": [
    {
     "name": "stdout",
     "output_type": "stream",
     "text": [
      "mean lens:  2.76057254392\n",
      "var lens:  9.22959706972\n"
     ]
    },
    {
     "data": {
      "image/png": "[encoded data removed]",
      "text/plain": [
       "<matplotlib.figure.Figure at 0xd0ddda0>"
      ]
     },
     "metadata": {},
     "output_type": "display_data"
    },
    {
     "data": {
      "image/png": "[encoded data removed]",
      "text/plain": [
       "<matplotlib.figure.Figure at 0x9a75198>"
      ]
     },
     "metadata": {},
     "output_type": "display_data"
    },
    {
     "name": "stdout",
     "output_type": "stream",
     "text": [
      "[(2, 1070), (1, 1021), (3, 451), (4, 139), (5, 105), (6, 86), (8, 37), (9, 33), (7, 31), (11, 24), (10, 14), (13, 10), (12, 9), (14, 6), (17, 6), (25, 6), (29, 5), (21, 4), (22, 4), (15, 2), (16, 2), (18, 2), (19, 2), (20, 2), (31, 2), (32, 1)]\n",
      "3074\n"
     ]
    },
    {
     "data": {
      "image/png": "[encoded data removed]",
      "text/plain": [
       "<matplotlib.figure.Figure at 0xcf2acf8>"
      ]
     },
     "metadata": {},
     "output_type": "display_data"
    }
   ],
   "source": [
    "# data dict structure\n",
    "# {(start_i, end_i):{speaker:{obj_id:{ref_type:[refs_exp_ls]}}}}\n",
    "\n",
    "corpus = 'Push_to_Talk_Corpus'\n",
    "\n",
    "dataset = []\n",
    "for name in listdir('Dataset/'+ corpus +'/RefExp/'):\n",
    "    with open(\"Dataset/\"+ corpus +\"/RefExp/\" + name) as handle:\n",
    "        d = pickle.load(handle)\n",
    "        dataset.append(d)\n",
    "        \n",
    "\n",
    "\n",
    "expressions = [e.values()[0] for d in dataset for speaker_dict in d.values() \n",
    "               for obj_dict in speaker_dict.values() for type_dict in speaker_dict.values() for e in type_dict.values()] \n",
    "\n",
    "#unique_types = set(t for t_ls in types for t in t_ls)\n",
    "\n",
    "#print expressions\n",
    "\n",
    "get_len = lambda exp_ls: exp_ls[1][1] - exp_ls[1][0] + 1 \n",
    "\n",
    "#get_len = lambda exp_ls: exp_ls[0]\n",
    "\n",
    "lens = [get_len(e) for e_ls in expressions for e in e_ls]\n",
    "\n",
    "print 'mean lens: ', np.mean(lens)\n",
    "print 'var lens: ', np.var(lens)\n",
    "\n",
    "\n",
    "\n",
    "#print lens\n",
    "\n",
    "plt.plot(range(len(lens)), lens, 'x')\n",
    "\n",
    "plt.axis([0, 1500, 1, 10,])\n",
    "\n",
    "plt.show()\n",
    "\n",
    "#[(2, 1070), (1, 1021), \n",
    "#(3, 451), \n",
    "#(4, 139), (5, 105), (6, 86), \n",
    "#(8, 37), (9, 33), (7, 31), (11, 24), \n",
    "#(10, 14), (13, 10), (12, 9), \n",
    "#(14, 6), (17, 6), (25, 6), (29, 5), (21, 4), (22, 4), \n",
    "#(15, 2), (16, 2), (18, 2), (19, 2), (20, 2), (31, 2), (32, 1)]\n",
    "#bins = [2, 3, 6, 10, 13, 19, 26]\n",
    "\n",
    "n, bins, patches = plt.hist(lens, 500, histtype='step')#, normed=True)\n",
    "plt.show()\n",
    "\n",
    "from collections import Counter\n",
    "\n",
    "len_counts = Counter(lens)\n",
    "\n",
    "print len_counts.most_common()\n",
    "\n",
    "ls, l_counts = list(zip(*len_counts.iteritems()))\n",
    "\n",
    "print sum(l_counts)\n",
    "\n",
    "plt.plot(range(len(ls)), l_counts)\n",
    "\n",
    "plt.xticks(range(len(ls)), ls)\n",
    "\n",
    "plt.show()"
   ]
  },
  {
   "cell_type": "code",
   "execution_count": 265,
   "metadata": {
    "collapsed": false,
    "scrolled": false
   },
   "outputs": [
    {
     "name": "stderr",
     "output_type": "stream",
     "text": [
      "C:\\Program Files\\Anaconda\\lib\\site-packages\\ipykernel\\__main__.py:16: RuntimeWarning: divide by zero encountered in log\n",
      "C:\\Program Files\\Anaconda\\lib\\site-packages\\ipykernel\\__main__.py:36: RuntimeWarning: divide by zero encountered in log\n"
     ]
    },
    {
     "data": {
      "image/png": "[encoded data removed]",
      "text/plain": [
       "<matplotlib.figure.Figure at 0x7f379e8>"
      ]
     },
     "metadata": {},
     "output_type": "display_data"
    }
   ],
   "source": [
    "from numpy.random import poisson, zipf\n",
    "from collections import Counter\n",
    "\n",
    "\n",
    "fig = plt.figure(figsize=[10, 10])\n",
    "plot11 = fig.add_subplot(321)\n",
    "plot11.set_title('Length distribution')\n",
    "plot12 = fig.add_subplot(322)\n",
    "plot12.set_title('Poission(1)')\n",
    "plot21 = fig.add_subplot(323)\n",
    "plot21.set_title('Length distribution')\n",
    "plot22 = fig.add_subplot(324)\n",
    "plot22.set_title('Zipf(1)')\n",
    "\n",
    "plot11.plot(range(len(ls)), l_counts)\n",
    "plot21.plot(np.log(range(len(ls))), np.log(l_counts))\n",
    "\n",
    "#plot11.xticks(range(len(ls)), ls)\n",
    "\n",
    "xs = poisson(1, 1000000)\n",
    "\n",
    "x_counts = Counter(xs)\n",
    "\n",
    "x_ls, x_counts = list(zip(*x_counts.iteritems()))\n",
    "\n",
    "plot12.plot(range(len(x_ls)), x_counts)\n",
    "\n",
    "###\n",
    "\n",
    "xs = zipf(2, 1000000)\n",
    "\n",
    "x_counts = Counter(xs)\n",
    "\n",
    "x_ls, x_counts = list(zip(*x_counts.iteritems()))\n",
    "\n",
    "plot22.plot(np.log(range(len(x_ls))), np.log(x_counts))\n",
    "\n",
    "plt.show()"
   ]
  },
  {
   "cell_type": "code",
   "execution_count": 338,
   "metadata": {
    "collapsed": false
   },
   "outputs": [
    {
     "name": "stdout",
     "output_type": "stream",
     "text": [
      "D_KL(emp_dist||Poisson(1)): 1.62956342938\n",
      "D_KL(emp_dist||Zipf(2)): 0.236834132711\n"
     ]
    }
   ],
   "source": [
    "### KL divergence\n",
    "\n",
    "num_expressions = float(sum(l_counts))\n",
    "\n",
    "\n",
    "from math import factorial, e\n",
    "\n",
    "### Empirical length distribution - Poisson(lambda=1)\n",
    "\n",
    "poisson_pdf = lambda length: (1**length)*(e**-1)/factorial(length)\n",
    "\n",
    "emp_pdf = [(length, length_count/num_expressions) for length, length_count in len_counts.iteritems()]\n",
    "\n",
    "kl_emp_poiss = sum(emp_prob*np.log(emp_prob/poisson_pdf(length)) for length, emp_prob in emp_pdf)\n",
    "\n",
    "print 'D_KL(emp_dist||Poisson(1)):', kl_emp_poiss\n",
    "\n",
    "### Empirical length distribution - Zipf(exponent=2, number of different lengths=26)\n",
    "\n",
    "from scipy.special import zeta\n",
    "\n",
    "zipf_pdf = lambda rank: rank**(-2)/zeta(2, 1)\n",
    "\n",
    "emp_rank_pdf = np.asarray(l_counts)/num_expressions\n",
    "\n",
    "kl_emp_zipf = sum(emp_rank_prob*np.log(emp_rank_prob/zipf_pdf(rank+1)) for rank, emp_rank_prob in enumerate(emp_rank_pdf))\n",
    "\n",
    "print 'D_KL(emp_dist||Zipf(2)):', kl_emp_zipf"
   ]
  },
  {
   "cell_type": "code",
   "execution_count": 277,
   "metadata": {
    "collapsed": false
   },
   "outputs": [
    {
     "name": "stdout",
     "output_type": "stream",
     "text": [
      "expression lengths: [1, 2, 3, 4, 5, 6, 7, 8, 9, 10, 11, 12, 13, 14, 15, 16, 17, 18, 19, 20, 21, 22, 25, 29, 31, 32]\n",
      "number of expression lengths: 26\n",
      "expression lengths *not* present: set([0, 23, 24, 26, 27, 28, 30])\n"
     ]
    }
   ],
   "source": [
    "print 'expression lengths:', len_counts.keys()\n",
    "print 'number of expression lengths:', len(len_counts.keys())\n",
    "print 'expression lengths *not* present:', set(range(sorted(len_counts.keys())[-1])) - set(len_counts.keys())"
   ]
  },
  {
   "cell_type": "code",
   "execution_count": 349,
   "metadata": {
    "collapsed": false
   },
   "outputs": [
    {
     "name": "stdout",
     "output_type": "stream",
     "text": [
      "[((20, 1010), {'p-utts': {'1': {'part_of_piece': [(u'das lange st\\xfcck', (207, 209), 'def_np'), (u'das lange st\\xfcck', (220, 222), 'def_np'), (u\"der eine fu\\xdf von dem s oder z oder was auch immer's is\", (181, 193), 'def_np'), ('der', (237, 237), 'pronoun'), (u'der fu\\xdf', (234, 235), 'def_np'), (u'dis kurze st\\xfcck , was nach unten guckt', (436, 443), 'def_np'), (u'diesem einzelst\\xfcck', (547, 548), 'def_np'), ('ein einzelnes teilchen', (628, 630), 'indef_np'), ('das', (678, 678), 'pronoun'), ('ein einzelnes', (675, 676), 'def_np'), (u'vier am st\\xfcck', (634, 636), 'quant_np'), ('die drei teile', (704, 706), 'def_np'), (u'das einzelne st\\xfcck links', (710, 713), 'def_np'), ('die drei', (697, 698), 'quant_np'), ('dieses einzelne teil , was nach unten guckt', (763, 770), 'def_np'), ('das einzelne nach rechts:', (719, 722), 'def_np'), ('diese drei teile:', (752, 754), 'quant_np'), ('die rechte seite von unserm s', (911, 916), 'def_np')], 'comp_piece': [(\"'n s\", (34, 35), 'indef_np'), (\"'n z\", (172, 173), 'indef_np'), (\"das s is quasi nich wie man's schreibt , sondern wie 'n z\", (78, 90), 'comp_sent')], 'location': [('auf dem bauch von dem elefanten', (243, 248), 'pp'), ('nur bauch und noch eins weiter nach rechts', (364, 371), 'quant_np'), (u'in den fu\\xdf reingeht', (446, 449), 'pp'), ('eins nach rechts', (498, 500), 'quant_np'), ('eins nach rechts', (467, 469), 'quant_np'), (u'eins h\\xf6her', (463, 464), 'quant_np')], 'desc_piece': [(\"das sieht aus wie 'n s\", (30, 35), 'attribution_sent'), (u'das s-teil sieht so aus , dass is ein einzelnes teilchen hat , dann vier am st\\xfcck im rechten winkel', (620, 639), 'attribution_sent')], 'piece': [(u\"einem st\\xfcck , das sieht aus wie 'n s\", (27, 35), 'indef_np'), ('es', (73, 73), 'pronoun'), ('das', (67, 67), 'pronoun'), ('dem s oder z', (185, 188), 'def_np'), ('', (308, 308), 'pronoun'), (\"'is\", (431, 431), 'pronoun'), ('dis', (383, 383), 'pronoun'), (u'schlie\\xdft', (480, 480), 'pronoun'), ('legste', (462, 462), 'pronoun'), ('das', (30, 30), 'pronoun'), ('das s-teil', (620, 621), 'def_np'), ('is', (627, 627), 'pronoun'), (u'dem st\\xfcck', (615, 616), 'def_np'), (\"'is\", (693, 693), 'pronoun'), ('unserm s', (915, 916), 'def_np'), ('dem s', (991, 992), 'def_np')]}, '2': {'piece': [('das zweite', (1000, 1001), 'def_np')]}}, 'e-utts': {'1': {'part_of_piece': [(\"eins , was aussieht wie'n s\", (57, 62), 'indef_np'), ('soll', (168, 168), 'pronoun'), ('dis', (228, 228), 'pronoun'), ('das s', (278, 279), 'def_np'), ('is', (296, 296), 'pronoun'), ('du', (313, 313), 'pronoun'), ('dis', (323, 323), 'pronoun'), ('dis teil', (513, 514), 'def_np'), ('dieses s-teil', (580, 581), 'def_np'), ('das richtige s-teil', (589, 591), 'def_np'), ('eins', (601, 601), 'pronoun'), (\"eins , was aussieht wie'n s\", (601, 606), 'pronoun'), ('dem s', (956, 957), 'def_np')], 'comp_piece': [(\"eins , was aussieht wie'n s\", (57, 62), 'indef_np'), ('soll', (168, 168), 'pronoun'), ('dis', (228, 228), 'pronoun'), ('das s', (278, 279), 'def_np'), ('is', (296, 296), 'pronoun'), ('du', (313, 313), 'pronoun'), ('dis', (323, 323), 'pronoun'), ('dis teil', (513, 514), 'def_np'), ('dieses s-teil', (580, 581), 'def_np'), ('das richtige s-teil', (589, 591), 'def_np'), ('eins', (601, 601), 'pronoun'), (\"eins , was aussieht wie'n s\", (601, 606), 'pronoun'), ('dem s', (956, 957), 'def_np')], 'location': [(\"eins , was aussieht wie'n s\", (57, 62), 'indef_np'), ('soll', (168, 168), 'pronoun'), ('dis', (228, 228), 'pronoun'), ('das s', (278, 279), 'def_np'), ('is', (296, 296), 'pronoun'), ('du', (313, 313), 'pronoun'), ('dis', (323, 323), 'pronoun'), ('dis teil', (513, 514), 'def_np'), ('dieses s-teil', (580, 581), 'def_np'), ('das richtige s-teil', (589, 591), 'def_np'), ('eins', (601, 601), 'pronoun'), (\"eins , was aussieht wie'n s\", (601, 606), 'pronoun'), ('dem s', (956, 957), 'def_np')], 'desc_piece': [(\"eins , was aussieht wie'n s\", (57, 62), 'indef_np'), ('soll', (168, 168), 'pronoun'), ('dis', (228, 228), 'pronoun'), ('das s', (278, 279), 'def_np'), ('is', (296, 296), 'pronoun'), ('du', (313, 313), 'pronoun'), ('dis', (323, 323), 'pronoun'), ('dis teil', (513, 514), 'def_np'), ('dieses s-teil', (580, 581), 'def_np'), ('das richtige s-teil', (589, 591), 'def_np'), ('eins', (601, 601), 'pronoun'), (\"eins , was aussieht wie'n s\", (601, 606), 'pronoun'), ('dem s', (956, 957), 'def_np')], 'piece': [(\"eins , was aussieht wie'n s\", (57, 62), 'indef_np'), ('soll', (168, 168), 'pronoun'), ('dis', (228, 228), 'pronoun'), ('das s', (278, 279), 'def_np'), ('is', (296, 296), 'pronoun'), ('du', (313, 313), 'pronoun'), ('dis', (323, 323), 'pronoun'), ('dis teil', (513, 514), 'def_np'), ('dieses s-teil', (580, 581), 'def_np'), ('das richtige s-teil', (589, 591), 'def_np'), ('eins', (601, 601), 'pronoun'), (\"eins , was aussieht wie'n s\", (601, 606), 'pronoun'), ('dem s', (956, 957), 'def_np')]}}})]\n",
      "-------------------------------------------------------------------\n",
      "[[(u'das lange st\\xfcck', (207, 209), 'def_np'), (u'das lange st\\xfcck', (220, 222), 'def_np'), (u\"der eine fu\\xdf von dem s oder z oder was auch immer's is\", (181, 193), 'def_np'), ('der', (237, 237), 'pronoun'), (u'der fu\\xdf', (234, 235), 'def_np'), (u'dis kurze st\\xfcck , was nach unten guckt', (436, 443), 'def_np'), (u'diesem einzelst\\xfcck', (547, 548), 'def_np'), ('ein einzelnes teilchen', (628, 630), 'indef_np'), ('das', (678, 678), 'pronoun'), ('ein einzelnes', (675, 676), 'def_np'), (u'vier am st\\xfcck', (634, 636), 'quant_np'), ('die drei teile', (704, 706), 'def_np'), (u'das einzelne st\\xfcck links', (710, 713), 'def_np'), ('die drei', (697, 698), 'quant_np'), ('dieses einzelne teil , was nach unten guckt', (763, 770), 'def_np'), ('das einzelne nach rechts:', (719, 722), 'def_np'), ('diese drei teile:', (752, 754), 'quant_np'), ('die rechte seite von unserm s', (911, 916), 'def_np')], [('das zweite', (1000, 1001), 'def_np')], [(\"eins , was aussieht wie'n s\", (57, 62), 'indef_np'), ('soll', (168, 168), 'pronoun'), ('dis', (228, 228), 'pronoun'), ('das s', (278, 279), 'def_np'), ('is', (296, 296), 'pronoun'), ('du', (313, 313), 'pronoun'), ('dis', (323, 323), 'pronoun'), ('dis teil', (513, 514), 'def_np'), ('dieses s-teil', (580, 581), 'def_np'), ('das richtige s-teil', (589, 591), 'def_np'), ('eins', (601, 601), 'pronoun'), (\"eins , was aussieht wie'n s\", (601, 606), 'pronoun'), ('dem s', (956, 957), 'def_np')], [(u'das lange st\\xfcck', (207, 209), 'def_np'), (u'das lange st\\xfcck', (220, 222), 'def_np'), (u\"der eine fu\\xdf von dem s oder z oder was auch immer's is\", (181, 193), 'def_np'), ('der', (237, 237), 'pronoun'), (u'der fu\\xdf', (234, 235), 'def_np'), (u'dis kurze st\\xfcck , was nach unten guckt', (436, 443), 'def_np'), (u'diesem einzelst\\xfcck', (547, 548), 'def_np'), ('ein einzelnes teilchen', (628, 630), 'indef_np'), ('das', (678, 678), 'pronoun'), ('ein einzelnes', (675, 676), 'def_np'), (u'vier am st\\xfcck', (634, 636), 'quant_np'), ('die drei teile', (704, 706), 'def_np'), (u'das einzelne st\\xfcck links', (710, 713), 'def_np'), ('die drei', (697, 698), 'quant_np'), ('dieses einzelne teil , was nach unten guckt', (763, 770), 'def_np'), ('das einzelne nach rechts:', (719, 722), 'def_np'), ('diese drei teile:', (752, 754), 'quant_np'), ('die rechte seite von unserm s', (911, 916), 'def_np')], [('das zweite', (1000, 1001), 'def_np')], [(\"eins , was aussieht wie'n s\", (57, 62), 'indef_np'), ('soll', (168, 168), 'pronoun'), ('dis', (228, 228), 'pronoun'), ('das s', (278, 279), 'def_np'), ('is', (296, 296), 'pronoun'), ('du', (313, 313), 'pronoun'), ('dis', (323, 323), 'pronoun'), ('dis teil', (513, 514), 'def_np'), ('dieses s-teil', (580, 581), 'def_np'), ('das richtige s-teil', (589, 591), 'def_np'), ('eins', (601, 601), 'pronoun'), (\"eins , was aussieht wie'n s\", (601, 606), 'pronoun'), ('dem s', (956, 957), 'def_np')], [('nummer drei', (1099, 1100), 'def_np')], [(\"in 'n kopf von dem elefanten\", (1035, 1040), 'pp'), ('an den hinterkopf', (1046, 1048), 'pp')], [('an den hinterkopf', (1050, 1052), 'pp')], [('nummer drei', (1099, 1100), 'def_np')], [(\"in 'n kopf von dem elefanten\", (1035, 1040), 'pp'), ('an den hinterkopf', (1046, 1048), 'pp')], [('an den hinterkopf', (1050, 1052), 'pp')], [(u'dem dreierst\\xfcck', (1156, 1157), 'def_np'), (u'dis l\\xe4ngere st\\xfcck', (1162, 1164), 'def_np'), ('die drei kanten , die rauszeigen', (1184, 1189), 'quant_np')], [(\"das erste teil , was wir reingelegt hab'n\", (1203, 1210), 'def_np')], [('meine treppe', (1178, 1179), 'def_np'), (\"'is\", (1201, 1201), 'pronoun')], [(u'dem dreierst\\xfcck', (1156, 1157), 'def_np'), (u'dis l\\xe4ngere st\\xfcck', (1162, 1164), 'def_np'), ('die drei kanten , die rauszeigen', (1184, 1189), 'quant_np')], [(\"das erste teil , was wir reingelegt hab'n\", (1203, 1210), 'def_np')], [('meine treppe', (1178, 1179), 'def_np'), (\"'is\", (1201, 1201), 'pronoun')], [('nummer vier', (1240, 1241), 'def_np'), ('das', (1245, 1245), 'pronoun'), ('der', (1264, 1264), 'pronoun'), ('dis', (1267, 1267), 'pronoun')], [('dem s-teil', (1567, 1568), 'def_np')], [('die treppe', (1530, 1531), 'def_np')], [('das', (1349, 1349), 'pronoun'), (u'das einzelne st\\xfcck , das so senkrecht nach oben guckt', (1335, 1344), 'def_np'), ('diese spitze , die rausguckt', (1410, 1414), 'def_np'), ('einen einzelnen auswuchs', (1310, 1312), 'indef_np')], [('einen win-', (1641, 1642), 'indef_np')], [('das s-teil', (1550, 1551), 'def_np')], [('die treppe', (1536, 1537), 'def_np'), ('diese treppe', (1500, 1501), 'def_np')], [('kann', (1460, 1460), 'pronoun'), ('ich', (1472, 1472), 'pronoun'), ('das', (1497, 1497), 'pronoun'), ('dis', (1506, 1506), 'pronoun')], [('dem s-teil', (1567, 1568), 'def_np')], [('die treppe', (1530, 1531), 'def_np')], [('das', (1349, 1349), 'pronoun'), (u'das einzelne st\\xfcck , das so senkrecht nach oben guckt', (1335, 1344), 'def_np'), ('diese spitze , die rausguckt', (1410, 1414), 'def_np'), ('einen einzelnen auswuchs', (1310, 1312), 'indef_np')], [('einen win-', (1641, 1642), 'indef_np')], [('das s-teil', (1550, 1551), 'def_np')], [('die treppe', (1536, 1537), 'def_np'), ('diese treppe', (1500, 1501), 'def_np')], [('kann', (1460, 1460), 'pronoun'), ('ich', (1472, 1472), 'pronoun'), ('das', (1497, 1497), 'pronoun'), ('dis', (1506, 1506), 'pronoun')], [('die treppe', (1730, 1731), 'def_np')], [('unser hinterbein , das rechte bein', (1718, 1723), 'def_np'), ('an die treppe', (1729, 1731), 'pp')], [('dem untersten teil von der treppe', (1799, 1804), 'def_np')], [('is', (1738, 1738), 'pronoun'), ('das', (1745, 1745), 'pronoun'), ('kann', (1780, 1780), 'pronoun'), ('is', (1790, 1790), 'pronoun')], [('die treppe', (1730, 1731), 'def_np')], [('unser hinterbein , das rechte bein', (1718, 1723), 'def_np'), ('an die treppe', (1729, 1731), 'pp')], [('dem untersten teil von der treppe', (1799, 1804), 'def_np')], [('is', (1738, 1738), 'pronoun'), ('das', (1745, 1745), 'pronoun'), ('kann', (1780, 1780), 'pronoun'), ('is', (1790, 1790), 'pronoun')], [('deine treppe', (1809, 1810), 'def_np'), ('die treppe', (1922, 1923), 'def_np'), ('geht', (1949, 1949), 'pronoun'), ('es', (1977, 1977), 'pronoun'), (u'dieses st\\xfcck', (1986, 1987), 'def_np'), ('dis m', (2018, 2019), 'def_np'), ('tut', (2035, 2035), 'pronoun'), ('dieses m', (2047, 2048), 'def_np'), ('es', (2064, 2064), 'pronoun'), ('es', (2171, 2171), 'pronoun')], [(u'zwei st\\xfccke senkrecht', (1843, 1845), 'quant_np'), ('eins nach links', (1848, 1850), 'quant_np'), ('eins nach oben', (1854, 1856), 'quant_np'), ('eins nach links', (1859, 1861), 'quant_np'), ('eins', (1870, 1870), 'pronoun'), (u\"eins , dis 'is 'n eckst\\xfcck\", (1878, 1883), 'indef_np'), ('eins nach links', (1887, 1889), 'indef_np'), ('eins nach oben', (1894, 1896), 'indef_np'), ('eins nach links', (1899, 1901), 'indef_np')], [('deine treppe', (1809, 1810), 'def_np'), ('die treppe', (1922, 1923), 'def_np'), ('geht', (1949, 1949), 'pronoun'), ('es', (1977, 1977), 'pronoun'), (u'dieses st\\xfcck', (1986, 1987), 'def_np'), ('dis m', (2018, 2019), 'def_np'), ('tut', (2035, 2035), 'pronoun'), ('dieses m', (2047, 2048), 'def_np'), ('es', (2064, 2064), 'pronoun'), ('es', (2171, 2171), 'pronoun')], [(u'zwei st\\xfccke senkrecht', (1843, 1845), 'quant_np'), ('eins nach links', (1848, 1850), 'quant_np'), ('eins nach oben', (1854, 1856), 'quant_np'), ('eins nach links', (1859, 1861), 'quant_np'), ('eins', (1870, 1870), 'pronoun'), (u\"eins , dis 'is 'n eckst\\xfcck\", (1878, 1883), 'indef_np'), ('eins nach links', (1887, 1889), 'indef_np'), ('eins nach oben', (1894, 1896), 'indef_np'), ('eins nach links', (1899, 1901), 'indef_np')], [('dieses z', (2190, 2191), 'def_np'), ('das', (2193, 2193), 'pronoun'), ('das z', (2184, 2185), 'def_np')], [('die spitze von dem m', (2203, 2207), 'def_np')], [('z', (2384, 2384), 'def_np'), ('dis z vom anfang', (2363, 2366), 'def_np'), ('dis z', (2281, 2282), 'def_np')], [('m', (2382, 2382), 'def_np'), ('unser m', (2288, 2289), 'def_np')], [('dieses quadrat', (2368, 2369), 'def_np')], [('dis', (2272, 2272), 'pronoun')], [('dis z', (2345, 2346), 'def_np')], [('vom m', (2348, 2349), 'other')], [('dem was nach oben rauszeigt', (2265, 2269), 'def_np'), ('dieses quadrat', (2353, 2354), 'def_np')], [('das l', (2225, 2226), 'def_np')], [('z', (2384, 2384), 'def_np'), ('dis z vom anfang', (2363, 2366), 'def_np'), ('dis z', (2281, 2282), 'def_np')], [('m', (2382, 2382), 'def_np'), ('unser m', (2288, 2289), 'def_np')], [('dieses quadrat', (2368, 2369), 'def_np')], [('dis', (2272, 2272), 'pronoun')], [('dis z', (2345, 2346), 'def_np')], [('vom m', (2348, 2349), 'other')], [('dem was nach oben rauszeigt', (2265, 2269), 'def_np'), ('dieses quadrat', (2353, 2354), 'def_np')], [('das l', (2225, 2226), 'def_np')], [('dem z', (2439, 2440), 'def_np')], [('das m', (2465, 2466), 'def_np'), ('m', (2474, 2474), 'def_np')], [('auf dem z', (2438, 2440), 'pp'), ('am m entlang', (2473, 2475), 'pp')], [('dieses z', (2523, 2524), 'def_np')], [('das m', (2632, 2633), 'def_np'), ('das m', (2623, 2624), 'def_np'), ('dis m', (2526, 2527), 'def_np')], [('ich', (2503, 2503), 'pronoun'), ('dem rausstehenden teil oben', (2568, 2571), 'def_np'), ('vier quadraten', (2581, 2582), 'quant_np'), ('einem', (2584, 2584), 'pronoun'), ('eine dreierreihe', (2592, 2593), 'indef_np'), ('eine zweierreihe', (2595, 2596), 'indef_np')], [('dem z', (2439, 2440), 'def_np')], [('das m', (2465, 2466), 'def_np'), ('m', (2474, 2474), 'def_np')], [('auf dem z', (2438, 2440), 'pp'), ('am m entlang', (2473, 2475), 'pp')], [('dieses z', (2523, 2524), 'def_np')], [('das m', (2632, 2633), 'def_np'), ('das m', (2623, 2624), 'def_np'), ('dis m', (2526, 2527), 'def_np')], [('ich', (2503, 2503), 'pronoun'), ('dem rausstehenden teil oben', (2568, 2571), 'def_np'), ('vier quadraten', (2581, 2582), 'quant_np'), ('einem', (2584, 2584), 'pronoun'), ('eine dreierreihe', (2592, 2593), 'indef_np'), ('eine zweierreihe', (2595, 2596), 'indef_np')], [('dis m', (2690, 2691), 'def_np'), ('dis m', (2757, 2758), 'def_np'), ('dis', (2765, 2765), 'pronoun'), ('dis', (2777, 2777), 'pronoun'), ('dis m', (2783, 2784), 'def_np'), ('dis', (2787, 2787), 'pronoun'), ('', (2794, 2794), 'pronoun'), ('dis', (2815, 2815), 'pronoun')], [('die letzten zwei quadrate', (2740, 2743), 'def_np')], [('dis m', (2690, 2691), 'def_np'), ('dis m', (2757, 2758), 'def_np'), ('dis', (2765, 2765), 'pronoun'), ('dis', (2777, 2777), 'pronoun'), ('dis m', (2783, 2784), 'def_np'), ('dis', (2787, 2787), 'pronoun'), ('', (2794, 2794), 'pronoun'), ('dis', (2815, 2815), 'pronoun')], [('die letzten zwei quadrate', (2740, 2743), 'def_np')], [('das quadrat mit dem', (2882, 2885), 'def_np')], [('die dreierreihe von dem quadrat', (2894, 2898), 'def_np')], [('dem quadrat', (2897, 2898), 'def_np')], [('das quadrat mit dem', (2882, 2885), 'def_np')], [('die dreierreihe von dem quadrat', (2894, 2898), 'def_np')], [('dem quadrat', (2897, 2898), 'def_np')], [('dis', (2926, 2926), 'pronoun')], [('dieses l', (2920, 2921), 'def_np')], [('dis', (2926, 2926), 'pronoun')], [('dieses l', (2920, 2921), 'def_np')], [('die zwei einzelnen zu unserm z', (2984, 2989), 'quant_np')], [(u'so was treppen\\xe4hnliches', (2951, 2953), 'def_np'), ('dis', (2955, 2955), 'pronoun'), ('dis', (2973, 2973), 'pronoun'), (u'fu\\xdf', (3073, 3073), 'def_np')], [('dem z', (3069, 3070), 'def_np')], [('dis', (3010, 3010), 'pronoun'), ('diesem treppenteil', (3030, 3031), 'def_np')], [('die zwei einzelnen zu unserm z', (2984, 2989), 'quant_np')], [(u'so was treppen\\xe4hnliches', (2951, 2953), 'def_np'), ('dis', (2955, 2955), 'pronoun'), ('dis', (2973, 2973), 'pronoun'), (u'fu\\xdf', (3073, 3073), 'def_np')], [('dem z', (3069, 3070), 'def_np')], [('dis', (3010, 3010), 'pronoun'), ('diesem treppenteil', (3030, 3031), 'def_np')], [('dis', (3114, 3114), 'pronoun'), ('dis', (3090, 3090), 'pronoun'), ('dis', (3105, 3105), 'pronoun')], [('ein von diesen sternzacken', (3115, 3118), 'quant_np')], [('ein hufeisen', (3097, 3098), 'indef_np')], [('dis', (3114, 3114), 'pronoun'), ('dis', (3090, 3090), 'pronoun'), ('dis', (3105, 3105), 'pronoun')], [('ein von diesen sternzacken', (3115, 3118), 'quant_np')], [('ein hufeisen', (3097, 3098), 'indef_np')], [(\"'n mittelres teil nach oben\", (3205, 3209), 'indef_np'), (\"'n haken links nach unten\", (3198, 3202), 'indef_np'), (\"'n einzelnes teil nach oben\", (3193, 3197), 'indef_np'), (\"so 'n haken nach unten\", (3182, 3186), 'indef_np'), ('dis einzelteil in der mitte', (3250, 3254), 'def_np'), ('dis einzelne teil', (3287, 3289), 'def_np'), ('drei senkrecht', (3246, 3247), 'quant_np')], [('unser quadrat', (3385, 3386), 'def_np')], [(u'dem winkelteil , was ma da in den vorderfu\\xdf gelegt ham', (3327, 3337), 'def_np'), ('diese treppe', (3350, 3351), 'def_np')], [('dis teil , was rechts rausguckt', (3375, 3380), 'def_np'), ('die senkrechte dreierreihe', (3360, 3362), 'def_np')], [('der dreierreihe von dem winkelteil', (3365, 3369), 'def_np')], [(\"'n mittelres teil nach oben\", (3205, 3209), 'indef_np'), (\"'n haken links nach unten\", (3198, 3202), 'indef_np'), (\"'n einzelnes teil nach oben\", (3193, 3197), 'indef_np'), (\"so 'n haken nach unten\", (3182, 3186), 'indef_np'), ('dis einzelteil in der mitte', (3250, 3254), 'def_np'), ('dis einzelne teil', (3287, 3289), 'def_np'), ('drei senkrecht', (3246, 3247), 'quant_np')], [('unser quadrat', (3385, 3386), 'def_np')], [(u'dem winkelteil , was ma da in den vorderfu\\xdf gelegt ham', (3327, 3337), 'def_np'), ('diese treppe', (3350, 3351), 'def_np')], [('dis teil , was rechts rausguckt', (3375, 3380), 'def_np'), ('die senkrechte dreierreihe', (3360, 3362), 'def_np')], [('der dreierreihe von dem winkelteil', (3365, 3369), 'def_np')], [(u'in den rechten hinterfu\\xdf', (3443, 3446), 'pp')], [(u'in den vorderfu\\xdf', (3490, 3492), 'pp')], [('in dis noch freie feld', (3512, 3516), 'pp')]]\n"
     ]
    }
   ],
   "source": [
    "corpus = 'Push_to_Talk_Corpus'\n",
    "\n",
    "dataset = []\n",
    "for name in listdir('Dataset/'+ corpus +'/RefExp/'):\n",
    "    with open(\"Dataset/\"+ corpus +\"/RefExp/\" + name) as handle:\n",
    "        d = pickle.load(handle)\n",
    "        dataset.append(d)\n",
    "        \n",
    "objects = [obj_dict.keys() for d in dataset for speaker_dict in d.values() for obj_dict in speaker_dict.values()]\n",
    "\n",
    "\n",
    "expressions = [e.values()[0] for d in dataset for speaker_dict in d.values() \n",
    "               for obj_dict in speaker_dict.values() for type_dict in speaker_dict.values() for e in type_dict.values()] \n",
    "\n",
    "\n",
    "print sorted(dataset[0].iteritems())[:1]\n",
    "\n",
    "expressions1 = [e.values()[0] for _, speaker_dict in sorted(dataset[0].iteritems()) \n",
    "               for obj_dict in speaker_dict.values() for type_dict in speaker_dict.values() for e in type_dict.values()]\n",
    "\n",
    "print '-------------------------------------------------------------------'\n",
    "\n",
    "print expressions1"
   ]
  }
 ],
 "metadata": {
  "anaconda-cloud": {},
  "kernelspec": {
   "display_name": "Python [Root]",
   "language": "python",
   "name": "Python [Root]"
  },
  "language_info": {
   "codemirror_mode": {
    "name": "ipython",
    "version": 2
   },
   "file_extension": ".py",
   "mimetype": "text/x-python",
   "name": "python",
   "nbconvert_exporter": "python",
   "pygments_lexer": "ipython2",
   "version": "2.7.12"
  }
 },
 "nbformat": 4,
 "nbformat_minor": 0
}
